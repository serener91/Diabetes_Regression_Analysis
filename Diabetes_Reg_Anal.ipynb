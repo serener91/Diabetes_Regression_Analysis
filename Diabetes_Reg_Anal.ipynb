{
  "nbformat": 4,
  "nbformat_minor": 0,
  "metadata": {
    "colab": {
      "name": "Diabetes_Reg_Anal.ipynb",
      "provenance": [],
      "collapsed_sections": [],
      "toc_visible": true
    },
    "kernelspec": {
      "name": "python3",
      "display_name": "Python 3"
    },
    "language_info": {
      "name": "python"
    }
  },
  "cells": [
    {
      "cell_type": "markdown",
      "source": [
        "# Diabetes Prediction via a Regression Analysis\n",
        "\n",
        "* By. Gukhwan Hyun"
      ],
      "metadata": {
        "id": "KNSF3KPfoe8x"
      }
    },
    {
      "cell_type": "markdown",
      "source": [
        "# Packages"
      ],
      "metadata": {
        "id": "8PdrL10Qopxj"
      }
    },
    {
      "cell_type": "code",
      "execution_count": null,
      "metadata": {
        "id": "9_Kvezd5uv7H"
      },
      "outputs": [],
      "source": [
        "import pandas as pd\n",
        "import numpy as np\n",
        "import matplotlib.pyplot as plt\n",
        "import seaborn as sns\n",
        "import zipfile\n",
        "\n",
        "import statsmodels.api as sm\n",
        "from statsmodels.formula.api import ols\n",
        "from statsmodels.stats.outliers_influence import variance_inflation_factor, OLSInfluence\n",
        "import scipy.stats"
      ]
    },
    {
      "cell_type": "code",
      "source": [
        "# !sudo apt-get install -y fonts-nanum\n",
        "# !sudo fc-cache -fv\n",
        "# !rm ~/.cache/matplotlib -rf\n",
        "plt.rc('font', family='NanumBarunGothic') "
      ],
      "metadata": {
        "id": "gjYJRL2eSb-X"
      },
      "execution_count": null,
      "outputs": []
    },
    {
      "cell_type": "code",
      "source": [
        "# path_to_zip_file = '/content/drive/MyDrive/Data Science/국민건강보험공단_건강검진정보_20201231.zip'\n",
        "# directory_to_extract_to = '/content/drive/MyDrive/Data Science/physicals'\n",
        "\n",
        "# with zipfile.ZipFile(path_to_zip_file, 'r') as zip_ref:\n",
        "#     zip_ref.extractall(directory_to_extract_to)"
      ],
      "metadata": {
        "id": "GcwEWjpkuzNB"
      },
      "execution_count": null,
      "outputs": []
    },
    {
      "cell_type": "markdown",
      "source": [
        "# Load the dataset\n",
        "  * skipped a single data due to an error"
      ],
      "metadata": {
        "id": "oVzpzobZor-5"
      }
    },
    {
      "cell_type": "code",
      "source": [
        "dataset = pd.read_csv('/content/drive/MyDrive/Data Science/physicals/SCR_2019_1백만20210119수정.csv', \n",
        "                      encoding='cp949',\n",
        "                      error_bad_lines=False)\n",
        "dataset"
      ],
      "metadata": {
        "id": "B8XqbImFvc1q",
        "colab": {
          "base_uri": "https://localhost:8080/",
          "height": 927
        },
        "outputId": "e72b5ba4-f8d0-4fd6-8e60-19738062fcfe"
      },
      "execution_count": null,
      "outputs": [
        {
          "output_type": "stream",
          "name": "stderr",
          "text": [
            "b'Skipping line 175683: expected 34 fields, saw 36\\n'\n"
          ]
        },
        {
          "output_type": "execute_result",
          "data": {
            "text/html": [
              "<div>\n",
              "<style scoped>\n",
              "    .dataframe tbody tr th:only-of-type {\n",
              "        vertical-align: middle;\n",
              "    }\n",
              "\n",
              "    .dataframe tbody tr th {\n",
              "        vertical-align: top;\n",
              "    }\n",
              "\n",
              "    .dataframe thead th {\n",
              "        text-align: right;\n",
              "    }\n",
              "</style>\n",
              "<table border=\"1\" class=\"dataframe\">\n",
              "  <thead>\n",
              "    <tr style=\"text-align: right;\">\n",
              "      <th></th>\n",
              "      <th>기준년도</th>\n",
              "      <th>가입자 일련번호</th>\n",
              "      <th>시도코드</th>\n",
              "      <th>성별코드</th>\n",
              "      <th>연령대 코드(5세단위)</th>\n",
              "      <th>신장(5Cm단위)</th>\n",
              "      <th>체중(5Kg 단위)</th>\n",
              "      <th>허리둘레</th>\n",
              "      <th>시력(좌)</th>\n",
              "      <th>시력(우)</th>\n",
              "      <th>청력(좌)</th>\n",
              "      <th>청력(우)</th>\n",
              "      <th>수축기 혈압</th>\n",
              "      <th>이완기 혈압</th>\n",
              "      <th>식전혈당(공복혈당)</th>\n",
              "      <th>총 콜레스테롤</th>\n",
              "      <th>트리글리세라이드</th>\n",
              "      <th>HDL 콜레스테롤</th>\n",
              "      <th>LDL 콜레스테롤</th>\n",
              "      <th>혈색소</th>\n",
              "      <th>요단백</th>\n",
              "      <th>혈청크레아티닌</th>\n",
              "      <th>(혈청지오티)AST</th>\n",
              "      <th>(혈청지오티)ALT</th>\n",
              "      <th>감마 지티피</th>\n",
              "      <th>흡연상태</th>\n",
              "      <th>음주여부</th>\n",
              "      <th>구강검진 수검여부</th>\n",
              "      <th>치아우식증유무</th>\n",
              "      <th>결손치 유무</th>\n",
              "      <th>치아마모증유무</th>\n",
              "      <th>제3대구치(사랑니) 이상</th>\n",
              "      <th>치석</th>\n",
              "      <th>데이터 공개일자</th>\n",
              "    </tr>\n",
              "  </thead>\n",
              "  <tbody>\n",
              "    <tr>\n",
              "      <th>0</th>\n",
              "      <td>2019</td>\n",
              "      <td>1</td>\n",
              "      <td>11</td>\n",
              "      <td>1</td>\n",
              "      <td>13</td>\n",
              "      <td>165</td>\n",
              "      <td>65</td>\n",
              "      <td>90.0</td>\n",
              "      <td>1.5</td>\n",
              "      <td>1.2</td>\n",
              "      <td>1.0</td>\n",
              "      <td>1.0</td>\n",
              "      <td>112.0</td>\n",
              "      <td>70.0</td>\n",
              "      <td>93.0</td>\n",
              "      <td>NaN</td>\n",
              "      <td>NaN</td>\n",
              "      <td>NaN</td>\n",
              "      <td>NaN</td>\n",
              "      <td>15.5</td>\n",
              "      <td>1.0</td>\n",
              "      <td>1.0</td>\n",
              "      <td>18.0</td>\n",
              "      <td>32.0</td>\n",
              "      <td>47.0</td>\n",
              "      <td>2.0</td>\n",
              "      <td>NaN</td>\n",
              "      <td>1</td>\n",
              "      <td>0.0</td>\n",
              "      <td>미시행</td>\n",
              "      <td>미시행</td>\n",
              "      <td>미시행</td>\n",
              "      <td>1.0</td>\n",
              "      <td>2019-12-31</td>\n",
              "    </tr>\n",
              "    <tr>\n",
              "      <th>1</th>\n",
              "      <td>2019</td>\n",
              "      <td>2</td>\n",
              "      <td>48</td>\n",
              "      <td>2</td>\n",
              "      <td>5</td>\n",
              "      <td>155</td>\n",
              "      <td>45</td>\n",
              "      <td>64.0</td>\n",
              "      <td>1.2</td>\n",
              "      <td>0.5</td>\n",
              "      <td>1.0</td>\n",
              "      <td>1.0</td>\n",
              "      <td>114.0</td>\n",
              "      <td>76.0</td>\n",
              "      <td>89.0</td>\n",
              "      <td>NaN</td>\n",
              "      <td>NaN</td>\n",
              "      <td>NaN</td>\n",
              "      <td>NaN</td>\n",
              "      <td>14.0</td>\n",
              "      <td>1.0</td>\n",
              "      <td>0.5</td>\n",
              "      <td>15.0</td>\n",
              "      <td>8.0</td>\n",
              "      <td>13.0</td>\n",
              "      <td>1.0</td>\n",
              "      <td>1.0</td>\n",
              "      <td>0</td>\n",
              "      <td>NaN</td>\n",
              "      <td>미시행</td>\n",
              "      <td>미시행</td>\n",
              "      <td>미시행</td>\n",
              "      <td>NaN</td>\n",
              "      <td>2019-12-31</td>\n",
              "    </tr>\n",
              "    <tr>\n",
              "      <th>2</th>\n",
              "      <td>2019</td>\n",
              "      <td>3</td>\n",
              "      <td>41</td>\n",
              "      <td>1</td>\n",
              "      <td>13</td>\n",
              "      <td>160</td>\n",
              "      <td>70</td>\n",
              "      <td>87.0</td>\n",
              "      <td>0.9</td>\n",
              "      <td>0.8</td>\n",
              "      <td>1.0</td>\n",
              "      <td>1.0</td>\n",
              "      <td>109.0</td>\n",
              "      <td>73.0</td>\n",
              "      <td>100.0</td>\n",
              "      <td>232.0</td>\n",
              "      <td>114.0</td>\n",
              "      <td>57.0</td>\n",
              "      <td>152.0</td>\n",
              "      <td>15.6</td>\n",
              "      <td>1.0</td>\n",
              "      <td>1.0</td>\n",
              "      <td>30.0</td>\n",
              "      <td>21.0</td>\n",
              "      <td>17.0</td>\n",
              "      <td>1.0</td>\n",
              "      <td>1.0</td>\n",
              "      <td>0</td>\n",
              "      <td>NaN</td>\n",
              "      <td>미시행</td>\n",
              "      <td>미시행</td>\n",
              "      <td>미시행</td>\n",
              "      <td>NaN</td>\n",
              "      <td>2019-12-31</td>\n",
              "    </tr>\n",
              "    <tr>\n",
              "      <th>3</th>\n",
              "      <td>2019</td>\n",
              "      <td>4</td>\n",
              "      <td>28</td>\n",
              "      <td>1</td>\n",
              "      <td>12</td>\n",
              "      <td>170</td>\n",
              "      <td>60</td>\n",
              "      <td>85.0</td>\n",
              "      <td>0.4</td>\n",
              "      <td>1.2</td>\n",
              "      <td>1.0</td>\n",
              "      <td>1.0</td>\n",
              "      <td>131.0</td>\n",
              "      <td>85.0</td>\n",
              "      <td>85.0</td>\n",
              "      <td>NaN</td>\n",
              "      <td>NaN</td>\n",
              "      <td>NaN</td>\n",
              "      <td>NaN</td>\n",
              "      <td>14.5</td>\n",
              "      <td>1.0</td>\n",
              "      <td>0.7</td>\n",
              "      <td>17.0</td>\n",
              "      <td>19.0</td>\n",
              "      <td>32.0</td>\n",
              "      <td>2.0</td>\n",
              "      <td>1.0</td>\n",
              "      <td>0</td>\n",
              "      <td>NaN</td>\n",
              "      <td>미시행</td>\n",
              "      <td>미시행</td>\n",
              "      <td>미시행</td>\n",
              "      <td>NaN</td>\n",
              "      <td>2019-12-31</td>\n",
              "    </tr>\n",
              "    <tr>\n",
              "      <th>4</th>\n",
              "      <td>2019</td>\n",
              "      <td>5</td>\n",
              "      <td>41</td>\n",
              "      <td>1</td>\n",
              "      <td>10</td>\n",
              "      <td>170</td>\n",
              "      <td>70</td>\n",
              "      <td>81.2</td>\n",
              "      <td>0.7</td>\n",
              "      <td>0.7</td>\n",
              "      <td>1.0</td>\n",
              "      <td>1.0</td>\n",
              "      <td>112.0</td>\n",
              "      <td>66.0</td>\n",
              "      <td>91.0</td>\n",
              "      <td>NaN</td>\n",
              "      <td>NaN</td>\n",
              "      <td>NaN</td>\n",
              "      <td>NaN</td>\n",
              "      <td>14.9</td>\n",
              "      <td>1.0</td>\n",
              "      <td>0.9</td>\n",
              "      <td>19.0</td>\n",
              "      <td>24.0</td>\n",
              "      <td>19.0</td>\n",
              "      <td>2.0</td>\n",
              "      <td>NaN</td>\n",
              "      <td>0</td>\n",
              "      <td>NaN</td>\n",
              "      <td>미시행</td>\n",
              "      <td>미시행</td>\n",
              "      <td>미시행</td>\n",
              "      <td>NaN</td>\n",
              "      <td>2019-12-31</td>\n",
              "    </tr>\n",
              "    <tr>\n",
              "      <th>...</th>\n",
              "      <td>...</td>\n",
              "      <td>...</td>\n",
              "      <td>...</td>\n",
              "      <td>...</td>\n",
              "      <td>...</td>\n",
              "      <td>...</td>\n",
              "      <td>...</td>\n",
              "      <td>...</td>\n",
              "      <td>...</td>\n",
              "      <td>...</td>\n",
              "      <td>...</td>\n",
              "      <td>...</td>\n",
              "      <td>...</td>\n",
              "      <td>...</td>\n",
              "      <td>...</td>\n",
              "      <td>...</td>\n",
              "      <td>...</td>\n",
              "      <td>...</td>\n",
              "      <td>...</td>\n",
              "      <td>...</td>\n",
              "      <td>...</td>\n",
              "      <td>...</td>\n",
              "      <td>...</td>\n",
              "      <td>...</td>\n",
              "      <td>...</td>\n",
              "      <td>...</td>\n",
              "      <td>...</td>\n",
              "      <td>...</td>\n",
              "      <td>...</td>\n",
              "      <td>...</td>\n",
              "      <td>...</td>\n",
              "      <td>...</td>\n",
              "      <td>...</td>\n",
              "      <td>...</td>\n",
              "    </tr>\n",
              "    <tr>\n",
              "      <th>1063613</th>\n",
              "      <td>2019</td>\n",
              "      <td>999996</td>\n",
              "      <td>41</td>\n",
              "      <td>1</td>\n",
              "      <td>12</td>\n",
              "      <td>170</td>\n",
              "      <td>65</td>\n",
              "      <td>80.0</td>\n",
              "      <td>1.0</td>\n",
              "      <td>1.2</td>\n",
              "      <td>1.0</td>\n",
              "      <td>1.0</td>\n",
              "      <td>116.0</td>\n",
              "      <td>79.0</td>\n",
              "      <td>129.0</td>\n",
              "      <td>NaN</td>\n",
              "      <td>NaN</td>\n",
              "      <td>NaN</td>\n",
              "      <td>NaN</td>\n",
              "      <td>15.7</td>\n",
              "      <td>1.0</td>\n",
              "      <td>1.3</td>\n",
              "      <td>24.0</td>\n",
              "      <td>23.0</td>\n",
              "      <td>21.0</td>\n",
              "      <td>1.0</td>\n",
              "      <td>1.0</td>\n",
              "      <td>0</td>\n",
              "      <td>NaN</td>\n",
              "      <td>미시행</td>\n",
              "      <td>미시행</td>\n",
              "      <td>미시행</td>\n",
              "      <td>NaN</td>\n",
              "      <td>2019-12-31</td>\n",
              "    </tr>\n",
              "    <tr>\n",
              "      <th>1063614</th>\n",
              "      <td>2019</td>\n",
              "      <td>999997</td>\n",
              "      <td>11</td>\n",
              "      <td>1</td>\n",
              "      <td>9</td>\n",
              "      <td>170</td>\n",
              "      <td>55</td>\n",
              "      <td>75.0</td>\n",
              "      <td>0.9</td>\n",
              "      <td>0.8</td>\n",
              "      <td>1.0</td>\n",
              "      <td>1.0</td>\n",
              "      <td>99.0</td>\n",
              "      <td>61.0</td>\n",
              "      <td>130.0</td>\n",
              "      <td>157.0</td>\n",
              "      <td>50.0</td>\n",
              "      <td>54.0</td>\n",
              "      <td>93.0</td>\n",
              "      <td>15.4</td>\n",
              "      <td>2.0</td>\n",
              "      <td>0.9</td>\n",
              "      <td>16.0</td>\n",
              "      <td>15.0</td>\n",
              "      <td>27.0</td>\n",
              "      <td>2.0</td>\n",
              "      <td>1.0</td>\n",
              "      <td>0</td>\n",
              "      <td>NaN</td>\n",
              "      <td>미시행</td>\n",
              "      <td>미시행</td>\n",
              "      <td>미시행</td>\n",
              "      <td>NaN</td>\n",
              "      <td>2019-12-31</td>\n",
              "    </tr>\n",
              "    <tr>\n",
              "      <th>1063615</th>\n",
              "      <td>2019</td>\n",
              "      <td>999998</td>\n",
              "      <td>45</td>\n",
              "      <td>1</td>\n",
              "      <td>13</td>\n",
              "      <td>160</td>\n",
              "      <td>65</td>\n",
              "      <td>92.3</td>\n",
              "      <td>1.0</td>\n",
              "      <td>0.9</td>\n",
              "      <td>1.0</td>\n",
              "      <td>1.0</td>\n",
              "      <td>116.0</td>\n",
              "      <td>70.0</td>\n",
              "      <td>102.0</td>\n",
              "      <td>NaN</td>\n",
              "      <td>NaN</td>\n",
              "      <td>NaN</td>\n",
              "      <td>NaN</td>\n",
              "      <td>15.9</td>\n",
              "      <td>1.0</td>\n",
              "      <td>1.0</td>\n",
              "      <td>23.0</td>\n",
              "      <td>28.0</td>\n",
              "      <td>84.0</td>\n",
              "      <td>2.0</td>\n",
              "      <td>1.0</td>\n",
              "      <td>1</td>\n",
              "      <td>0.0</td>\n",
              "      <td>미시행</td>\n",
              "      <td>미시행</td>\n",
              "      <td>미시행</td>\n",
              "      <td>0.0</td>\n",
              "      <td>2019-12-31</td>\n",
              "    </tr>\n",
              "    <tr>\n",
              "      <th>1063616</th>\n",
              "      <td>2019</td>\n",
              "      <td>999999</td>\n",
              "      <td>30</td>\n",
              "      <td>1</td>\n",
              "      <td>8</td>\n",
              "      <td>170</td>\n",
              "      <td>75</td>\n",
              "      <td>85.0</td>\n",
              "      <td>0.8</td>\n",
              "      <td>0.8</td>\n",
              "      <td>1.0</td>\n",
              "      <td>1.0</td>\n",
              "      <td>112.0</td>\n",
              "      <td>71.0</td>\n",
              "      <td>89.0</td>\n",
              "      <td>NaN</td>\n",
              "      <td>NaN</td>\n",
              "      <td>NaN</td>\n",
              "      <td>NaN</td>\n",
              "      <td>15.3</td>\n",
              "      <td>1.0</td>\n",
              "      <td>1.0</td>\n",
              "      <td>25.0</td>\n",
              "      <td>65.0</td>\n",
              "      <td>29.0</td>\n",
              "      <td>2.0</td>\n",
              "      <td>1.0</td>\n",
              "      <td>1</td>\n",
              "      <td>0.0</td>\n",
              "      <td>미시행</td>\n",
              "      <td>미시행</td>\n",
              "      <td>미시행</td>\n",
              "      <td>0.0</td>\n",
              "      <td>2019-12-31</td>\n",
              "    </tr>\n",
              "    <tr>\n",
              "      <th>1063617</th>\n",
              "      <td>2019</td>\n",
              "      <td>1000000</td>\n",
              "      <td>11</td>\n",
              "      <td>2</td>\n",
              "      <td>10</td>\n",
              "      <td>155</td>\n",
              "      <td>65</td>\n",
              "      <td>86.0</td>\n",
              "      <td>0.5</td>\n",
              "      <td>0.5</td>\n",
              "      <td>1.0</td>\n",
              "      <td>1.0</td>\n",
              "      <td>118.0</td>\n",
              "      <td>73.0</td>\n",
              "      <td>67.0</td>\n",
              "      <td>NaN</td>\n",
              "      <td>NaN</td>\n",
              "      <td>NaN</td>\n",
              "      <td>NaN</td>\n",
              "      <td>13.2</td>\n",
              "      <td>1.0</td>\n",
              "      <td>0.7</td>\n",
              "      <td>20.0</td>\n",
              "      <td>16.0</td>\n",
              "      <td>9.0</td>\n",
              "      <td>1.0</td>\n",
              "      <td>NaN</td>\n",
              "      <td>1</td>\n",
              "      <td>0.0</td>\n",
              "      <td>미시행</td>\n",
              "      <td>미시행</td>\n",
              "      <td>미시행</td>\n",
              "      <td>1.0</td>\n",
              "      <td>2019-12-31</td>\n",
              "    </tr>\n",
              "  </tbody>\n",
              "</table>\n",
              "<p>1063618 rows × 34 columns</p>\n",
              "</div>"
            ],
            "text/plain": [
              "         기준년도  가입자 일련번호  시도코드  성별코드  ...  치아마모증유무  제3대구치(사랑니) 이상   치석    데이터 공개일자\n",
              "0        2019         1    11     1  ...      미시행            미시행  1.0  2019-12-31\n",
              "1        2019         2    48     2  ...      미시행            미시행  NaN  2019-12-31\n",
              "2        2019         3    41     1  ...      미시행            미시행  NaN  2019-12-31\n",
              "3        2019         4    28     1  ...      미시행            미시행  NaN  2019-12-31\n",
              "4        2019         5    41     1  ...      미시행            미시행  NaN  2019-12-31\n",
              "...       ...       ...   ...   ...  ...      ...            ...  ...         ...\n",
              "1063613  2019    999996    41     1  ...      미시행            미시행  NaN  2019-12-31\n",
              "1063614  2019    999997    11     1  ...      미시행            미시행  NaN  2019-12-31\n",
              "1063615  2019    999998    45     1  ...      미시행            미시행  0.0  2019-12-31\n",
              "1063616  2019    999999    30     1  ...      미시행            미시행  0.0  2019-12-31\n",
              "1063617  2019   1000000    11     2  ...      미시행            미시행  1.0  2019-12-31\n",
              "\n",
              "[1063618 rows x 34 columns]"
            ]
          },
          "metadata": {},
          "execution_count": 4
        }
      ]
    },
    {
      "cell_type": "markdown",
      "source": [
        "# Preprocessing"
      ],
      "metadata": {
        "id": "hkbfAZbkpVgF"
      }
    },
    {
      "cell_type": "code",
      "source": [
        "diabetes = dataset.copy()"
      ],
      "metadata": {
        "id": "vz321kwUxEZD"
      },
      "execution_count": null,
      "outputs": []
    },
    {
      "cell_type": "code",
      "source": [
        "diabetes.info(null_counts=True)"
      ],
      "metadata": {
        "colab": {
          "base_uri": "https://localhost:8080/"
        },
        "id": "MxBxNtDCxj3j",
        "outputId": "d371c805-13c7-4634-ac93-70fd94f79615"
      },
      "execution_count": null,
      "outputs": [
        {
          "output_type": "stream",
          "name": "stdout",
          "text": [
            "<class 'pandas.core.frame.DataFrame'>\n",
            "RangeIndex: 1063618 entries, 0 to 1063617\n",
            "Data columns (total 34 columns):\n",
            " #   Column         Non-Null Count    Dtype  \n",
            "---  ------         --------------    -----  \n",
            " 0   기준년도           1063618 non-null  int64  \n",
            " 1   가입자 일련번호       1063618 non-null  int64  \n",
            " 2   시도코드           1063618 non-null  int64  \n",
            " 3   성별코드           1063618 non-null  int64  \n",
            " 4   연령대 코드(5세단위)   1063618 non-null  int64  \n",
            " 5   신장(5Cm단위)      1063618 non-null  int64  \n",
            " 6   체중(5Kg 단위)     1063618 non-null  int64  \n",
            " 7   허리둘레           1063195 non-null  float64\n",
            " 8   시력(좌)          1063411 non-null  float64\n",
            " 9   시력(우)          1063418 non-null  float64\n",
            " 10  청력(좌)          1063427 non-null  float64\n",
            " 11  청력(우)          1063430 non-null  float64\n",
            " 12  수축기 혈압         1057819 non-null  float64\n",
            " 13  이완기 혈압         1057818 non-null  float64\n",
            " 14  식전혈당(공복혈당)     1057714 non-null  float64\n",
            " 15  총 콜레스테롤        354892 non-null   float64\n",
            " 16  트리글리세라이드       354887 non-null   float64\n",
            " 17  HDL 콜레스테롤      354884 non-null   float64\n",
            " 18  LDL 콜레스테롤      348075 non-null   float64\n",
            " 19  혈색소            1057703 non-null  float64\n",
            " 20  요단백            1052642 non-null  float64\n",
            " 21  혈청크레아티닌        1057711 non-null  float64\n",
            " 22  (혈청지오티)AST     1057715 non-null  float64\n",
            " 23  (혈청지오티)ALT     1057714 non-null  float64\n",
            " 24  감마 지티피         1057707 non-null  float64\n",
            " 25  흡연상태           1063444 non-null  float64\n",
            " 26  음주여부           685809 non-null   float64\n",
            " 27  구강검진 수검여부      1063618 non-null  int64  \n",
            " 28  치아우식증유무        422972 non-null   float64\n",
            " 29  결손치 유무         1063618 non-null  object \n",
            " 30  치아마모증유무        1063618 non-null  object \n",
            " 31  제3대구치(사랑니) 이상  1063618 non-null  object \n",
            " 32  치석             422972 non-null   float64\n",
            " 33  데이터 공개일자       1063618 non-null  object \n",
            "dtypes: float64(22), int64(8), object(4)\n",
            "memory usage: 275.9+ MB\n"
          ]
        }
      ]
    },
    {
      "cell_type": "markdown",
      "source": [
        "## Elimination\n",
        "  *  Irrelevant infos\n",
        "  *  Missing values"
      ],
      "metadata": {
        "id": "jh0V8uY1pdml"
      }
    },
    {
      "cell_type": "code",
      "source": [
        "diabetes.drop(columns=['기준년도', '가입자 일련번호', '구강검진 수검여부', '총 콜레스테롤', '트리글리세라이드', '음주여부',\n",
        "                       '혈청크레아티닌', '(혈청지오티)AST', '(혈청지오티)ALT', '허리둘레',\n",
        "                       '청력(좌)', '청력(우)','HDL 콜레스테롤', 'LDL 콜레스테롤', '치아우식증유무','치아마모증유무',\n",
        "                       '결손치 유무', '제3대구치(사랑니) 이상', '치석', '데이터 공개일자'], inplace=True)"
      ],
      "metadata": {
        "id": "84AZIOd6yCK0"
      },
      "execution_count": null,
      "outputs": []
    },
    {
      "cell_type": "code",
      "source": [
        "diabetes.dropna(inplace=True)"
      ],
      "metadata": {
        "id": "TIgDF_XT1HGH"
      },
      "execution_count": null,
      "outputs": []
    },
    {
      "cell_type": "code",
      "source": [
        "diabetes.reset_index(inplace=True)"
      ],
      "metadata": {
        "id": "Q6IYMF_P01UW"
      },
      "execution_count": null,
      "outputs": []
    },
    {
      "cell_type": "code",
      "source": [
        "diabetes.info(null_counts=True)"
      ],
      "metadata": {
        "colab": {
          "base_uri": "https://localhost:8080/"
        },
        "id": "0BI6D51_z1ap",
        "outputId": "c2b31583-d212-448c-c9b5-ca15cf7ba110"
      },
      "execution_count": null,
      "outputs": [
        {
          "output_type": "stream",
          "name": "stdout",
          "text": [
            "<class 'pandas.core.frame.DataFrame'>\n",
            "RangeIndex: 1052215 entries, 0 to 1052214\n",
            "Data columns (total 15 columns):\n",
            " #   Column        Non-Null Count    Dtype  \n",
            "---  ------        --------------    -----  \n",
            " 0   index         1052215 non-null  int64  \n",
            " 1   시도코드          1052215 non-null  int64  \n",
            " 2   성별코드          1052215 non-null  int64  \n",
            " 3   연령대 코드(5세단위)  1052215 non-null  int64  \n",
            " 4   신장(5Cm단위)     1052215 non-null  int64  \n",
            " 5   체중(5Kg 단위)    1052215 non-null  int64  \n",
            " 6   시력(좌)         1052215 non-null  float64\n",
            " 7   시력(우)         1052215 non-null  float64\n",
            " 8   수축기 혈압        1052215 non-null  float64\n",
            " 9   이완기 혈압        1052215 non-null  float64\n",
            " 10  식전혈당(공복혈당)    1052215 non-null  float64\n",
            " 11  혈색소           1052215 non-null  float64\n",
            " 12  요단백           1052215 non-null  float64\n",
            " 13  감마 지티피        1052215 non-null  float64\n",
            " 14  흡연상태          1052215 non-null  float64\n",
            "dtypes: float64(9), int64(6)\n",
            "memory usage: 120.4 MB\n"
          ]
        }
      ]
    },
    {
      "cell_type": "markdown",
      "source": [
        "## Categorization, Factorization\n",
        "  * 시도코드, 성별코드, 흡연상태 --> 이름\n",
        "  * 연령대 --> 10살 단위"
      ],
      "metadata": {
        "id": "PhlX3ddzp0Z7"
      }
    },
    {
      "cell_type": "code",
      "source": [
        "#pd.Series(diabetes['시도코드'].unique()).sort_values()"
      ],
      "metadata": {
        "id": "zL1vq-BbaF5V"
      },
      "execution_count": null,
      "outputs": []
    },
    {
      "cell_type": "code",
      "source": [
        "diabetes['시도코드'] = diabetes['시도코드'].astype(str)"
      ],
      "metadata": {
        "id": "-i5xjB4M03rf"
      },
      "execution_count": null,
      "outputs": []
    },
    {
      "cell_type": "code",
      "source": [
        "diabetes['시도코드'].replace(to_replace=['11', '26', '27', '28', '29', '30', '31', '36', '41', '42', '43', '44', '45', '46', '47', '48', '50'],\n",
        "                           value = ['서울특별시', '부산광역시', '대구광역시', '인천광역시', '광주광역시','대전광역시', '울산광역시', \n",
        "                              '세종특별자치시', '경기도', '강원도', '충청북도', '충청남도','전라북도', '전라남도', '경상북도', '경상남도', '제주특별자치도'],\n",
        "                         inplace=True)\n"
      ],
      "metadata": {
        "id": "P_cydizo3cXN"
      },
      "execution_count": null,
      "outputs": []
    },
    {
      "cell_type": "code",
      "source": [
        "#diabetes['시도코드'].value_counts()"
      ],
      "metadata": {
        "id": "tceBqGPFagDb"
      },
      "execution_count": null,
      "outputs": []
    },
    {
      "cell_type": "code",
      "source": [
        "diabetes['성별코드'].replace(to_replace=[1,2],\n",
        "                         value=['Male', 'Female'],\n",
        "                         inplace=True)"
      ],
      "metadata": {
        "id": "T_bUsGyRbAhp"
      },
      "execution_count": null,
      "outputs": []
    },
    {
      "cell_type": "code",
      "source": [
        "diabetes['요단백'].value_counts()"
      ],
      "metadata": {
        "colab": {
          "base_uri": "https://localhost:8080/"
        },
        "id": "3hlAOax1uCsW",
        "outputId": "2f9b2cca-0130-464e-873c-34039f04ef0e"
      },
      "execution_count": null,
      "outputs": [
        {
          "output_type": "execute_result",
          "data": {
            "text/plain": [
              "1.0    984949\n",
              "2.0     38176\n",
              "3.0     19479\n",
              "4.0      6802\n",
              "5.0      2206\n",
              "6.0       603\n",
              "Name: 요단백, dtype: int64"
            ]
          },
          "metadata": {},
          "execution_count": 16
        }
      ]
    },
    {
      "cell_type": "code",
      "source": [
        "diabetes['요단백'] = diabetes['요단백'].astype(str)"
      ],
      "metadata": {
        "id": "3h2PpxrG408E"
      },
      "execution_count": null,
      "outputs": []
    },
    {
      "cell_type": "code",
      "source": [
        "diabetes['흡연상태'].value_counts()"
      ],
      "metadata": {
        "colab": {
          "base_uri": "https://localhost:8080/"
        },
        "id": "oRTgL_b2uDGM",
        "outputId": "26787355-572b-406c-d78f-26b44a3ee455"
      },
      "execution_count": null,
      "outputs": [
        {
          "output_type": "execute_result",
          "data": {
            "text/plain": [
              "1.0    662225\n",
              "2.0    389990\n",
              "Name: 흡연상태, dtype: int64"
            ]
          },
          "metadata": {},
          "execution_count": 18
        }
      ]
    },
    {
      "cell_type": "code",
      "source": [
        "diabetes['흡연상태'].replace(to_replace=[1.0, 2.0],\n",
        "                         value = ['Smoker', 'Non-smoker'],\n",
        "                         inplace=True)"
      ],
      "metadata": {
        "id": "K7hKVLTZ4gV0"
      },
      "execution_count": null,
      "outputs": []
    },
    {
      "cell_type": "code",
      "source": [
        "diabetes['연령대 코드(5세단위)'].unique()"
      ],
      "metadata": {
        "colab": {
          "base_uri": "https://localhost:8080/"
        },
        "id": "zfl0GXRocHRg",
        "outputId": "54350141-c2ab-4610-cc6f-89c5af673706"
      },
      "execution_count": null,
      "outputs": [
        {
          "output_type": "execute_result",
          "data": {
            "text/plain": [
              "array([13,  5, 12, 10,  8,  6, 14, 11, 16,  9,  7, 18, 15, 17])"
            ]
          },
          "metadata": {},
          "execution_count": 20
        }
      ]
    },
    {
      "cell_type": "markdown",
      "source": [
        "5,6 20s\n",
        "\n",
        "7,8 30s\n",
        "  \n",
        "9,10 40s\n",
        "\n",
        "11,12 50s\n",
        "\n",
        "13,14 60s\n",
        "\n",
        "15,16 70s\n",
        "\n",
        "17~ over80s"
      ],
      "metadata": {
        "id": "fokMDbHA7l5s"
      }
    },
    {
      "cell_type": "code",
      "source": [
        "diabetes['Age group'] = pd.cut(diabetes['연령대 코드(5세단위)'],\n",
        "       bins=list(range(4, 20, 2)),\n",
        "       labels= ['20s', '30s', '40s', '50s', '60s', '70s','over80s'])"
      ],
      "metadata": {
        "id": "TfWbIVqA5GJT"
      },
      "execution_count": null,
      "outputs": []
    },
    {
      "cell_type": "markdown",
      "source": [
        "## Feature Engineering\n",
        "  * 키, 몸무게 --> BMI\n",
        "  * 시력 좌우 평균 \n",
        "  * 수축기혈압, 이완기혈압 --> 고혈압"
      ],
      "metadata": {
        "id": "gyUdTzGGdxFu"
      }
    },
    {
      "cell_type": "code",
      "source": [
        "def bmi_calculator(height_data, weight_data):\n",
        "  bmi = []\n",
        "  for height, weight in zip(height_data, weight_data):\n",
        "    val = weight / ((height/100)**2)\n",
        "    val = round(val, 1)\n",
        "    bmi.append(val)\n",
        "  return pd.DataFrame(bmi)"
      ],
      "metadata": {
        "id": "1JdRYnqUt0aK"
      },
      "execution_count": null,
      "outputs": []
    },
    {
      "cell_type": "code",
      "source": [
        "diabetes['BMI'] = bmi_calculator(diabetes['신장(5Cm단위)'].values, diabetes['체중(5Kg 단위)'].values)"
      ],
      "metadata": {
        "id": "IaP1mrqNwL2Q"
      },
      "execution_count": null,
      "outputs": []
    },
    {
      "cell_type": "code",
      "source": [
        "def avg_eyesight(left, right):\n",
        "  eyesights = []\n",
        "  for l,r in zip(left, right):\n",
        "    eyesight = (l+r)/2\n",
        "    eyesights.append(eyesight)\n",
        "  return pd.DataFrame(eyesights)"
      ],
      "metadata": {
        "id": "ja2niF__2_pF"
      },
      "execution_count": null,
      "outputs": []
    },
    {
      "cell_type": "code",
      "source": [
        "diabetes['평균시력'] = avg_eyesight(diabetes['시력(좌)'].values, diabetes['시력(우)'].values)"
      ],
      "metadata": {
        "id": "2BHJYPBlwizL"
      },
      "execution_count": null,
      "outputs": []
    },
    {
      "cell_type": "code",
      "source": [
        "def blood_pressure(compressed, decompressed):\n",
        "  bps = []\n",
        "  for c,u in zip(compressed, decompressed):\n",
        "    if c >= 140 and u >=90:\n",
        "      bps.append('Hypertension')\n",
        "    else:\n",
        "      bps.append('Normal')\n",
        "  return pd.DataFrame(bps)"
      ],
      "metadata": {
        "id": "Fodgp8ek_7BA"
      },
      "execution_count": null,
      "outputs": []
    },
    {
      "cell_type": "code",
      "source": [
        "diabetes['고혈압'] = blood_pressure(diabetes['수축기 혈압'].values, diabetes['이완기 혈압'].values)"
      ],
      "metadata": {
        "id": "k5aHgU0wA1On"
      },
      "execution_count": null,
      "outputs": []
    },
    {
      "cell_type": "markdown",
      "source": [
        "# EDA"
      ],
      "metadata": {
        "id": "_cval1PbCEcF"
      }
    },
    {
      "cell_type": "code",
      "source": [
        "eda = diabetes.drop(columns=['index','연령대 코드(5세단위)', '신장(5Cm단위)', '체중(5Kg 단위)', '시력(좌)', '시력(우)', '수축기 혈압', '이완기 혈압'])\n",
        "eda"
      ],
      "metadata": {
        "colab": {
          "base_uri": "https://localhost:8080/",
          "height": 424
        },
        "id": "0LE87jPI1M5k",
        "outputId": "0e9538f2-db7e-4779-abad-6e01c788133a"
      },
      "execution_count": null,
      "outputs": [
        {
          "output_type": "execute_result",
          "data": {
            "text/html": [
              "<div>\n",
              "<style scoped>\n",
              "    .dataframe tbody tr th:only-of-type {\n",
              "        vertical-align: middle;\n",
              "    }\n",
              "\n",
              "    .dataframe tbody tr th {\n",
              "        vertical-align: top;\n",
              "    }\n",
              "\n",
              "    .dataframe thead th {\n",
              "        text-align: right;\n",
              "    }\n",
              "</style>\n",
              "<table border=\"1\" class=\"dataframe\">\n",
              "  <thead>\n",
              "    <tr style=\"text-align: right;\">\n",
              "      <th></th>\n",
              "      <th>시도코드</th>\n",
              "      <th>성별코드</th>\n",
              "      <th>식전혈당(공복혈당)</th>\n",
              "      <th>혈색소</th>\n",
              "      <th>요단백</th>\n",
              "      <th>감마 지티피</th>\n",
              "      <th>흡연상태</th>\n",
              "      <th>Age group</th>\n",
              "      <th>BMI</th>\n",
              "      <th>평균시력</th>\n",
              "      <th>고혈압</th>\n",
              "    </tr>\n",
              "  </thead>\n",
              "  <tbody>\n",
              "    <tr>\n",
              "      <th>0</th>\n",
              "      <td>서울특별시</td>\n",
              "      <td>Male</td>\n",
              "      <td>93.0</td>\n",
              "      <td>15.5</td>\n",
              "      <td>1.0</td>\n",
              "      <td>47.0</td>\n",
              "      <td>Non-smoker</td>\n",
              "      <td>60s</td>\n",
              "      <td>23.9</td>\n",
              "      <td>1.35</td>\n",
              "      <td>Normal</td>\n",
              "    </tr>\n",
              "    <tr>\n",
              "      <th>1</th>\n",
              "      <td>경상남도</td>\n",
              "      <td>Female</td>\n",
              "      <td>89.0</td>\n",
              "      <td>14.0</td>\n",
              "      <td>1.0</td>\n",
              "      <td>13.0</td>\n",
              "      <td>Smoker</td>\n",
              "      <td>20s</td>\n",
              "      <td>18.7</td>\n",
              "      <td>0.85</td>\n",
              "      <td>Normal</td>\n",
              "    </tr>\n",
              "    <tr>\n",
              "      <th>2</th>\n",
              "      <td>경기도</td>\n",
              "      <td>Male</td>\n",
              "      <td>100.0</td>\n",
              "      <td>15.6</td>\n",
              "      <td>1.0</td>\n",
              "      <td>17.0</td>\n",
              "      <td>Smoker</td>\n",
              "      <td>60s</td>\n",
              "      <td>27.3</td>\n",
              "      <td>0.85</td>\n",
              "      <td>Normal</td>\n",
              "    </tr>\n",
              "    <tr>\n",
              "      <th>3</th>\n",
              "      <td>인천광역시</td>\n",
              "      <td>Male</td>\n",
              "      <td>85.0</td>\n",
              "      <td>14.5</td>\n",
              "      <td>1.0</td>\n",
              "      <td>32.0</td>\n",
              "      <td>Non-smoker</td>\n",
              "      <td>50s</td>\n",
              "      <td>20.8</td>\n",
              "      <td>0.80</td>\n",
              "      <td>Normal</td>\n",
              "    </tr>\n",
              "    <tr>\n",
              "      <th>4</th>\n",
              "      <td>경기도</td>\n",
              "      <td>Male</td>\n",
              "      <td>91.0</td>\n",
              "      <td>14.9</td>\n",
              "      <td>1.0</td>\n",
              "      <td>19.0</td>\n",
              "      <td>Non-smoker</td>\n",
              "      <td>40s</td>\n",
              "      <td>24.2</td>\n",
              "      <td>0.70</td>\n",
              "      <td>Normal</td>\n",
              "    </tr>\n",
              "    <tr>\n",
              "      <th>...</th>\n",
              "      <td>...</td>\n",
              "      <td>...</td>\n",
              "      <td>...</td>\n",
              "      <td>...</td>\n",
              "      <td>...</td>\n",
              "      <td>...</td>\n",
              "      <td>...</td>\n",
              "      <td>...</td>\n",
              "      <td>...</td>\n",
              "      <td>...</td>\n",
              "      <td>...</td>\n",
              "    </tr>\n",
              "    <tr>\n",
              "      <th>1052210</th>\n",
              "      <td>경기도</td>\n",
              "      <td>Male</td>\n",
              "      <td>129.0</td>\n",
              "      <td>15.7</td>\n",
              "      <td>1.0</td>\n",
              "      <td>21.0</td>\n",
              "      <td>Smoker</td>\n",
              "      <td>50s</td>\n",
              "      <td>22.5</td>\n",
              "      <td>1.10</td>\n",
              "      <td>Normal</td>\n",
              "    </tr>\n",
              "    <tr>\n",
              "      <th>1052211</th>\n",
              "      <td>서울특별시</td>\n",
              "      <td>Male</td>\n",
              "      <td>130.0</td>\n",
              "      <td>15.4</td>\n",
              "      <td>2.0</td>\n",
              "      <td>27.0</td>\n",
              "      <td>Non-smoker</td>\n",
              "      <td>40s</td>\n",
              "      <td>19.0</td>\n",
              "      <td>0.85</td>\n",
              "      <td>Normal</td>\n",
              "    </tr>\n",
              "    <tr>\n",
              "      <th>1052212</th>\n",
              "      <td>전라북도</td>\n",
              "      <td>Male</td>\n",
              "      <td>102.0</td>\n",
              "      <td>15.9</td>\n",
              "      <td>1.0</td>\n",
              "      <td>84.0</td>\n",
              "      <td>Non-smoker</td>\n",
              "      <td>60s</td>\n",
              "      <td>25.4</td>\n",
              "      <td>0.95</td>\n",
              "      <td>Normal</td>\n",
              "    </tr>\n",
              "    <tr>\n",
              "      <th>1052213</th>\n",
              "      <td>대전광역시</td>\n",
              "      <td>Male</td>\n",
              "      <td>89.0</td>\n",
              "      <td>15.3</td>\n",
              "      <td>1.0</td>\n",
              "      <td>29.0</td>\n",
              "      <td>Non-smoker</td>\n",
              "      <td>30s</td>\n",
              "      <td>26.0</td>\n",
              "      <td>0.80</td>\n",
              "      <td>Normal</td>\n",
              "    </tr>\n",
              "    <tr>\n",
              "      <th>1052214</th>\n",
              "      <td>서울특별시</td>\n",
              "      <td>Female</td>\n",
              "      <td>67.0</td>\n",
              "      <td>13.2</td>\n",
              "      <td>1.0</td>\n",
              "      <td>9.0</td>\n",
              "      <td>Smoker</td>\n",
              "      <td>40s</td>\n",
              "      <td>27.1</td>\n",
              "      <td>0.50</td>\n",
              "      <td>Normal</td>\n",
              "    </tr>\n",
              "  </tbody>\n",
              "</table>\n",
              "<p>1052215 rows × 11 columns</p>\n",
              "</div>"
            ],
            "text/plain": [
              "          시도코드    성별코드  식전혈당(공복혈당)   혈색소  ... Age group   BMI  평균시력     고혈압\n",
              "0        서울특별시    Male        93.0  15.5  ...       60s  23.9  1.35  Normal\n",
              "1         경상남도  Female        89.0  14.0  ...       20s  18.7  0.85  Normal\n",
              "2          경기도    Male       100.0  15.6  ...       60s  27.3  0.85  Normal\n",
              "3        인천광역시    Male        85.0  14.5  ...       50s  20.8  0.80  Normal\n",
              "4          경기도    Male        91.0  14.9  ...       40s  24.2  0.70  Normal\n",
              "...        ...     ...         ...   ...  ...       ...   ...   ...     ...\n",
              "1052210    경기도    Male       129.0  15.7  ...       50s  22.5  1.10  Normal\n",
              "1052211  서울특별시    Male       130.0  15.4  ...       40s  19.0  0.85  Normal\n",
              "1052212   전라북도    Male       102.0  15.9  ...       60s  25.4  0.95  Normal\n",
              "1052213  대전광역시    Male        89.0  15.3  ...       30s  26.0  0.80  Normal\n",
              "1052214  서울특별시  Female        67.0  13.2  ...       40s  27.1  0.50  Normal\n",
              "\n",
              "[1052215 rows x 11 columns]"
            ]
          },
          "metadata": {},
          "execution_count": 28
        }
      ]
    },
    {
      "cell_type": "code",
      "source": [
        "eda.info()"
      ],
      "metadata": {
        "colab": {
          "base_uri": "https://localhost:8080/"
        },
        "id": "VibPCSnxSdVG",
        "outputId": "85ec9fb0-8d57-48a9-eb8e-5f4fdef68f26"
      },
      "execution_count": null,
      "outputs": [
        {
          "output_type": "stream",
          "name": "stdout",
          "text": [
            "<class 'pandas.core.frame.DataFrame'>\n",
            "RangeIndex: 1052215 entries, 0 to 1052214\n",
            "Data columns (total 11 columns):\n",
            " #   Column      Non-Null Count    Dtype   \n",
            "---  ------      --------------    -----   \n",
            " 0   시도코드        1052215 non-null  object  \n",
            " 1   성별코드        1052215 non-null  object  \n",
            " 2   식전혈당(공복혈당)  1052215 non-null  float64 \n",
            " 3   혈색소         1052215 non-null  float64 \n",
            " 4   요단백         1052215 non-null  object  \n",
            " 5   감마 지티피      1052215 non-null  float64 \n",
            " 6   흡연상태        1052215 non-null  object  \n",
            " 7   Age group   1052215 non-null  category\n",
            " 8   BMI         1052215 non-null  float64 \n",
            " 9   평균시력        1052215 non-null  float64 \n",
            " 10  고혈압         1052215 non-null  object  \n",
            "dtypes: category(1), float64(5), object(5)\n",
            "memory usage: 81.3+ MB\n"
          ]
        }
      ]
    },
    {
      "cell_type": "code",
      "source": [
        "eda.corr()"
      ],
      "metadata": {
        "colab": {
          "base_uri": "https://localhost:8080/",
          "height": 206
        },
        "id": "XRA13kMZEaH9",
        "outputId": "6e05e089-0569-4cd3-8e99-cf0b3616bfa5"
      },
      "execution_count": null,
      "outputs": [
        {
          "output_type": "execute_result",
          "data": {
            "text/html": [
              "<div>\n",
              "<style scoped>\n",
              "    .dataframe tbody tr th:only-of-type {\n",
              "        vertical-align: middle;\n",
              "    }\n",
              "\n",
              "    .dataframe tbody tr th {\n",
              "        vertical-align: top;\n",
              "    }\n",
              "\n",
              "    .dataframe thead th {\n",
              "        text-align: right;\n",
              "    }\n",
              "</style>\n",
              "<table border=\"1\" class=\"dataframe\">\n",
              "  <thead>\n",
              "    <tr style=\"text-align: right;\">\n",
              "      <th></th>\n",
              "      <th>식전혈당(공복혈당)</th>\n",
              "      <th>혈색소</th>\n",
              "      <th>감마 지티피</th>\n",
              "      <th>BMI</th>\n",
              "      <th>평균시력</th>\n",
              "    </tr>\n",
              "  </thead>\n",
              "  <tbody>\n",
              "    <tr>\n",
              "      <th>식전혈당(공복혈당)</th>\n",
              "      <td>1.000000</td>\n",
              "      <td>0.106847</td>\n",
              "      <td>0.167481</td>\n",
              "      <td>0.178013</td>\n",
              "      <td>-0.049863</td>\n",
              "    </tr>\n",
              "    <tr>\n",
              "      <th>혈색소</th>\n",
              "      <td>0.106847</td>\n",
              "      <td>1.000000</td>\n",
              "      <td>0.228802</td>\n",
              "      <td>0.263183</td>\n",
              "      <td>0.101847</td>\n",
              "    </tr>\n",
              "    <tr>\n",
              "      <th>감마 지티피</th>\n",
              "      <td>0.167481</td>\n",
              "      <td>0.228802</td>\n",
              "      <td>1.000000</td>\n",
              "      <td>0.173534</td>\n",
              "      <td>0.017464</td>\n",
              "    </tr>\n",
              "    <tr>\n",
              "      <th>BMI</th>\n",
              "      <td>0.178013</td>\n",
              "      <td>0.263183</td>\n",
              "      <td>0.173534</td>\n",
              "      <td>1.000000</td>\n",
              "      <td>0.013058</td>\n",
              "    </tr>\n",
              "    <tr>\n",
              "      <th>평균시력</th>\n",
              "      <td>-0.049863</td>\n",
              "      <td>0.101847</td>\n",
              "      <td>0.017464</td>\n",
              "      <td>0.013058</td>\n",
              "      <td>1.000000</td>\n",
              "    </tr>\n",
              "  </tbody>\n",
              "</table>\n",
              "</div>"
            ],
            "text/plain": [
              "            식전혈당(공복혈당)       혈색소    감마 지티피       BMI      평균시력\n",
              "식전혈당(공복혈당)    1.000000  0.106847  0.167481  0.178013 -0.049863\n",
              "혈색소           0.106847  1.000000  0.228802  0.263183  0.101847\n",
              "감마 지티피        0.167481  0.228802  1.000000  0.173534  0.017464\n",
              "BMI           0.178013  0.263183  0.173534  1.000000  0.013058\n",
              "평균시력         -0.049863  0.101847  0.017464  0.013058  1.000000"
            ]
          },
          "metadata": {},
          "execution_count": 30
        }
      ]
    },
    {
      "cell_type": "code",
      "source": [
        "for col in list(eda.corr().columns):\n",
        "  plt.scatter(diabetes[col], diabetes['식전혈당(공복혈당)'])\n",
        "  plt.xticks(fontsize=20)\n",
        "  plt.yticks(fontsize=20)\n",
        "  plt.ylabel(\"공복혈당\",fontsize=20)\n",
        "  plt.xlabel(col,fontsize=20)\n",
        "  plt.show()\n",
        "  print('*'*100)"
      ],
      "metadata": {
        "colab": {
          "base_uri": "https://localhost:8080/",
          "height": 1000
        },
        "id": "LcjEWoNcQa68",
        "outputId": "47f7fe1d-653c-427c-9519-0153094923fc"
      },
      "execution_count": null,
      "outputs": [
        {
          "output_type": "display_data",
          "data": {
            "image/png": "[encoded data removed]",
            "text/plain": [
              "<Figure size 432x288 with 1 Axes>"
            ]
          },
          "metadata": {
            "needs_background": "light"
          }
        },
        {
          "output_type": "stream",
          "name": "stdout",
          "text": [
            "****************************************************************************************************\n"
          ]
        },
        {
          "output_type": "display_data",
          "data": {
            "image/png": "[encoded data removed]",
            "text/plain": [
              "<Figure size 432x288 with 1 Axes>"
            ]
          },
          "metadata": {
            "needs_background": "light"
          }
        },
        {
          "output_type": "stream",
          "name": "stdout",
          "text": [
            "****************************************************************************************************\n"
          ]
        },
        {
          "output_type": "display_data",
          "data": {
            "image/png": "[encoded data removed]",
            "text/plain": [
              "<Figure size 432x288 with 1 Axes>"
            ]
          },
          "metadata": {
            "needs_background": "light"
          }
        },
        {
          "output_type": "stream",
          "name": "stdout",
          "text": [
            "****************************************************************************************************\n"
          ]
        },
        {
          "output_type": "display_data",
          "data": {
            "image/png": "[encoded data removed]",
            "text/plain": [
              "<Figure size 432x288 with 1 Axes>"
            ]
          },
          "metadata": {
            "needs_background": "light"
          }
        },
        {
          "output_type": "stream",
          "name": "stdout",
          "text": [
            "****************************************************************************************************\n"
          ]
        },
        {
          "output_type": "display_data",
          "data": {
            "image/png": "[encoded data removed]",
            "text/plain": [
              "<Figure size 432x288 with 1 Axes>"
            ]
          },
          "metadata": {
            "needs_background": "light"
          }
        },
        {
          "output_type": "stream",
          "name": "stdout",
          "text": [
            "****************************************************************************************************\n"
          ]
        }
      ]
    },
    {
      "cell_type": "code",
      "source": [
        "for col in list(eda.columns):\n",
        "  if col not in list(eda.corr().columns):\n",
        "    diabetes.groupby(col)['식전혈당(공복혈당)'].mean().sort_values(ascending=False).plot(kind='barh', figsize=(10,7))\n",
        "    plt.xticks(rotation=45, fontsize=15)\n",
        "    plt.xticks(fontsize=20)\n",
        "    plt.yticks(fontsize=20)\n",
        "    plt.xlabel(\"공복혈당\",fontsize=20)\n",
        "    plt.ylabel(col,fontsize=20)\n",
        "    plt.legend(fontsize=15)\n",
        "    plt.show()\n",
        "    print('*'*100)"
      ],
      "metadata": {
        "colab": {
          "base_uri": "https://localhost:8080/",
          "height": 1000
        },
        "id": "uxs5RSW5MdEH",
        "outputId": "741534c1-d201-4e08-e143-428d420ffa77"
      },
      "execution_count": null,
      "outputs": [
        {
          "output_type": "display_data",
          "data": {
            "image/png": "[encoded data removed]",
            "text/plain": [
              "<Figure size 720x504 with 1 Axes>"
            ]
          },
          "metadata": {
            "needs_background": "light"
          }
        },
        {
          "output_type": "stream",
          "name": "stdout",
          "text": [
            "****************************************************************************************************\n"
          ]
        },
        {
          "output_type": "display_data",
          "data": {
            "image/png": "[encoded data removed]",
            "text/plain": [
              "<Figure size 720x504 with 1 Axes>"
            ]
          },
          "metadata": {
            "needs_background": "light"
          }
        },
        {
          "output_type": "stream",
          "name": "stdout",
          "text": [
            "****************************************************************************************************\n"
          ]
        },
        {
          "output_type": "display_data",
          "data": {
            "image/png": "[encoded data removed]",
            "text/plain": [
              "<Figure size 720x504 with 1 Axes>"
            ]
          },
          "metadata": {
            "needs_background": "light"
          }
        },
        {
          "output_type": "stream",
          "name": "stdout",
          "text": [
            "****************************************************************************************************\n"
          ]
        },
        {
          "output_type": "display_data",
          "data": {
            "image/png": "[encoded data removed]",
            "text/plain": [
              "<Figure size 720x504 with 1 Axes>"
            ]
          },
          "metadata": {
            "needs_background": "light"
          }
        },
        {
          "output_type": "stream",
          "name": "stdout",
          "text": [
            "****************************************************************************************************\n"
          ]
        },
        {
          "output_type": "display_data",
          "data": {
            "image/png": "[encoded data removed]",
            "text/plain": [
              "<Figure size 720x504 with 1 Axes>"
            ]
          },
          "metadata": {
            "needs_background": "light"
          }
        },
        {
          "output_type": "stream",
          "name": "stdout",
          "text": [
            "****************************************************************************************************\n"
          ]
        },
        {
          "output_type": "display_data",
          "data": {
            "image/png": "[encoded data removed]",
            "text/plain": [
              "<Figure size 720x504 with 1 Axes>"
            ]
          },
          "metadata": {
            "needs_background": "light"
          }
        },
        {
          "output_type": "stream",
          "name": "stdout",
          "text": [
            "****************************************************************************************************\n"
          ]
        }
      ]
    },
    {
      "cell_type": "code",
      "source": [
        ""
      ],
      "metadata": {
        "id": "J8Ecpop7PBmj"
      },
      "execution_count": null,
      "outputs": []
    },
    {
      "cell_type": "markdown",
      "source": [
        "# Regression Analysis"
      ],
      "metadata": {
        "id": "f22Ohr-bpVdV"
      }
    },
    {
      "cell_type": "code",
      "source": [
        "a = eda.rename(columns={'시도코드' : 'Region',\n",
        "                    '성별코드' : \"Gender\", \n",
        "                    '식전혈당(공복혈당)' : \"Fasting_Blood_Sugar\",\n",
        "                    '혈색소' : \"Hemoglobin\",\n",
        "                    '요단백' : \"Proteinuria\",\n",
        "                    '감마 지티피' : \"Gamma_GTP\",\n",
        "                    '흡연상태' : 'Smoke',\n",
        "                    '평균시력' : 'Avg_Eyesight',\n",
        "                    '고혈압' : 'Blood_pressure'})"
      ],
      "metadata": {
        "id": "oaAGOISesWGd"
      },
      "execution_count": null,
      "outputs": []
    },
    {
      "cell_type": "markdown",
      "source": [
        "## 사전작업"
      ],
      "metadata": {
        "id": "bSgU7Ja3RNFV"
      }
    },
    {
      "cell_type": "markdown",
      "source": [
        "독립변수, 종속변수 사이의 선형적인 패턴 확인\n",
        "\n",
        "산점도에 추세선을 넣어 데이터에 선형적인 패턴이 있는지 확인한다. "
      ],
      "metadata": {
        "id": "G3VROLjqRPyH"
      }
    },
    {
      "cell_type": "code",
      "source": [
        "# sns.regplot('BMI', 'Fasting_Blood_Sugar', lowess=True, data = a)\n",
        "# plt.show()"
      ],
      "metadata": {
        "id": "-A88gXj2RG6k"
      },
      "execution_count": null,
      "outputs": []
    },
    {
      "cell_type": "markdown",
      "source": [
        "Boxplot 으로 데이터 분포 및 outlier 확인\n",
        "\n",
        "극단값이 있을 경우 회귀분석의 결과가 왜곡될 수 있다. 상자 그림을 그려서 극단값이 있는지 확인해본다. "
      ],
      "metadata": {
        "id": "iew8g3blRa0u"
      }
    },
    {
      "cell_type": "code",
      "source": [
        "fig, (ax1, ax2) = plt.subplots(1, 2, figsize=(10,7))  \n",
        "\n",
        "# BMI의 상자 그림을 첫번째(ax1)로 그린다. 방향은 수직(orient='v')\n",
        "sns.boxplot(y= 'BMI', data=a, ax=ax1, orient='v')\n",
        "ax1.set_title('BMI')\n",
        "\n",
        "# Fasting_Blood_Sugar의 상자 그림을 두번째(ax2)로 그린다.\n",
        "sns.boxplot(y= 'Fasting_Blood_Sugar', data=a, ax=ax2, orient='v')\n",
        "ax2.set_title('Fasting_Blood_Sugar')\n",
        "\n",
        "plt.show()"
      ],
      "metadata": {
        "colab": {
          "base_uri": "https://localhost:8080/",
          "height": 430
        },
        "id": "2pPmWwk5RaZQ",
        "outputId": "d3194c14-49ee-44df-f580-34b71c851f50"
      },
      "execution_count": null,
      "outputs": [
        {
          "output_type": "display_data",
          "data": {
            "image/png": "[encoded data removed]",
            "text/plain": [
              "<Figure size 720x504 with 2 Axes>"
            ]
          },
          "metadata": {
            "needs_background": "light"
          }
        }
      ]
    },
    {
      "cell_type": "markdown",
      "source": [
        "선형회귀분석은 독립변수와 종속변수가 정규분포를 따를 때 잘 작동한다. 밀도 플롯(density plot)을 그려서 정규분포의 형태인지 확인해본다."
      ],
      "metadata": {
        "id": "2UNot5pLR4sV"
      }
    },
    {
      "cell_type": "code",
      "source": [
        "# 1행 2열 형태로 2개의 그래프를 그린다\n",
        "fig, (ax1, ax2) = plt.subplots(1, 2, figsize=(10,5))  \n",
        "\n",
        "# BMI의 밀도 플롯\n",
        "sns.kdeplot(a['BMI'], ax=ax1)\n",
        "ax1.set_title('BMI')\n",
        "\n",
        "# FBS의 밀도 플롯\n",
        "sns.kdeplot(a['Fasting_Blood_Sugar'], ax=ax2)\n",
        "ax2.set_title('Fasting_Blood_Sugar')\n",
        "\n",
        "plt.show()"
      ],
      "metadata": {
        "colab": {
          "base_uri": "https://localhost:8080/",
          "height": 349
        },
        "id": "wXKNhfcSR4Z_",
        "outputId": "f6f54e25-83a2-4c2a-ef43-9f201dc20ec0"
      },
      "execution_count": null,
      "outputs": [
        {
          "output_type": "display_data",
          "data": {
            "image/png": "[encoded data removed]",
            "text/plain": [
              "<Figure size 720x360 with 2 Axes>"
            ]
          },
          "metadata": {
            "needs_background": "light"
          }
        }
      ]
    },
    {
      "cell_type": "markdown",
      "source": [
        "데이터가 치우친 정도를 나타내는 왜도(skewness)를 구해본다. e1071 라이브러리가 없을 경우에는 install.packages('e1071')을 실행하여 설치한다."
      ],
      "metadata": {
        "id": "91e3hwqiTRoS"
      }
    },
    {
      "cell_type": "code",
      "source": [
        "scipy.stats.skew(a['BMI'])"
      ],
      "metadata": {
        "colab": {
          "base_uri": "https://localhost:8080/"
        },
        "id": "7R_GBQicSjPs",
        "outputId": "91b7102a-3134-49de-b58b-4ac928469f43"
      },
      "execution_count": null,
      "outputs": [
        {
          "output_type": "execute_result",
          "data": {
            "text/plain": [
              "0.5258787431888493"
            ]
          },
          "metadata": {},
          "execution_count": 37
        }
      ]
    },
    {
      "cell_type": "code",
      "source": [
        "scipy.stats.skew(a['Fasting_Blood_Sugar'])"
      ],
      "metadata": {
        "colab": {
          "base_uri": "https://localhost:8080/"
        },
        "id": "_GP_ZCAsTQFr",
        "outputId": "87b90e0b-842f-4ab6-ca76-053d95ece759"
      },
      "execution_count": null,
      "outputs": [
        {
          "output_type": "execute_result",
          "data": {
            "text/plain": [
              "4.625083190144624"
            ]
          },
          "metadata": {},
          "execution_count": 38
        }
      ]
    },
    {
      "cell_type": "markdown",
      "source": [
        "## 분석"
      ],
      "metadata": {
        "id": "PujPuKqLTYqT"
      }
    },
    {
      "cell_type": "markdown",
      "source": [
        "### 단순회귀"
      ],
      "metadata": {
        "id": "PY3ehLK07MJm"
      }
    },
    {
      "cell_type": "markdown",
      "source": [
        "#### ols 함수로 회귀분석을 실시한다. \n",
        "\n",
        "종속변수 ~ 독립변수의 형태로 모형식을 쓴다. \n",
        "\n",
        "(수학에서는 y= f(x)처럼 종속변수를 왼쪽에, 독립변수를 오른쪽에 쓰는 것이 관습)"
      ],
      "metadata": {
        "id": "Zly5YROiULkw"
      }
    },
    {
      "cell_type": "code",
      "source": [
        "model = ols('Fasting_Blood_Sugar ~ BMI', data=a)\n",
        "res = model.fit()"
      ],
      "metadata": {
        "id": "gHcY8crzp5p6"
      },
      "execution_count": null,
      "outputs": []
    },
    {
      "cell_type": "code",
      "source": [
        "print(res.summary())"
      ],
      "metadata": {
        "colab": {
          "base_uri": "https://localhost:8080/"
        },
        "id": "yb3FIaRYuK9d",
        "outputId": "2b24168b-5b36-48ac-e081-799d05f5de88"
      },
      "execution_count": null,
      "outputs": [
        {
          "output_type": "stream",
          "name": "stdout",
          "text": [
            "                             OLS Regression Results                            \n",
            "===============================================================================\n",
            "Dep. Variable:     Fasting_Blood_Sugar   R-squared:                       0.032\n",
            "Model:                             OLS   Adj. R-squared:                  0.032\n",
            "Method:                  Least Squares   F-statistic:                 3.443e+04\n",
            "Date:                 Wed, 15 Dec 2021   Prob (F-statistic):               0.00\n",
            "Time:                         14:05:28   Log-Likelihood:            -4.8083e+06\n",
            "No. Observations:              1052215   AIC:                         9.617e+06\n",
            "Df Residuals:                  1052213   BIC:                         9.617e+06\n",
            "Df Model:                            1                                         \n",
            "Covariance Type:             nonrobust                                         \n",
            "==============================================================================\n",
            "                 coef    std err          t      P>|t|      [0.025      0.975]\n",
            "------------------------------------------------------------------------------\n",
            "Intercept     72.8232      0.153    476.882      0.000      72.524      73.122\n",
            "BMI            1.1676      0.006    185.565      0.000       1.155       1.180\n",
            "==============================================================================\n",
            "Omnibus:                  1041517.119   Durbin-Watson:                   2.000\n",
            "Prob(Omnibus):                  0.000   Jarque-Bera (JB):         91955797.678\n",
            "Skew:                           4.718   Prob(JB):                         0.00\n",
            "Kurtosis:                      47.815   Cond. No.                         163.\n",
            "==============================================================================\n",
            "\n",
            "Warnings:\n",
            "[1] Standard Errors assume that the covariance matrix of the errors is correctly specified.\n"
          ]
        }
      ]
    },
    {
      "cell_type": "markdown",
      "source": [
        "먼저 모형적합도를 보고한다. F 분포의 파라미터 2개와 그 때의 F 값, p-value와 유의수준의 비교를 적시한다.\n",
        "\n",
        "Fasting_Blood_Sugar에 대하여 BMI로 예측하는 회귀분석을 실시한 결과, 이 회귀모형은 통계적으로 유의미하였다(F(1,1052213) = 3.443e+04, p < 0.05).\n",
        "\n",
        "독립변수에 대해 보고한다.\n",
        "\n",
        "BMI의 회귀계수는 1.1676 로, Fasting_Blood_Sugar에 대하여 유의미한 예측 변인인 것으로 나타났다(t(1052213) = 185.565, p < 0.05)."
      ],
      "metadata": {
        "id": "uCw1_hjZVJaL"
      }
    },
    {
      "cell_type": "markdown",
      "source": [
        "#### 절편의 고정\n",
        "\n",
        "Intercept 의 coef 가 음수 이고, 종속변수의 값이 음수가 될 수 없을 경우\n",
        "절편을 제거하여 절편을 0 으로 고정 시킨 것과 같이 만든다.\n",
        "\n",
        "모형에서 절편을 제거한 경우 R제곱을 해석할 때 주의가 필요하다. 절편이 있는 경우와 없는 경우 계산 방식이 다르기 때문이다. 절편이 있는 경우에 R제곱은 종속변수의 분산에서 설명하는 비율을 나타내지만, 절편이 없는 경우는 종속변수의 제곱의 평균에서 설명하는 비율을 나타낸다."
      ],
      "metadata": {
        "id": "IBLdcADkXYE5"
      }
    },
    {
      "cell_type": "code",
      "source": [
        "# res = ols('dist ~ 0 + speed', cars).fit()\n",
        "# res.summary()"
      ],
      "metadata": {
        "id": "OWRZ7WfyXYSx"
      },
      "execution_count": null,
      "outputs": []
    },
    {
      "cell_type": "markdown",
      "source": [
        "#### 다중공선성 확인"
      ],
      "metadata": {
        "id": "QADLE5ftU1E9"
      }
    },
    {
      "cell_type": "code",
      "source": [
        "model = ols('Fasting_Blood_Sugar ~ BMI + Gamma_GTP + Hemoglobin', data=a)\n",
        "res = model.fit()\n",
        "print(res.summary())"
      ],
      "metadata": {
        "colab": {
          "base_uri": "https://localhost:8080/"
        },
        "id": "0EfFcvSiZIgD",
        "outputId": "0cd743bd-26b3-4f83-d4f5-b53d6b2499c6"
      },
      "execution_count": null,
      "outputs": [
        {
          "output_type": "stream",
          "name": "stdout",
          "text": [
            "                             OLS Regression Results                            \n",
            "===============================================================================\n",
            "Dep. Variable:     Fasting_Blood_Sugar   R-squared:                       0.052\n",
            "Model:                             OLS   Adj. R-squared:                  0.052\n",
            "Method:                  Least Squares   F-statistic:                 1.933e+04\n",
            "Date:                 Wed, 15 Dec 2021   Prob (F-statistic):               0.00\n",
            "Time:                         14:05:36   Log-Likelihood:            -4.7970e+06\n",
            "No. Observations:              1052215   AIC:                         9.594e+06\n",
            "Df Residuals:                  1052211   BIC:                         9.594e+06\n",
            "Df Model:                            3                                         \n",
            "Covariance Type:             nonrobust                                         \n",
            "==============================================================================\n",
            "                 coef    std err          t      P>|t|      [0.025      0.975]\n",
            "------------------------------------------------------------------------------\n",
            "Intercept     67.4242      0.233    289.309      0.000      66.967      67.881\n",
            "BMI            0.9496      0.007    146.095      0.000       0.937       0.962\n",
            "Gamma_GTP      0.0652      0.000    136.057      0.000       0.064       0.066\n",
            "Hemoglobin     0.5794      0.015     38.073      0.000       0.550       0.609\n",
            "==============================================================================\n",
            "Omnibus:                  1041227.190   Durbin-Watson:                   2.001\n",
            "Prob(Omnibus):                  0.000   Jarque-Bera (JB):         94018106.980\n",
            "Skew:                           4.706   Prob(JB):                         0.00\n",
            "Kurtosis:                      48.342   Cond. No.                         657.\n",
            "==============================================================================\n",
            "\n",
            "Warnings:\n",
            "[1] Standard Errors assume that the covariance matrix of the errors is correctly specified.\n"
          ]
        }
      ]
    },
    {
      "cell_type": "markdown",
      "source": [
        "독립변수들의 이름"
      ],
      "metadata": {
        "id": "OWNkE9zZY1sd"
      }
    },
    {
      "cell_type": "code",
      "source": [
        "model.exog_names"
      ],
      "metadata": {
        "colab": {
          "base_uri": "https://localhost:8080/"
        },
        "id": "VyWzwdUK8Akw",
        "outputId": "472bb1c5-1cdd-45e4-dc00-bfb5a5150446"
      },
      "execution_count": null,
      "outputs": [
        {
          "output_type": "execute_result",
          "data": {
            "text/plain": [
              "['Intercept', 'BMI', 'Gamma_GTP', 'Hemoglobin']"
            ]
          },
          "metadata": {},
          "execution_count": 43
        }
      ]
    },
    {
      "cell_type": "markdown",
      "source": [
        "X의 첫번째 독립변수의 VIF를 계산"
      ],
      "metadata": {
        "id": "1-nSpJHBY4uH"
      }
    },
    {
      "cell_type": "code",
      "source": [
        "variance_inflation_factor(model.exog, 1)"
      ],
      "metadata": {
        "colab": {
          "base_uri": "https://localhost:8080/"
        },
        "id": "Q4EZR5teyoFC",
        "outputId": "9e7f4085-88cb-46fe-93d5-92e38ae618a5"
      },
      "execution_count": null,
      "outputs": [
        {
          "output_type": "execute_result",
          "data": {
            "text/plain": [
              "1.0902932579979665"
            ]
          },
          "metadata": {},
          "execution_count": 44
        }
      ]
    },
    {
      "cell_type": "markdown",
      "source": [
        "한번에 모든 VIF 계산"
      ],
      "metadata": {
        "id": "Hn-H96bZY_7p"
      }
    },
    {
      "cell_type": "code",
      "source": [
        "pd.DataFrame({'컬럼': column, 'VIF': variance_inflation_factor(model.exog, i)} \n",
        "             for i, column in enumerate(model.exog_names)\n",
        "             if column != 'Intercept')"
      ],
      "metadata": {
        "colab": {
          "base_uri": "https://localhost:8080/",
          "height": 143
        },
        "id": "LCa-mvwN7kuw",
        "outputId": "443cfe70-da3e-4828-d9f4-29e22d695470"
      },
      "execution_count": null,
      "outputs": [
        {
          "output_type": "execute_result",
          "data": {
            "text/html": [
              "<div>\n",
              "<style scoped>\n",
              "    .dataframe tbody tr th:only-of-type {\n",
              "        vertical-align: middle;\n",
              "    }\n",
              "\n",
              "    .dataframe tbody tr th {\n",
              "        vertical-align: top;\n",
              "    }\n",
              "\n",
              "    .dataframe thead th {\n",
              "        text-align: right;\n",
              "    }\n",
              "</style>\n",
              "<table border=\"1\" class=\"dataframe\">\n",
              "  <thead>\n",
              "    <tr style=\"text-align: right;\">\n",
              "      <th></th>\n",
              "      <th>컬럼</th>\n",
              "      <th>VIF</th>\n",
              "    </tr>\n",
              "  </thead>\n",
              "  <tbody>\n",
              "    <tr>\n",
              "      <th>0</th>\n",
              "      <td>BMI</td>\n",
              "      <td>1.090293</td>\n",
              "    </tr>\n",
              "    <tr>\n",
              "      <th>1</th>\n",
              "      <td>Gamma_GTP</td>\n",
              "      <td>1.070832</td>\n",
              "    </tr>\n",
              "    <tr>\n",
              "      <th>2</th>\n",
              "      <td>Hemoglobin</td>\n",
              "      <td>1.115877</td>\n",
              "    </tr>\n",
              "  </tbody>\n",
              "</table>\n",
              "</div>"
            ],
            "text/plain": [
              "           컬럼       VIF\n",
              "0         BMI  1.090293\n",
              "1   Gamma_GTP  1.070832\n",
              "2  Hemoglobin  1.115877"
            ]
          },
          "metadata": {},
          "execution_count": 45
        }
      ]
    },
    {
      "cell_type": "markdown",
      "source": [
        "#### 잔차분석\n",
        "\n",
        "모형의 선형성\n",
        "\n",
        "* 예측값(fitted)과 잔차(residual)의 비교\n",
        "* 모든 예측값에서 잔차가 비슷하게 있어야 함(가운데 점선)\n",
        "* 빨간 실선은 잔차의 추세를 나타냄\n",
        "* 빨간 실선이 점선에서 크게 벗어난다면 예측값에 따라 잔차가 크게 달라진다는 것"
      ],
      "metadata": {
        "id": "Qvo-yYP-aM8A"
      }
    },
    {
      "cell_type": "code",
      "source": [
        "t_df = a[['Fasting_Blood_Sugar', 'BMI']]"
      ],
      "metadata": {
        "id": "XZ9L_4pBdHfm"
      },
      "execution_count": null,
      "outputs": []
    },
    {
      "cell_type": "code",
      "source": [
        "model = ols('Fasting_Blood_Sugar ~ BMI', data=a)\n",
        "res = model.fit()"
      ],
      "metadata": {
        "id": "giJiZtafdePZ"
      },
      "execution_count": null,
      "outputs": []
    },
    {
      "cell_type": "code",
      "source": [
        "fitted = res.predict(t_df)\n",
        "residual = t_df['Fasting_Blood_Sugar'] - fitted"
      ],
      "metadata": {
        "id": "C_q0kb_3aZsL"
      },
      "execution_count": null,
      "outputs": []
    },
    {
      "cell_type": "code",
      "source": [
        "sns.regplot(fitted, residual, lowess=True, line_kws={'color': 'yellow'})\n",
        "plt.plot([fitted.min(), fitted.max()], [0, 0], '--', color='red')\n",
        "plt.show()"
      ],
      "metadata": {
        "colab": {
          "base_uri": "https://localhost:8080/",
          "height": 320
        },
        "id": "319BZZAuavpD",
        "outputId": "d9a6f00d-d9ba-4584-9e46-8d8fe8612dce"
      },
      "execution_count": null,
      "outputs": [
        {
          "output_type": "stream",
          "name": "stderr",
          "text": [
            "/usr/local/lib/python3.7/dist-packages/seaborn/_decorators.py:43: FutureWarning: Pass the following variables as keyword args: x, y. From version 0.12, the only valid positional argument will be `data`, and passing other arguments without an explicit keyword will result in an error or misinterpretation.\n",
            "  FutureWarning\n"
          ]
        },
        {
          "output_type": "display_data",
          "data": {
            "image/png": "[encoded data removed]",
            "text/plain": [
              "<Figure size 432x288 with 1 Axes>"
            ]
          },
          "metadata": {
            "needs_background": "light"
          }
        }
      ]
    },
    {
      "cell_type": "markdown",
      "source": [
        "잔차의 정규성\n",
        "* 잔차가 정규분포를 따른다는 가정\n",
        "* Q-Q 플롯으로 확인할 수 있음\n",
        "* 잔차가 정규분포를 띄면 Q-Q 플롯에서 점들이 점선을 따라 배치되어 있어야 함"
      ],
      "metadata": {
        "id": "wMQI9IRabDAK"
      }
    },
    {
      "cell_type": "code",
      "source": [
        "sr = scipy.stats.zscore(residual)\n",
        "(x, y), _ = scipy.stats.probplot(sr)"
      ],
      "metadata": {
        "id": "esa0VsLZbpWn"
      },
      "execution_count": null,
      "outputs": []
    },
    {
      "cell_type": "code",
      "source": [
        "sns.scatterplot(x, y)\n",
        "plt.plot([-3, 3], [-3, 3], '--', color='grey')"
      ],
      "metadata": {
        "colab": {
          "base_uri": "https://localhost:8080/",
          "height": 389
        },
        "id": "U46q526cbtGY",
        "outputId": "69a7842b-9c42-4fea-fb57-f903613be677"
      },
      "execution_count": null,
      "outputs": [
        {
          "output_type": "stream",
          "name": "stderr",
          "text": [
            "/usr/local/lib/python3.7/dist-packages/seaborn/_decorators.py:43: FutureWarning: Pass the following variables as keyword args: x, y. From version 0.12, the only valid positional argument will be `data`, and passing other arguments without an explicit keyword will result in an error or misinterpretation.\n",
            "  FutureWarning\n"
          ]
        },
        {
          "output_type": "execute_result",
          "data": {
            "text/plain": [
              "[<matplotlib.lines.Line2D at 0x7ff686a85f50>]"
            ]
          },
          "metadata": {},
          "execution_count": 62
        },
        {
          "output_type": "stream",
          "name": "stderr",
          "text": [
            "/usr/local/lib/python3.7/dist-packages/matplotlib/backends/backend_agg.py:214: RuntimeWarning: Glyph 8722 missing from current font.\n",
            "  font.set_text(s, 0.0, flags=flags)\n",
            "/usr/local/lib/python3.7/dist-packages/matplotlib/backends/backend_agg.py:183: RuntimeWarning: Glyph 8722 missing from current font.\n",
            "  font.set_text(s, 0, flags=flags)\n"
          ]
        },
        {
          "output_type": "display_data",
          "data": {
            "image/png": "[encoded data removed]",
            "text/plain": [
              "<Figure size 432x288 with 1 Axes>"
            ]
          },
          "metadata": {
            "needs_background": "light"
          }
        }
      ]
    },
    {
      "cell_type": "markdown",
      "source": [
        "잔차의 정규성은 샤피로 검정으로 확인할 수 있다. 아래 분석에서 두 번째 값이 p값이다. p값이 0.02이므로 유의수준 5%에서 잔차의 정규성이 위반되었다고 판단한다."
      ],
      "metadata": {
        "id": "UAl1ZKVRbu_n"
      }
    },
    {
      "cell_type": "code",
      "source": [
        "scipy.stats.shapiro(residual)"
      ],
      "metadata": {
        "colab": {
          "base_uri": "https://localhost:8080/"
        },
        "id": "OIw7u_pXbzKR",
        "outputId": "22de11f6-de8c-42f6-f26a-e6fdb3f26afe"
      },
      "execution_count": null,
      "outputs": [
        {
          "output_type": "stream",
          "name": "stderr",
          "text": [
            "/usr/local/lib/python3.7/dist-packages/scipy/stats/morestats.py:1676: UserWarning: p-value may not be accurate for N > 5000.\n",
            "  warnings.warn(\"p-value may not be accurate for N > 5000.\")\n"
          ]
        },
        {
          "output_type": "execute_result",
          "data": {
            "text/plain": [
              "(0.6652841567993164, 0.0)"
            ]
          },
          "metadata": {},
          "execution_count": 63
        }
      ]
    },
    {
      "cell_type": "markdown",
      "source": [
        "잔차의 등분산성\n",
        "* 회귀모형을 통햬 예측된 값이 크던 작던, 모든 값들에 대하여 잔차의 분산이 동일하다는 가정\n",
        "* 아래 그래프는 예측값(가로축)에 따라 잔차가 어떻게 달라지는지 보여줌\n",
        "* 빨간색 실선이 수평선을 그리는 것이 이상적"
      ],
      "metadata": {
        "id": "lQieXea0b21h"
      }
    },
    {
      "cell_type": "code",
      "source": [
        "sns.regplot(fitted, np.sqrt(np.abs(sr)), lowess=True, line_kws={'color': 'red'})"
      ],
      "metadata": {
        "colab": {
          "base_uri": "https://localhost:8080/",
          "height": 337
        },
        "id": "wPOwu6CNb-84",
        "outputId": "8e499841-3149-4ba8-f17f-90816992e598"
      },
      "execution_count": null,
      "outputs": [
        {
          "output_type": "stream",
          "name": "stderr",
          "text": [
            "/usr/local/lib/python3.7/dist-packages/seaborn/_decorators.py:43: FutureWarning: Pass the following variables as keyword args: x, y. From version 0.12, the only valid positional argument will be `data`, and passing other arguments without an explicit keyword will result in an error or misinterpretation.\n",
            "  FutureWarning\n"
          ]
        },
        {
          "output_type": "execute_result",
          "data": {
            "text/plain": [
              "<matplotlib.axes._subplots.AxesSubplot at 0x7ff6869d6790>"
            ]
          },
          "metadata": {},
          "execution_count": 64
        },
        {
          "output_type": "display_data",
          "data": {
            "image/png": "[encoded data removed]",
            "text/plain": [
              "<Figure size 432x288 with 1 Axes>"
            ]
          },
          "metadata": {
            "needs_background": "light"
          }
        }
      ]
    },
    {
      "cell_type": "markdown",
      "source": [
        "극단값\n",
        "\n",
        "* Cook's distance는 극단값을 나타내는 지표"
      ],
      "metadata": {
        "id": "SPKquU7ucA2e"
      }
    },
    {
      "cell_type": "code",
      "source": [
        "cd, _ = OLSInfluence(res).cooks_distance"
      ],
      "metadata": {
        "id": "C15JArX_cRQR"
      },
      "execution_count": null,
      "outputs": []
    },
    {
      "cell_type": "markdown",
      "source": [
        "619217 번 자료가 예측에서 많이 벗어남"
      ],
      "metadata": {
        "id": "wDTNyFzhcaqQ"
      }
    },
    {
      "cell_type": "code",
      "source": [
        "cd.sort_values(ascending=False).head()"
      ],
      "metadata": {
        "colab": {
          "base_uri": "https://localhost:8080/"
        },
        "id": "GQS_H7jpcSbh",
        "outputId": "b4c6d361-ca8d-4b6a-adb3-28787f3273e2"
      },
      "execution_count": null,
      "outputs": [
        {
          "output_type": "execute_result",
          "data": {
            "text/plain": [
              "608433     0.001613\n",
              "961798     0.001311\n",
              "1029672    0.001137\n",
              "17201      0.001099\n",
              "444246     0.001002\n",
              "dtype: float64"
            ]
          },
          "metadata": {},
          "execution_count": 66
        }
      ]
    },
    {
      "cell_type": "markdown",
      "source": [
        "잔차의 독립성\n",
        "* 회귀분석에서 잔차는 정규성, 등분산성 그리고 독립성을 가지는 것으로 가정\n",
        "* 자료 수집 과정에서 무작위 표집(random sampling)을 하였다면, 잔차의 독립성은 만족하는 것으로 봄\n",
        "* 시계열 자료나 종단연구 자료처럼, 연구 설계 자체가 독립성을 담보할 수 없는 경우에는 더빈-왓슨 검정(Durbin-Watson test) 등을 실시"
      ],
      "metadata": {
        "id": "0kmLy5agcdo5"
      }
    },
    {
      "cell_type": "markdown",
      "source": [
        "잔차 분석 결과를 바탕으로 대응\n",
        "\n",
        "잔차 분석 결과에 따라 다양한 방식의 대응이 가능\n",
        "* 극단값을 제거\n",
        "* 독립변수를 추가\n",
        "* 종속변수를 수학적으로 변환\n",
        "\n",
        "위의 예에서는 619217번 자료가 극단값으로 보이고 이 때문에 잔차의 정규성이 위배되는 것으로 추측된다. 따라서 619217번 자료를 제거하고 다시 분석을 시도해볼 수 있다."
      ],
      "metadata": {
        "id": "T-Ql9SNFcihn"
      }
    }
  ]
}