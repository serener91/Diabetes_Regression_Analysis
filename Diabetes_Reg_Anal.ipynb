{
  "nbformat": 4,
  "nbformat_minor": 0,
  "metadata": {
    "colab": {
      "name": "Diabetes_Reg_Anal.ipynb",
      "provenance": [],
      "collapsed_sections": [],
      "toc_visible": true
    },
    "kernelspec": {
      "name": "python3",
      "display_name": "Python 3"
    },
    "language_info": {
      "name": "python"
    }
  },
  "cells": [
    {
      "cell_type": "markdown",
      "source": [
        "# Diabetes Prediction via a Regression Analysis\n",
        "\n",
        "* By. Gukhwan Hyun"
      ],
      "metadata": {
        "id": "KNSF3KPfoe8x"
      }
    },
    {
      "cell_type": "markdown",
      "source": [
        "# Packages"
      ],
      "metadata": {
        "id": "8PdrL10Qopxj"
      }
    },
    {
      "cell_type": "code",
      "execution_count": 29,
      "metadata": {
        "id": "9_Kvezd5uv7H"
      },
      "outputs": [],
      "source": [
        "import pandas as pd\n",
        "import numpy as np\n",
        "import matplotlib.pyplot as plt\n",
        "import seaborn as sns\n",
        "\n",
        "import statsmodels.api as sm\n",
        "# from statsmodels.formula.api import ols\n",
        "from statsmodels.regression.linear_model import OLS\n",
        "from statsmodels.tools import add_constant\n",
        "from statsmodels.stats.outliers_influence import variance_inflation_factor, OLSInfluence\n",
        "from statsmodels.stats.stattools import durbin_watson\n",
        "from statsmodels.graphics.gofplots import qqplot\n",
        "\n",
        "import scipy.stats\n",
        "\n",
        "from sklearn.linear_model import LinearRegression, Ridge, Lasso\n",
        "from sklearn.model_selection import train_test_split\n",
        "from sklearn.metrics import mean_squared_error, r2_score"
      ]
    },
    {
      "cell_type": "markdown",
      "source": [
        "한글깨짐 해결"
      ],
      "metadata": {
        "id": "Pog3eKZLWjdl"
      }
    },
    {
      "cell_type": "code",
      "source": [
        "# !sudo apt-get install -y fonts-nanum\n",
        "# !sudo fc-cache -fv\n",
        "# !rm ~/.cache/matplotlib -rf"
      ],
      "metadata": {
        "id": "RUebzHKvWmDs"
      },
      "execution_count": null,
      "outputs": []
    },
    {
      "cell_type": "code",
      "source": [
        "plt.rc('font', family='NanumBarunGothic') "
      ],
      "metadata": {
        "id": "gjYJRL2eSb-X"
      },
      "execution_count": null,
      "outputs": []
    },
    {
      "cell_type": "markdown",
      "source": [
        "압축파일처리"
      ],
      "metadata": {
        "id": "gwYiVmhyW-0P"
      }
    },
    {
      "cell_type": "code",
      "source": [
        "# import zipfile\n",
        "# path_to_zip_file = '/content/drive/MyDrive/Data Science/국민건강보험공단_건강검진정보_20201231.zip'\n",
        "# directory_to_extract_to = '/content/drive/MyDrive/Data Science/physicals'\n",
        "\n",
        "# with zipfile.ZipFile(path_to_zip_file, 'r') as zip_ref:\n",
        "#     zip_ref.extractall(directory_to_extract_to)"
      ],
      "metadata": {
        "id": "GcwEWjpkuzNB"
      },
      "execution_count": null,
      "outputs": []
    },
    {
      "cell_type": "markdown",
      "source": [
        "# Load the dataset\n",
        "  * skipped a single data due to an error"
      ],
      "metadata": {
        "id": "oVzpzobZor-5"
      }
    },
    {
      "cell_type": "code",
      "source": [
        "dataset = pd.read_csv('/content/drive/MyDrive/Data Science/Data_Analysis/Regression_Analysis/SCR_2019_1백만20210119수정.csv', \n",
        "                      encoding='cp949',\n",
        "                      error_bad_lines=False)\n",
        "dataset"
      ],
      "metadata": {
        "id": "B8XqbImFvc1q",
        "colab": {
          "base_uri": "https://localhost:8080/",
          "height": 991
        },
        "outputId": "e8eaf7ee-99e9-484d-8cd6-99820dbff1bd"
      },
      "execution_count": 2,
      "outputs": [
        {
          "output_type": "stream",
          "name": "stderr",
          "text": [
            "b'Skipping line 175683: expected 34 fields, saw 36\\n'\n"
          ]
        },
        {
          "output_type": "execute_result",
          "data": {
            "text/html": [
              "\n",
              "  <div id=\"df-a444a4cf-4303-4f89-a5d4-4287bb902336\">\n",
              "    <div class=\"colab-df-container\">\n",
              "      <div>\n",
              "<style scoped>\n",
              "    .dataframe tbody tr th:only-of-type {\n",
              "        vertical-align: middle;\n",
              "    }\n",
              "\n",
              "    .dataframe tbody tr th {\n",
              "        vertical-align: top;\n",
              "    }\n",
              "\n",
              "    .dataframe thead th {\n",
              "        text-align: right;\n",
              "    }\n",
              "</style>\n",
              "<table border=\"1\" class=\"dataframe\">\n",
              "  <thead>\n",
              "    <tr style=\"text-align: right;\">\n",
              "      <th></th>\n",
              "      <th>기준년도</th>\n",
              "      <th>가입자 일련번호</th>\n",
              "      <th>시도코드</th>\n",
              "      <th>성별코드</th>\n",
              "      <th>연령대 코드(5세단위)</th>\n",
              "      <th>신장(5Cm단위)</th>\n",
              "      <th>체중(5Kg 단위)</th>\n",
              "      <th>허리둘레</th>\n",
              "      <th>시력(좌)</th>\n",
              "      <th>시력(우)</th>\n",
              "      <th>청력(좌)</th>\n",
              "      <th>청력(우)</th>\n",
              "      <th>수축기 혈압</th>\n",
              "      <th>이완기 혈압</th>\n",
              "      <th>식전혈당(공복혈당)</th>\n",
              "      <th>총 콜레스테롤</th>\n",
              "      <th>트리글리세라이드</th>\n",
              "      <th>HDL 콜레스테롤</th>\n",
              "      <th>LDL 콜레스테롤</th>\n",
              "      <th>혈색소</th>\n",
              "      <th>요단백</th>\n",
              "      <th>혈청크레아티닌</th>\n",
              "      <th>(혈청지오티)AST</th>\n",
              "      <th>(혈청지오티)ALT</th>\n",
              "      <th>감마 지티피</th>\n",
              "      <th>흡연상태</th>\n",
              "      <th>음주여부</th>\n",
              "      <th>구강검진 수검여부</th>\n",
              "      <th>치아우식증유무</th>\n",
              "      <th>결손치 유무</th>\n",
              "      <th>치아마모증유무</th>\n",
              "      <th>제3대구치(사랑니) 이상</th>\n",
              "      <th>치석</th>\n",
              "      <th>데이터 공개일자</th>\n",
              "    </tr>\n",
              "  </thead>\n",
              "  <tbody>\n",
              "    <tr>\n",
              "      <th>0</th>\n",
              "      <td>2019</td>\n",
              "      <td>1</td>\n",
              "      <td>11</td>\n",
              "      <td>1</td>\n",
              "      <td>13</td>\n",
              "      <td>165</td>\n",
              "      <td>65</td>\n",
              "      <td>90.0</td>\n",
              "      <td>1.5</td>\n",
              "      <td>1.2</td>\n",
              "      <td>1.0</td>\n",
              "      <td>1.0</td>\n",
              "      <td>112.0</td>\n",
              "      <td>70.0</td>\n",
              "      <td>93.0</td>\n",
              "      <td>NaN</td>\n",
              "      <td>NaN</td>\n",
              "      <td>NaN</td>\n",
              "      <td>NaN</td>\n",
              "      <td>15.5</td>\n",
              "      <td>1.0</td>\n",
              "      <td>1.0</td>\n",
              "      <td>18.0</td>\n",
              "      <td>32.0</td>\n",
              "      <td>47.0</td>\n",
              "      <td>2.0</td>\n",
              "      <td>NaN</td>\n",
              "      <td>1</td>\n",
              "      <td>0.0</td>\n",
              "      <td>미시행</td>\n",
              "      <td>미시행</td>\n",
              "      <td>미시행</td>\n",
              "      <td>1.0</td>\n",
              "      <td>2019-12-31</td>\n",
              "    </tr>\n",
              "    <tr>\n",
              "      <th>1</th>\n",
              "      <td>2019</td>\n",
              "      <td>2</td>\n",
              "      <td>48</td>\n",
              "      <td>2</td>\n",
              "      <td>5</td>\n",
              "      <td>155</td>\n",
              "      <td>45</td>\n",
              "      <td>64.0</td>\n",
              "      <td>1.2</td>\n",
              "      <td>0.5</td>\n",
              "      <td>1.0</td>\n",
              "      <td>1.0</td>\n",
              "      <td>114.0</td>\n",
              "      <td>76.0</td>\n",
              "      <td>89.0</td>\n",
              "      <td>NaN</td>\n",
              "      <td>NaN</td>\n",
              "      <td>NaN</td>\n",
              "      <td>NaN</td>\n",
              "      <td>14.0</td>\n",
              "      <td>1.0</td>\n",
              "      <td>0.5</td>\n",
              "      <td>15.0</td>\n",
              "      <td>8.0</td>\n",
              "      <td>13.0</td>\n",
              "      <td>1.0</td>\n",
              "      <td>1.0</td>\n",
              "      <td>0</td>\n",
              "      <td>NaN</td>\n",
              "      <td>미시행</td>\n",
              "      <td>미시행</td>\n",
              "      <td>미시행</td>\n",
              "      <td>NaN</td>\n",
              "      <td>2019-12-31</td>\n",
              "    </tr>\n",
              "    <tr>\n",
              "      <th>2</th>\n",
              "      <td>2019</td>\n",
              "      <td>3</td>\n",
              "      <td>41</td>\n",
              "      <td>1</td>\n",
              "      <td>13</td>\n",
              "      <td>160</td>\n",
              "      <td>70</td>\n",
              "      <td>87.0</td>\n",
              "      <td>0.9</td>\n",
              "      <td>0.8</td>\n",
              "      <td>1.0</td>\n",
              "      <td>1.0</td>\n",
              "      <td>109.0</td>\n",
              "      <td>73.0</td>\n",
              "      <td>100.0</td>\n",
              "      <td>232.0</td>\n",
              "      <td>114.0</td>\n",
              "      <td>57.0</td>\n",
              "      <td>152.0</td>\n",
              "      <td>15.6</td>\n",
              "      <td>1.0</td>\n",
              "      <td>1.0</td>\n",
              "      <td>30.0</td>\n",
              "      <td>21.0</td>\n",
              "      <td>17.0</td>\n",
              "      <td>1.0</td>\n",
              "      <td>1.0</td>\n",
              "      <td>0</td>\n",
              "      <td>NaN</td>\n",
              "      <td>미시행</td>\n",
              "      <td>미시행</td>\n",
              "      <td>미시행</td>\n",
              "      <td>NaN</td>\n",
              "      <td>2019-12-31</td>\n",
              "    </tr>\n",
              "    <tr>\n",
              "      <th>3</th>\n",
              "      <td>2019</td>\n",
              "      <td>4</td>\n",
              "      <td>28</td>\n",
              "      <td>1</td>\n",
              "      <td>12</td>\n",
              "      <td>170</td>\n",
              "      <td>60</td>\n",
              "      <td>85.0</td>\n",
              "      <td>0.4</td>\n",
              "      <td>1.2</td>\n",
              "      <td>1.0</td>\n",
              "      <td>1.0</td>\n",
              "      <td>131.0</td>\n",
              "      <td>85.0</td>\n",
              "      <td>85.0</td>\n",
              "      <td>NaN</td>\n",
              "      <td>NaN</td>\n",
              "      <td>NaN</td>\n",
              "      <td>NaN</td>\n",
              "      <td>14.5</td>\n",
              "      <td>1.0</td>\n",
              "      <td>0.7</td>\n",
              "      <td>17.0</td>\n",
              "      <td>19.0</td>\n",
              "      <td>32.0</td>\n",
              "      <td>2.0</td>\n",
              "      <td>1.0</td>\n",
              "      <td>0</td>\n",
              "      <td>NaN</td>\n",
              "      <td>미시행</td>\n",
              "      <td>미시행</td>\n",
              "      <td>미시행</td>\n",
              "      <td>NaN</td>\n",
              "      <td>2019-12-31</td>\n",
              "    </tr>\n",
              "    <tr>\n",
              "      <th>4</th>\n",
              "      <td>2019</td>\n",
              "      <td>5</td>\n",
              "      <td>41</td>\n",
              "      <td>1</td>\n",
              "      <td>10</td>\n",
              "      <td>170</td>\n",
              "      <td>70</td>\n",
              "      <td>81.2</td>\n",
              "      <td>0.7</td>\n",
              "      <td>0.7</td>\n",
              "      <td>1.0</td>\n",
              "      <td>1.0</td>\n",
              "      <td>112.0</td>\n",
              "      <td>66.0</td>\n",
              "      <td>91.0</td>\n",
              "      <td>NaN</td>\n",
              "      <td>NaN</td>\n",
              "      <td>NaN</td>\n",
              "      <td>NaN</td>\n",
              "      <td>14.9</td>\n",
              "      <td>1.0</td>\n",
              "      <td>0.9</td>\n",
              "      <td>19.0</td>\n",
              "      <td>24.0</td>\n",
              "      <td>19.0</td>\n",
              "      <td>2.0</td>\n",
              "      <td>NaN</td>\n",
              "      <td>0</td>\n",
              "      <td>NaN</td>\n",
              "      <td>미시행</td>\n",
              "      <td>미시행</td>\n",
              "      <td>미시행</td>\n",
              "      <td>NaN</td>\n",
              "      <td>2019-12-31</td>\n",
              "    </tr>\n",
              "    <tr>\n",
              "      <th>...</th>\n",
              "      <td>...</td>\n",
              "      <td>...</td>\n",
              "      <td>...</td>\n",
              "      <td>...</td>\n",
              "      <td>...</td>\n",
              "      <td>...</td>\n",
              "      <td>...</td>\n",
              "      <td>...</td>\n",
              "      <td>...</td>\n",
              "      <td>...</td>\n",
              "      <td>...</td>\n",
              "      <td>...</td>\n",
              "      <td>...</td>\n",
              "      <td>...</td>\n",
              "      <td>...</td>\n",
              "      <td>...</td>\n",
              "      <td>...</td>\n",
              "      <td>...</td>\n",
              "      <td>...</td>\n",
              "      <td>...</td>\n",
              "      <td>...</td>\n",
              "      <td>...</td>\n",
              "      <td>...</td>\n",
              "      <td>...</td>\n",
              "      <td>...</td>\n",
              "      <td>...</td>\n",
              "      <td>...</td>\n",
              "      <td>...</td>\n",
              "      <td>...</td>\n",
              "      <td>...</td>\n",
              "      <td>...</td>\n",
              "      <td>...</td>\n",
              "      <td>...</td>\n",
              "      <td>...</td>\n",
              "    </tr>\n",
              "    <tr>\n",
              "      <th>1063613</th>\n",
              "      <td>2019</td>\n",
              "      <td>999996</td>\n",
              "      <td>41</td>\n",
              "      <td>1</td>\n",
              "      <td>12</td>\n",
              "      <td>170</td>\n",
              "      <td>65</td>\n",
              "      <td>80.0</td>\n",
              "      <td>1.0</td>\n",
              "      <td>1.2</td>\n",
              "      <td>1.0</td>\n",
              "      <td>1.0</td>\n",
              "      <td>116.0</td>\n",
              "      <td>79.0</td>\n",
              "      <td>129.0</td>\n",
              "      <td>NaN</td>\n",
              "      <td>NaN</td>\n",
              "      <td>NaN</td>\n",
              "      <td>NaN</td>\n",
              "      <td>15.7</td>\n",
              "      <td>1.0</td>\n",
              "      <td>1.3</td>\n",
              "      <td>24.0</td>\n",
              "      <td>23.0</td>\n",
              "      <td>21.0</td>\n",
              "      <td>1.0</td>\n",
              "      <td>1.0</td>\n",
              "      <td>0</td>\n",
              "      <td>NaN</td>\n",
              "      <td>미시행</td>\n",
              "      <td>미시행</td>\n",
              "      <td>미시행</td>\n",
              "      <td>NaN</td>\n",
              "      <td>2019-12-31</td>\n",
              "    </tr>\n",
              "    <tr>\n",
              "      <th>1063614</th>\n",
              "      <td>2019</td>\n",
              "      <td>999997</td>\n",
              "      <td>11</td>\n",
              "      <td>1</td>\n",
              "      <td>9</td>\n",
              "      <td>170</td>\n",
              "      <td>55</td>\n",
              "      <td>75.0</td>\n",
              "      <td>0.9</td>\n",
              "      <td>0.8</td>\n",
              "      <td>1.0</td>\n",
              "      <td>1.0</td>\n",
              "      <td>99.0</td>\n",
              "      <td>61.0</td>\n",
              "      <td>130.0</td>\n",
              "      <td>157.0</td>\n",
              "      <td>50.0</td>\n",
              "      <td>54.0</td>\n",
              "      <td>93.0</td>\n",
              "      <td>15.4</td>\n",
              "      <td>2.0</td>\n",
              "      <td>0.9</td>\n",
              "      <td>16.0</td>\n",
              "      <td>15.0</td>\n",
              "      <td>27.0</td>\n",
              "      <td>2.0</td>\n",
              "      <td>1.0</td>\n",
              "      <td>0</td>\n",
              "      <td>NaN</td>\n",
              "      <td>미시행</td>\n",
              "      <td>미시행</td>\n",
              "      <td>미시행</td>\n",
              "      <td>NaN</td>\n",
              "      <td>2019-12-31</td>\n",
              "    </tr>\n",
              "    <tr>\n",
              "      <th>1063615</th>\n",
              "      <td>2019</td>\n",
              "      <td>999998</td>\n",
              "      <td>45</td>\n",
              "      <td>1</td>\n",
              "      <td>13</td>\n",
              "      <td>160</td>\n",
              "      <td>65</td>\n",
              "      <td>92.3</td>\n",
              "      <td>1.0</td>\n",
              "      <td>0.9</td>\n",
              "      <td>1.0</td>\n",
              "      <td>1.0</td>\n",
              "      <td>116.0</td>\n",
              "      <td>70.0</td>\n",
              "      <td>102.0</td>\n",
              "      <td>NaN</td>\n",
              "      <td>NaN</td>\n",
              "      <td>NaN</td>\n",
              "      <td>NaN</td>\n",
              "      <td>15.9</td>\n",
              "      <td>1.0</td>\n",
              "      <td>1.0</td>\n",
              "      <td>23.0</td>\n",
              "      <td>28.0</td>\n",
              "      <td>84.0</td>\n",
              "      <td>2.0</td>\n",
              "      <td>1.0</td>\n",
              "      <td>1</td>\n",
              "      <td>0.0</td>\n",
              "      <td>미시행</td>\n",
              "      <td>미시행</td>\n",
              "      <td>미시행</td>\n",
              "      <td>0.0</td>\n",
              "      <td>2019-12-31</td>\n",
              "    </tr>\n",
              "    <tr>\n",
              "      <th>1063616</th>\n",
              "      <td>2019</td>\n",
              "      <td>999999</td>\n",
              "      <td>30</td>\n",
              "      <td>1</td>\n",
              "      <td>8</td>\n",
              "      <td>170</td>\n",
              "      <td>75</td>\n",
              "      <td>85.0</td>\n",
              "      <td>0.8</td>\n",
              "      <td>0.8</td>\n",
              "      <td>1.0</td>\n",
              "      <td>1.0</td>\n",
              "      <td>112.0</td>\n",
              "      <td>71.0</td>\n",
              "      <td>89.0</td>\n",
              "      <td>NaN</td>\n",
              "      <td>NaN</td>\n",
              "      <td>NaN</td>\n",
              "      <td>NaN</td>\n",
              "      <td>15.3</td>\n",
              "      <td>1.0</td>\n",
              "      <td>1.0</td>\n",
              "      <td>25.0</td>\n",
              "      <td>65.0</td>\n",
              "      <td>29.0</td>\n",
              "      <td>2.0</td>\n",
              "      <td>1.0</td>\n",
              "      <td>1</td>\n",
              "      <td>0.0</td>\n",
              "      <td>미시행</td>\n",
              "      <td>미시행</td>\n",
              "      <td>미시행</td>\n",
              "      <td>0.0</td>\n",
              "      <td>2019-12-31</td>\n",
              "    </tr>\n",
              "    <tr>\n",
              "      <th>1063617</th>\n",
              "      <td>2019</td>\n",
              "      <td>1000000</td>\n",
              "      <td>11</td>\n",
              "      <td>2</td>\n",
              "      <td>10</td>\n",
              "      <td>155</td>\n",
              "      <td>65</td>\n",
              "      <td>86.0</td>\n",
              "      <td>0.5</td>\n",
              "      <td>0.5</td>\n",
              "      <td>1.0</td>\n",
              "      <td>1.0</td>\n",
              "      <td>118.0</td>\n",
              "      <td>73.0</td>\n",
              "      <td>67.0</td>\n",
              "      <td>NaN</td>\n",
              "      <td>NaN</td>\n",
              "      <td>NaN</td>\n",
              "      <td>NaN</td>\n",
              "      <td>13.2</td>\n",
              "      <td>1.0</td>\n",
              "      <td>0.7</td>\n",
              "      <td>20.0</td>\n",
              "      <td>16.0</td>\n",
              "      <td>9.0</td>\n",
              "      <td>1.0</td>\n",
              "      <td>NaN</td>\n",
              "      <td>1</td>\n",
              "      <td>0.0</td>\n",
              "      <td>미시행</td>\n",
              "      <td>미시행</td>\n",
              "      <td>미시행</td>\n",
              "      <td>1.0</td>\n",
              "      <td>2019-12-31</td>\n",
              "    </tr>\n",
              "  </tbody>\n",
              "</table>\n",
              "<p>1063618 rows × 34 columns</p>\n",
              "</div>\n",
              "      <button class=\"colab-df-convert\" onclick=\"convertToInteractive('df-a444a4cf-4303-4f89-a5d4-4287bb902336')\"\n",
              "              title=\"Convert this dataframe to an interactive table.\"\n",
              "              style=\"display:none;\">\n",
              "        \n",
              "  <svg xmlns=\"http://www.w3.org/2000/svg\" height=\"24px\"viewBox=\"0 0 24 24\"\n",
              "       width=\"24px\">\n",
              "    <path d=\"M0 0h24v24H0V0z\" fill=\"none\"/>\n",
              "    <path d=\"M18.56 5.44l.94 2.06.94-2.06 2.06-.94-2.06-.94-.94-2.06-.94 2.06-2.06.94zm-11 1L8.5 8.5l.94-2.06 2.06-.94-2.06-.94L8.5 2.5l-.94 2.06-2.06.94zm10 10l.94 2.06.94-2.06 2.06-.94-2.06-.94-.94-2.06-.94 2.06-2.06.94z\"/><path d=\"M17.41 7.96l-1.37-1.37c-.4-.4-.92-.59-1.43-.59-.52 0-1.04.2-1.43.59L10.3 9.45l-7.72 7.72c-.78.78-.78 2.05 0 2.83L4 21.41c.39.39.9.59 1.41.59.51 0 1.02-.2 1.41-.59l7.78-7.78 2.81-2.81c.8-.78.8-2.07 0-2.86zM5.41 20L4 18.59l7.72-7.72 1.47 1.35L5.41 20z\"/>\n",
              "  </svg>\n",
              "      </button>\n",
              "      \n",
              "  <style>\n",
              "    .colab-df-container {\n",
              "      display:flex;\n",
              "      flex-wrap:wrap;\n",
              "      gap: 12px;\n",
              "    }\n",
              "\n",
              "    .colab-df-convert {\n",
              "      background-color: #E8F0FE;\n",
              "      border: none;\n",
              "      border-radius: 50%;\n",
              "      cursor: pointer;\n",
              "      display: none;\n",
              "      fill: #1967D2;\n",
              "      height: 32px;\n",
              "      padding: 0 0 0 0;\n",
              "      width: 32px;\n",
              "    }\n",
              "\n",
              "    .colab-df-convert:hover {\n",
              "      background-color: #E2EBFA;\n",
              "      box-shadow: 0px 1px 2px rgba(60, 64, 67, 0.3), 0px 1px 3px 1px rgba(60, 64, 67, 0.15);\n",
              "      fill: #174EA6;\n",
              "    }\n",
              "\n",
              "    [theme=dark] .colab-df-convert {\n",
              "      background-color: #3B4455;\n",
              "      fill: #D2E3FC;\n",
              "    }\n",
              "\n",
              "    [theme=dark] .colab-df-convert:hover {\n",
              "      background-color: #434B5C;\n",
              "      box-shadow: 0px 1px 3px 1px rgba(0, 0, 0, 0.15);\n",
              "      filter: drop-shadow(0px 1px 2px rgba(0, 0, 0, 0.3));\n",
              "      fill: #FFFFFF;\n",
              "    }\n",
              "  </style>\n",
              "\n",
              "      <script>\n",
              "        const buttonEl =\n",
              "          document.querySelector('#df-a444a4cf-4303-4f89-a5d4-4287bb902336 button.colab-df-convert');\n",
              "        buttonEl.style.display =\n",
              "          google.colab.kernel.accessAllowed ? 'block' : 'none';\n",
              "\n",
              "        async function convertToInteractive(key) {\n",
              "          const element = document.querySelector('#df-a444a4cf-4303-4f89-a5d4-4287bb902336');\n",
              "          const dataTable =\n",
              "            await google.colab.kernel.invokeFunction('convertToInteractive',\n",
              "                                                     [key], {});\n",
              "          if (!dataTable) return;\n",
              "\n",
              "          const docLinkHtml = 'Like what you see? Visit the ' +\n",
              "            '<a target=\"_blank\" href=https://colab.research.google.com/notebooks/data_table.ipynb>data table notebook</a>'\n",
              "            + ' to learn more about interactive tables.';\n",
              "          element.innerHTML = '';\n",
              "          dataTable['output_type'] = 'display_data';\n",
              "          await google.colab.output.renderOutput(dataTable, element);\n",
              "          const docLink = document.createElement('div');\n",
              "          docLink.innerHTML = docLinkHtml;\n",
              "          element.appendChild(docLink);\n",
              "        }\n",
              "      </script>\n",
              "    </div>\n",
              "  </div>\n",
              "  "
            ],
            "text/plain": [
              "         기준년도  가입자 일련번호  시도코드  성별코드  ...  치아마모증유무  제3대구치(사랑니) 이상   치석    데이터 공개일자\n",
              "0        2019         1    11     1  ...      미시행            미시행  1.0  2019-12-31\n",
              "1        2019         2    48     2  ...      미시행            미시행  NaN  2019-12-31\n",
              "2        2019         3    41     1  ...      미시행            미시행  NaN  2019-12-31\n",
              "3        2019         4    28     1  ...      미시행            미시행  NaN  2019-12-31\n",
              "4        2019         5    41     1  ...      미시행            미시행  NaN  2019-12-31\n",
              "...       ...       ...   ...   ...  ...      ...            ...  ...         ...\n",
              "1063613  2019    999996    41     1  ...      미시행            미시행  NaN  2019-12-31\n",
              "1063614  2019    999997    11     1  ...      미시행            미시행  NaN  2019-12-31\n",
              "1063615  2019    999998    45     1  ...      미시행            미시행  0.0  2019-12-31\n",
              "1063616  2019    999999    30     1  ...      미시행            미시행  0.0  2019-12-31\n",
              "1063617  2019   1000000    11     2  ...      미시행            미시행  1.0  2019-12-31\n",
              "\n",
              "[1063618 rows x 34 columns]"
            ]
          },
          "metadata": {},
          "execution_count": 2
        }
      ]
    },
    {
      "cell_type": "markdown",
      "source": [
        "# Data Preprocessing"
      ],
      "metadata": {
        "id": "hkbfAZbkpVgF"
      }
    },
    {
      "cell_type": "code",
      "source": [
        "diabetes = dataset.copy()"
      ],
      "metadata": {
        "id": "vz321kwUxEZD"
      },
      "execution_count": 3,
      "outputs": []
    },
    {
      "cell_type": "code",
      "source": [
        "diabetes.info(null_counts=True)"
      ],
      "metadata": {
        "colab": {
          "base_uri": "https://localhost:8080/"
        },
        "id": "MxBxNtDCxj3j",
        "outputId": "8438829c-95ea-42f4-f6f6-b6ed73a4b23d"
      },
      "execution_count": 4,
      "outputs": [
        {
          "output_type": "stream",
          "name": "stdout",
          "text": [
            "<class 'pandas.core.frame.DataFrame'>\n",
            "RangeIndex: 1063618 entries, 0 to 1063617\n",
            "Data columns (total 34 columns):\n",
            " #   Column         Non-Null Count    Dtype  \n",
            "---  ------         --------------    -----  \n",
            " 0   기준년도           1063618 non-null  int64  \n",
            " 1   가입자 일련번호       1063618 non-null  int64  \n",
            " 2   시도코드           1063618 non-null  int64  \n",
            " 3   성별코드           1063618 non-null  int64  \n",
            " 4   연령대 코드(5세단위)   1063618 non-null  int64  \n",
            " 5   신장(5Cm단위)      1063618 non-null  int64  \n",
            " 6   체중(5Kg 단위)     1063618 non-null  int64  \n",
            " 7   허리둘레           1063195 non-null  float64\n",
            " 8   시력(좌)          1063411 non-null  float64\n",
            " 9   시력(우)          1063418 non-null  float64\n",
            " 10  청력(좌)          1063427 non-null  float64\n",
            " 11  청력(우)          1063430 non-null  float64\n",
            " 12  수축기 혈압         1057819 non-null  float64\n",
            " 13  이완기 혈압         1057818 non-null  float64\n",
            " 14  식전혈당(공복혈당)     1057714 non-null  float64\n",
            " 15  총 콜레스테롤        354892 non-null   float64\n",
            " 16  트리글리세라이드       354887 non-null   float64\n",
            " 17  HDL 콜레스테롤      354884 non-null   float64\n",
            " 18  LDL 콜레스테롤      348075 non-null   float64\n",
            " 19  혈색소            1057703 non-null  float64\n",
            " 20  요단백            1052642 non-null  float64\n",
            " 21  혈청크레아티닌        1057711 non-null  float64\n",
            " 22  (혈청지오티)AST     1057715 non-null  float64\n",
            " 23  (혈청지오티)ALT     1057714 non-null  float64\n",
            " 24  감마 지티피         1057707 non-null  float64\n",
            " 25  흡연상태           1063444 non-null  float64\n",
            " 26  음주여부           685809 non-null   float64\n",
            " 27  구강검진 수검여부      1063618 non-null  int64  \n",
            " 28  치아우식증유무        422972 non-null   float64\n",
            " 29  결손치 유무         1063618 non-null  object \n",
            " 30  치아마모증유무        1063618 non-null  object \n",
            " 31  제3대구치(사랑니) 이상  1063618 non-null  object \n",
            " 32  치석             422972 non-null   float64\n",
            " 33  데이터 공개일자       1063618 non-null  object \n",
            "dtypes: float64(22), int64(8), object(4)\n",
            "memory usage: 275.9+ MB\n"
          ]
        }
      ]
    },
    {
      "cell_type": "markdown",
      "source": [
        "## Elimination\n",
        "  *  Irrelevant infos\n",
        "  *  Missing values"
      ],
      "metadata": {
        "id": "jh0V8uY1pdml"
      }
    },
    {
      "cell_type": "code",
      "source": [
        "diabetes.drop(columns=['기준년도', '가입자 일련번호', '구강검진 수검여부', '총 콜레스테롤', '트리글리세라이드', '음주여부',\n",
        "                       '혈청크레아티닌', '(혈청지오티)AST', '(혈청지오티)ALT', '허리둘레',\n",
        "                       '청력(좌)', '청력(우)','HDL 콜레스테롤', 'LDL 콜레스테롤', '치아우식증유무','치아마모증유무',\n",
        "                       '결손치 유무', '제3대구치(사랑니) 이상', '치석', '데이터 공개일자'], inplace=True)"
      ],
      "metadata": {
        "id": "84AZIOd6yCK0"
      },
      "execution_count": 5,
      "outputs": []
    },
    {
      "cell_type": "code",
      "source": [
        "diabetes.dropna(inplace=True)"
      ],
      "metadata": {
        "id": "TIgDF_XT1HGH"
      },
      "execution_count": 6,
      "outputs": []
    },
    {
      "cell_type": "code",
      "source": [
        "diabetes.reset_index(inplace=True)"
      ],
      "metadata": {
        "id": "Q6IYMF_P01UW"
      },
      "execution_count": 7,
      "outputs": []
    },
    {
      "cell_type": "code",
      "source": [
        "diabetes.info(null_counts=True)"
      ],
      "metadata": {
        "colab": {
          "base_uri": "https://localhost:8080/"
        },
        "id": "0BI6D51_z1ap",
        "outputId": "ac578cb3-82c8-4c03-c3a8-094e7bec1532"
      },
      "execution_count": 8,
      "outputs": [
        {
          "output_type": "stream",
          "name": "stdout",
          "text": [
            "<class 'pandas.core.frame.DataFrame'>\n",
            "RangeIndex: 1052215 entries, 0 to 1052214\n",
            "Data columns (total 15 columns):\n",
            " #   Column        Non-Null Count    Dtype  \n",
            "---  ------        --------------    -----  \n",
            " 0   index         1052215 non-null  int64  \n",
            " 1   시도코드          1052215 non-null  int64  \n",
            " 2   성별코드          1052215 non-null  int64  \n",
            " 3   연령대 코드(5세단위)  1052215 non-null  int64  \n",
            " 4   신장(5Cm단위)     1052215 non-null  int64  \n",
            " 5   체중(5Kg 단위)    1052215 non-null  int64  \n",
            " 6   시력(좌)         1052215 non-null  float64\n",
            " 7   시력(우)         1052215 non-null  float64\n",
            " 8   수축기 혈압        1052215 non-null  float64\n",
            " 9   이완기 혈압        1052215 non-null  float64\n",
            " 10  식전혈당(공복혈당)    1052215 non-null  float64\n",
            " 11  혈색소           1052215 non-null  float64\n",
            " 12  요단백           1052215 non-null  float64\n",
            " 13  감마 지티피        1052215 non-null  float64\n",
            " 14  흡연상태          1052215 non-null  float64\n",
            "dtypes: float64(9), int64(6)\n",
            "memory usage: 120.4 MB\n"
          ]
        }
      ]
    },
    {
      "cell_type": "markdown",
      "source": [
        "## Categorization, Factorization\n",
        "  * 시도코드, 성별코드, 흡연상태 --> 이름\n",
        "  * 연령대 --> 10살 단위"
      ],
      "metadata": {
        "id": "PhlX3ddzp0Z7"
      }
    },
    {
      "cell_type": "code",
      "source": [
        "diabetes['시도코드'] = diabetes['시도코드'].astype(str)"
      ],
      "metadata": {
        "id": "-i5xjB4M03rf"
      },
      "execution_count": 9,
      "outputs": []
    },
    {
      "cell_type": "code",
      "source": [
        "diabetes['시도코드'].replace(to_replace=['11', '26', '27', '28', '29', '30', '31', '36', '41', '42', '43', '44', '45', '46', '47', '48', '50'],\n",
        "                           value = ['서울특별시', '부산광역시', '대구광역시', '인천광역시', '광주광역시','대전광역시', '울산광역시', \n",
        "                              '세종특별자치시', '경기도', '강원도', '충청북도', '충청남도','전라북도', '전라남도', '경상북도', '경상남도', '제주특별자치도'],\n",
        "                         inplace=True)\n"
      ],
      "metadata": {
        "id": "P_cydizo3cXN"
      },
      "execution_count": 10,
      "outputs": []
    },
    {
      "cell_type": "code",
      "source": [
        "diabetes['성별코드'] = diabetes['성별코드'].replace(to_replace=[1,2],\n",
        "                         value=['Male', 'Female'])"
      ],
      "metadata": {
        "id": "T_bUsGyRbAhp"
      },
      "execution_count": 11,
      "outputs": []
    },
    {
      "cell_type": "code",
      "source": [
        "diabetes['요단백'].value_counts()"
      ],
      "metadata": {
        "colab": {
          "base_uri": "https://localhost:8080/"
        },
        "id": "3hlAOax1uCsW",
        "outputId": "a6f3bf85-6740-450e-84d3-62839f2ef513"
      },
      "execution_count": 12,
      "outputs": [
        {
          "output_type": "execute_result",
          "data": {
            "text/plain": [
              "1.0    984949\n",
              "2.0     38176\n",
              "3.0     19479\n",
              "4.0      6802\n",
              "5.0      2206\n",
              "6.0       603\n",
              "Name: 요단백, dtype: int64"
            ]
          },
          "metadata": {},
          "execution_count": 12
        }
      ]
    },
    {
      "cell_type": "code",
      "source": [
        "diabetes['요단백'] = diabetes['요단백'].astype(str)"
      ],
      "metadata": {
        "id": "3h2PpxrG408E"
      },
      "execution_count": 13,
      "outputs": []
    },
    {
      "cell_type": "code",
      "source": [
        "diabetes['흡연상태'].value_counts()"
      ],
      "metadata": {
        "colab": {
          "base_uri": "https://localhost:8080/"
        },
        "id": "oRTgL_b2uDGM",
        "outputId": "c284e726-5d0b-4dd9-8f42-08231b0bc19a"
      },
      "execution_count": 14,
      "outputs": [
        {
          "output_type": "execute_result",
          "data": {
            "text/plain": [
              "1.0    662225\n",
              "2.0    389990\n",
              "Name: 흡연상태, dtype: int64"
            ]
          },
          "metadata": {},
          "execution_count": 14
        }
      ]
    },
    {
      "cell_type": "code",
      "source": [
        "diabetes['흡연상태'].replace(to_replace=[1.0, 2.0],\n",
        "                         value = ['Smoker', 'Non-smoker'],\n",
        "                         inplace=True)"
      ],
      "metadata": {
        "id": "K7hKVLTZ4gV0"
      },
      "execution_count": 15,
      "outputs": []
    },
    {
      "cell_type": "code",
      "source": [
        "diabetes['연령대 코드(5세단위)'].unique()"
      ],
      "metadata": {
        "colab": {
          "base_uri": "https://localhost:8080/"
        },
        "id": "zfl0GXRocHRg",
        "outputId": "57880e1c-c74a-40e9-cd8a-eaf7f29cf634"
      },
      "execution_count": 16,
      "outputs": [
        {
          "output_type": "execute_result",
          "data": {
            "text/plain": [
              "array([13,  5, 12, 10,  8,  6, 14, 11, 16,  9,  7, 18, 15, 17])"
            ]
          },
          "metadata": {},
          "execution_count": 16
        }
      ]
    },
    {
      "cell_type": "markdown",
      "source": [
        "5,6 20s\n",
        "\n",
        "7,8 30s\n",
        "  \n",
        "9,10 40s\n",
        "\n",
        "11,12 50s\n",
        "\n",
        "13,14 60s\n",
        "\n",
        "15,16 70s\n",
        "\n",
        "17~ over80s"
      ],
      "metadata": {
        "id": "fokMDbHA7l5s"
      }
    },
    {
      "cell_type": "code",
      "source": [
        "diabetes['Age_group'] = pd.cut(diabetes['연령대 코드(5세단위)'],\n",
        "       bins=list(range(4, 20, 2)),\n",
        "       labels= ['20s', '30s', '40s', '50s', '60s', '70s','over80s'])"
      ],
      "metadata": {
        "id": "TfWbIVqA5GJT"
      },
      "execution_count": 17,
      "outputs": []
    },
    {
      "cell_type": "markdown",
      "source": [
        "## Feature Engineering\n",
        "  * 키, 몸무게 --> BMI\n",
        "  * 시력 좌우 평균 \n",
        "  * 수축기혈압, 이완기혈압 --> 고혈압"
      ],
      "metadata": {
        "id": "gyUdTzGGdxFu"
      }
    },
    {
      "cell_type": "code",
      "source": [
        "def bmi_calculator(height_data, weight_data):\n",
        "  bmi = []\n",
        "  for height, weight in zip(height_data, weight_data):\n",
        "    val = weight / ((height/100)**2)\n",
        "    val = round(val, 1)\n",
        "    bmi.append(val)\n",
        "  return pd.DataFrame(bmi)"
      ],
      "metadata": {
        "id": "1JdRYnqUt0aK"
      },
      "execution_count": 18,
      "outputs": []
    },
    {
      "cell_type": "code",
      "source": [
        "diabetes['BMI'] = bmi_calculator(diabetes['신장(5Cm단위)'].values, diabetes['체중(5Kg 단위)'].values)"
      ],
      "metadata": {
        "id": "IaP1mrqNwL2Q"
      },
      "execution_count": 19,
      "outputs": []
    },
    {
      "cell_type": "code",
      "source": [
        "# def avg_eyesight(left, right):\n",
        "#   eyesights = []\n",
        "#   for l,r in zip(left, right):\n",
        "#     eyesight = (l+r)/2\n",
        "#     eyesights.append(eyesight)\n",
        "#   return pd.DataFrame(eyesights)"
      ],
      "metadata": {
        "id": "ja2niF__2_pF"
      },
      "execution_count": null,
      "outputs": []
    },
    {
      "cell_type": "code",
      "source": [
        "# diabetes['평균시력'] = avg_eyesight(diabetes['시력(좌)'].values, diabetes['시력(우)'].values)"
      ],
      "metadata": {
        "id": "2BHJYPBlwizL"
      },
      "execution_count": null,
      "outputs": []
    },
    {
      "cell_type": "code",
      "source": [
        "def blood_pressure(compressed, decompressed):\n",
        "  bps = []\n",
        "  for c,u in zip(compressed, decompressed):\n",
        "    if c >= 140 and u >=90:\n",
        "      bps.append('Hypertension')\n",
        "    else:\n",
        "      bps.append('Normal')\n",
        "  return pd.DataFrame(bps)"
      ],
      "metadata": {
        "id": "Fodgp8ek_7BA"
      },
      "execution_count": 20,
      "outputs": []
    },
    {
      "cell_type": "code",
      "source": [
        "diabetes['고혈압'] = blood_pressure(diabetes['수축기 혈압'].values, diabetes['이완기 혈압'].values)"
      ],
      "metadata": {
        "id": "k5aHgU0wA1On"
      },
      "execution_count": 21,
      "outputs": []
    },
    {
      "cell_type": "markdown",
      "source": [
        "# EDA"
      ],
      "metadata": {
        "id": "_cval1PbCEcF"
      }
    },
    {
      "cell_type": "code",
      "source": [
        "eda = diabetes.drop(columns=['index','연령대 코드(5세단위)', '신장(5Cm단위)', '체중(5Kg 단위)', '시력(좌)', '시력(우)', '수축기 혈압', '이완기 혈압'])\n",
        "eda"
      ],
      "metadata": {
        "colab": {
          "base_uri": "https://localhost:8080/",
          "height": 424
        },
        "id": "0LE87jPI1M5k",
        "outputId": "676bd56d-f6c4-4bbf-9c0b-c9ae1c56e7fa"
      },
      "execution_count": 22,
      "outputs": [
        {
          "output_type": "execute_result",
          "data": {
            "text/html": [
              "\n",
              "  <div id=\"df-6c465e47-5c77-483b-9ea0-fe21aae09afa\">\n",
              "    <div class=\"colab-df-container\">\n",
              "      <div>\n",
              "<style scoped>\n",
              "    .dataframe tbody tr th:only-of-type {\n",
              "        vertical-align: middle;\n",
              "    }\n",
              "\n",
              "    .dataframe tbody tr th {\n",
              "        vertical-align: top;\n",
              "    }\n",
              "\n",
              "    .dataframe thead th {\n",
              "        text-align: right;\n",
              "    }\n",
              "</style>\n",
              "<table border=\"1\" class=\"dataframe\">\n",
              "  <thead>\n",
              "    <tr style=\"text-align: right;\">\n",
              "      <th></th>\n",
              "      <th>시도코드</th>\n",
              "      <th>성별코드</th>\n",
              "      <th>식전혈당(공복혈당)</th>\n",
              "      <th>혈색소</th>\n",
              "      <th>요단백</th>\n",
              "      <th>감마 지티피</th>\n",
              "      <th>흡연상태</th>\n",
              "      <th>Age_group</th>\n",
              "      <th>BMI</th>\n",
              "      <th>고혈압</th>\n",
              "    </tr>\n",
              "  </thead>\n",
              "  <tbody>\n",
              "    <tr>\n",
              "      <th>0</th>\n",
              "      <td>서울특별시</td>\n",
              "      <td>Male</td>\n",
              "      <td>93.0</td>\n",
              "      <td>15.5</td>\n",
              "      <td>1.0</td>\n",
              "      <td>47.0</td>\n",
              "      <td>Non-smoker</td>\n",
              "      <td>60s</td>\n",
              "      <td>23.9</td>\n",
              "      <td>Normal</td>\n",
              "    </tr>\n",
              "    <tr>\n",
              "      <th>1</th>\n",
              "      <td>경상남도</td>\n",
              "      <td>Female</td>\n",
              "      <td>89.0</td>\n",
              "      <td>14.0</td>\n",
              "      <td>1.0</td>\n",
              "      <td>13.0</td>\n",
              "      <td>Smoker</td>\n",
              "      <td>20s</td>\n",
              "      <td>18.7</td>\n",
              "      <td>Normal</td>\n",
              "    </tr>\n",
              "    <tr>\n",
              "      <th>2</th>\n",
              "      <td>경기도</td>\n",
              "      <td>Male</td>\n",
              "      <td>100.0</td>\n",
              "      <td>15.6</td>\n",
              "      <td>1.0</td>\n",
              "      <td>17.0</td>\n",
              "      <td>Smoker</td>\n",
              "      <td>60s</td>\n",
              "      <td>27.3</td>\n",
              "      <td>Normal</td>\n",
              "    </tr>\n",
              "    <tr>\n",
              "      <th>3</th>\n",
              "      <td>인천광역시</td>\n",
              "      <td>Male</td>\n",
              "      <td>85.0</td>\n",
              "      <td>14.5</td>\n",
              "      <td>1.0</td>\n",
              "      <td>32.0</td>\n",
              "      <td>Non-smoker</td>\n",
              "      <td>50s</td>\n",
              "      <td>20.8</td>\n",
              "      <td>Normal</td>\n",
              "    </tr>\n",
              "    <tr>\n",
              "      <th>4</th>\n",
              "      <td>경기도</td>\n",
              "      <td>Male</td>\n",
              "      <td>91.0</td>\n",
              "      <td>14.9</td>\n",
              "      <td>1.0</td>\n",
              "      <td>19.0</td>\n",
              "      <td>Non-smoker</td>\n",
              "      <td>40s</td>\n",
              "      <td>24.2</td>\n",
              "      <td>Normal</td>\n",
              "    </tr>\n",
              "    <tr>\n",
              "      <th>...</th>\n",
              "      <td>...</td>\n",
              "      <td>...</td>\n",
              "      <td>...</td>\n",
              "      <td>...</td>\n",
              "      <td>...</td>\n",
              "      <td>...</td>\n",
              "      <td>...</td>\n",
              "      <td>...</td>\n",
              "      <td>...</td>\n",
              "      <td>...</td>\n",
              "    </tr>\n",
              "    <tr>\n",
              "      <th>1052210</th>\n",
              "      <td>경기도</td>\n",
              "      <td>Male</td>\n",
              "      <td>129.0</td>\n",
              "      <td>15.7</td>\n",
              "      <td>1.0</td>\n",
              "      <td>21.0</td>\n",
              "      <td>Smoker</td>\n",
              "      <td>50s</td>\n",
              "      <td>22.5</td>\n",
              "      <td>Normal</td>\n",
              "    </tr>\n",
              "    <tr>\n",
              "      <th>1052211</th>\n",
              "      <td>서울특별시</td>\n",
              "      <td>Male</td>\n",
              "      <td>130.0</td>\n",
              "      <td>15.4</td>\n",
              "      <td>2.0</td>\n",
              "      <td>27.0</td>\n",
              "      <td>Non-smoker</td>\n",
              "      <td>40s</td>\n",
              "      <td>19.0</td>\n",
              "      <td>Normal</td>\n",
              "    </tr>\n",
              "    <tr>\n",
              "      <th>1052212</th>\n",
              "      <td>전라북도</td>\n",
              "      <td>Male</td>\n",
              "      <td>102.0</td>\n",
              "      <td>15.9</td>\n",
              "      <td>1.0</td>\n",
              "      <td>84.0</td>\n",
              "      <td>Non-smoker</td>\n",
              "      <td>60s</td>\n",
              "      <td>25.4</td>\n",
              "      <td>Normal</td>\n",
              "    </tr>\n",
              "    <tr>\n",
              "      <th>1052213</th>\n",
              "      <td>대전광역시</td>\n",
              "      <td>Male</td>\n",
              "      <td>89.0</td>\n",
              "      <td>15.3</td>\n",
              "      <td>1.0</td>\n",
              "      <td>29.0</td>\n",
              "      <td>Non-smoker</td>\n",
              "      <td>30s</td>\n",
              "      <td>26.0</td>\n",
              "      <td>Normal</td>\n",
              "    </tr>\n",
              "    <tr>\n",
              "      <th>1052214</th>\n",
              "      <td>서울특별시</td>\n",
              "      <td>Female</td>\n",
              "      <td>67.0</td>\n",
              "      <td>13.2</td>\n",
              "      <td>1.0</td>\n",
              "      <td>9.0</td>\n",
              "      <td>Smoker</td>\n",
              "      <td>40s</td>\n",
              "      <td>27.1</td>\n",
              "      <td>Normal</td>\n",
              "    </tr>\n",
              "  </tbody>\n",
              "</table>\n",
              "<p>1052215 rows × 10 columns</p>\n",
              "</div>\n",
              "      <button class=\"colab-df-convert\" onclick=\"convertToInteractive('df-6c465e47-5c77-483b-9ea0-fe21aae09afa')\"\n",
              "              title=\"Convert this dataframe to an interactive table.\"\n",
              "              style=\"display:none;\">\n",
              "        \n",
              "  <svg xmlns=\"http://www.w3.org/2000/svg\" height=\"24px\"viewBox=\"0 0 24 24\"\n",
              "       width=\"24px\">\n",
              "    <path d=\"M0 0h24v24H0V0z\" fill=\"none\"/>\n",
              "    <path d=\"M18.56 5.44l.94 2.06.94-2.06 2.06-.94-2.06-.94-.94-2.06-.94 2.06-2.06.94zm-11 1L8.5 8.5l.94-2.06 2.06-.94-2.06-.94L8.5 2.5l-.94 2.06-2.06.94zm10 10l.94 2.06.94-2.06 2.06-.94-2.06-.94-.94-2.06-.94 2.06-2.06.94z\"/><path d=\"M17.41 7.96l-1.37-1.37c-.4-.4-.92-.59-1.43-.59-.52 0-1.04.2-1.43.59L10.3 9.45l-7.72 7.72c-.78.78-.78 2.05 0 2.83L4 21.41c.39.39.9.59 1.41.59.51 0 1.02-.2 1.41-.59l7.78-7.78 2.81-2.81c.8-.78.8-2.07 0-2.86zM5.41 20L4 18.59l7.72-7.72 1.47 1.35L5.41 20z\"/>\n",
              "  </svg>\n",
              "      </button>\n",
              "      \n",
              "  <style>\n",
              "    .colab-df-container {\n",
              "      display:flex;\n",
              "      flex-wrap:wrap;\n",
              "      gap: 12px;\n",
              "    }\n",
              "\n",
              "    .colab-df-convert {\n",
              "      background-color: #E8F0FE;\n",
              "      border: none;\n",
              "      border-radius: 50%;\n",
              "      cursor: pointer;\n",
              "      display: none;\n",
              "      fill: #1967D2;\n",
              "      height: 32px;\n",
              "      padding: 0 0 0 0;\n",
              "      width: 32px;\n",
              "    }\n",
              "\n",
              "    .colab-df-convert:hover {\n",
              "      background-color: #E2EBFA;\n",
              "      box-shadow: 0px 1px 2px rgba(60, 64, 67, 0.3), 0px 1px 3px 1px rgba(60, 64, 67, 0.15);\n",
              "      fill: #174EA6;\n",
              "    }\n",
              "\n",
              "    [theme=dark] .colab-df-convert {\n",
              "      background-color: #3B4455;\n",
              "      fill: #D2E3FC;\n",
              "    }\n",
              "\n",
              "    [theme=dark] .colab-df-convert:hover {\n",
              "      background-color: #434B5C;\n",
              "      box-shadow: 0px 1px 3px 1px rgba(0, 0, 0, 0.15);\n",
              "      filter: drop-shadow(0px 1px 2px rgba(0, 0, 0, 0.3));\n",
              "      fill: #FFFFFF;\n",
              "    }\n",
              "  </style>\n",
              "\n",
              "      <script>\n",
              "        const buttonEl =\n",
              "          document.querySelector('#df-6c465e47-5c77-483b-9ea0-fe21aae09afa button.colab-df-convert');\n",
              "        buttonEl.style.display =\n",
              "          google.colab.kernel.accessAllowed ? 'block' : 'none';\n",
              "\n",
              "        async function convertToInteractive(key) {\n",
              "          const element = document.querySelector('#df-6c465e47-5c77-483b-9ea0-fe21aae09afa');\n",
              "          const dataTable =\n",
              "            await google.colab.kernel.invokeFunction('convertToInteractive',\n",
              "                                                     [key], {});\n",
              "          if (!dataTable) return;\n",
              "\n",
              "          const docLinkHtml = 'Like what you see? Visit the ' +\n",
              "            '<a target=\"_blank\" href=https://colab.research.google.com/notebooks/data_table.ipynb>data table notebook</a>'\n",
              "            + ' to learn more about interactive tables.';\n",
              "          element.innerHTML = '';\n",
              "          dataTable['output_type'] = 'display_data';\n",
              "          await google.colab.output.renderOutput(dataTable, element);\n",
              "          const docLink = document.createElement('div');\n",
              "          docLink.innerHTML = docLinkHtml;\n",
              "          element.appendChild(docLink);\n",
              "        }\n",
              "      </script>\n",
              "    </div>\n",
              "  </div>\n",
              "  "
            ],
            "text/plain": [
              "          시도코드    성별코드  식전혈당(공복혈당)   혈색소  ...        흡연상태  Age_group   BMI     고혈압\n",
              "0        서울특별시    Male        93.0  15.5  ...  Non-smoker        60s  23.9  Normal\n",
              "1         경상남도  Female        89.0  14.0  ...      Smoker        20s  18.7  Normal\n",
              "2          경기도    Male       100.0  15.6  ...      Smoker        60s  27.3  Normal\n",
              "3        인천광역시    Male        85.0  14.5  ...  Non-smoker        50s  20.8  Normal\n",
              "4          경기도    Male        91.0  14.9  ...  Non-smoker        40s  24.2  Normal\n",
              "...        ...     ...         ...   ...  ...         ...        ...   ...     ...\n",
              "1052210    경기도    Male       129.0  15.7  ...      Smoker        50s  22.5  Normal\n",
              "1052211  서울특별시    Male       130.0  15.4  ...  Non-smoker        40s  19.0  Normal\n",
              "1052212   전라북도    Male       102.0  15.9  ...  Non-smoker        60s  25.4  Normal\n",
              "1052213  대전광역시    Male        89.0  15.3  ...  Non-smoker        30s  26.0  Normal\n",
              "1052214  서울특별시  Female        67.0  13.2  ...      Smoker        40s  27.1  Normal\n",
              "\n",
              "[1052215 rows x 10 columns]"
            ]
          },
          "metadata": {},
          "execution_count": 22
        }
      ]
    },
    {
      "cell_type": "code",
      "source": [
        "eda.info()"
      ],
      "metadata": {
        "colab": {
          "base_uri": "https://localhost:8080/"
        },
        "id": "VibPCSnxSdVG",
        "outputId": "70abf387-8924-45e2-9825-8a54a4a73b05"
      },
      "execution_count": null,
      "outputs": [
        {
          "output_type": "stream",
          "name": "stdout",
          "text": [
            "<class 'pandas.core.frame.DataFrame'>\n",
            "RangeIndex: 1052215 entries, 0 to 1052214\n",
            "Data columns (total 11 columns):\n",
            " #   Column      Non-Null Count    Dtype   \n",
            "---  ------      --------------    -----   \n",
            " 0   시도코드        1052215 non-null  object  \n",
            " 1   성별코드        1052215 non-null  int64   \n",
            " 2   식전혈당(공복혈당)  1052215 non-null  float64 \n",
            " 3   혈색소         1052215 non-null  float64 \n",
            " 4   요단백         1052215 non-null  object  \n",
            " 5   감마 지티피      1052215 non-null  float64 \n",
            " 6   흡연상태        1052215 non-null  object  \n",
            " 7   Gender      1052215 non-null  object  \n",
            " 8   Age group   1052215 non-null  category\n",
            " 9   BMI         1052215 non-null  float64 \n",
            " 10  고혈압         1052215 non-null  object  \n",
            "dtypes: category(1), float64(4), int64(1), object(5)\n",
            "memory usage: 81.3+ MB\n"
          ]
        }
      ]
    },
    {
      "cell_type": "code",
      "source": [
        "numerical_features = eda.dtypes[(eda.dtypes != object) & (eda.dtypes != 'category')].index\n",
        "categorical_features = eda.dtypes[(eda.dtypes == object) | (eda.dtypes == 'category')].index\n",
        "\n",
        "print('Numerical features =',numerical_features.values, sep='\\n')\n",
        "print()\n",
        "print('Categorical features =',categorical_features.values, sep='\\n')"
      ],
      "metadata": {
        "colab": {
          "base_uri": "https://localhost:8080/"
        },
        "id": "B4TuwDX0LCPb",
        "outputId": "7b584373-5eca-4712-9057-24cc4ed996ab"
      },
      "execution_count": 23,
      "outputs": [
        {
          "output_type": "stream",
          "name": "stdout",
          "text": [
            "Numerical features =\n",
            "['식전혈당(공복혈당)' '혈색소' '감마 지티피' 'BMI']\n",
            "\n",
            "Categorical features =\n",
            "['시도코드' '성별코드' '요단백' '흡연상태' 'Age_group' '고혈압']\n"
          ]
        }
      ]
    },
    {
      "cell_type": "markdown",
      "source": [
        "## Linearity Check (선형성 확인)\n",
        "  * 종속변수 : 공복혈당\n"
      ],
      "metadata": {
        "id": "QlUZex3HLLVt"
      }
    },
    {
      "cell_type": "markdown",
      "source": [
        "### 수치형\n",
        "  * BMI, 혈색소가 선형적인 관계를 보임"
      ],
      "metadata": {
        "id": "oxq1D3zzBrTk"
      }
    },
    {
      "cell_type": "code",
      "source": [
        "for feature in numerical_features:\n",
        "  if feature != '식전혈당(공복혈당)':\n",
        "    plt.scatter(eda[feature], eda['식전혈당(공복혈당)'])\n",
        "    plt.xticks(fontsize=20)\n",
        "    plt.yticks(fontsize=20)\n",
        "    plt.ylabel(\"식전혈당(공복혈당)\",fontsize=20)\n",
        "    plt.xlabel(feature,fontsize=20)\n",
        "    plt.show()\n",
        "    print('*'*100)"
      ],
      "metadata": {
        "id": "H5xbFOX4LKw-"
      },
      "execution_count": null,
      "outputs": []
    },
    {
      "cell_type": "markdown",
      "source": [
        "Boxplot 으로 데이터 분포 및 outlier 확인\n",
        "\n",
        "극단값이 있을 경우 회귀분석의 결과가 왜곡될 수 있다. 상자 그림을 그려서 극단값이 있는지 확인해본다. "
      ],
      "metadata": {
        "id": "biXIKQkSvcnT"
      }
    },
    {
      "cell_type": "code",
      "source": [
        "fig, (ax1, ax2) = plt.subplots(1, 2, figsize=(15,10))  \n",
        "\n",
        "# BMI의 상자 그림을 첫번째(ax1)로 그린다. 방향은 수직(orient='v')\n",
        "sns.boxplot(y= 'BMI', data=eda, ax=ax1, orient='v')\n",
        "ax1.set_title('BMI')\n",
        "\n",
        "# Fasting_Blood_Sugar의 상자 그림을 두번째(ax2)로 그린다.\n",
        "sns.boxplot(y= '식전혈당(공복혈당)', data=eda, ax=ax2, orient='v')\n",
        "ax2.set_title('식전혈당(공복혈당)')\n",
        "\n",
        "plt.show()"
      ],
      "metadata": {
        "id": "KxHxFo9Lvayf",
        "colab": {
          "base_uri": "https://localhost:8080/",
          "height": 593
        },
        "outputId": "b8ab4d75-4178-462b-e8a3-0182e6522f91"
      },
      "execution_count": null,
      "outputs": [
        {
          "output_type": "display_data",
          "data": {
            "image/png": "[encoded data removed]",
            "text/plain": [
              "<Figure size 1080x720 with 2 Axes>"
            ]
          },
          "metadata": {
            "needs_background": "light"
          }
        }
      ]
    },
    {
      "cell_type": "code",
      "source": [
        "eda[eda['식전혈당(공복혈당)'] >= 800]"
      ],
      "metadata": {
        "colab": {
          "base_uri": "https://localhost:8080/",
          "height": 143
        },
        "id": "a1ein7v7KhMb",
        "outputId": "537caadc-265a-4e87-86f7-e5c7b18c8c8d"
      },
      "execution_count": null,
      "outputs": [
        {
          "output_type": "execute_result",
          "data": {
            "text/html": [
              "\n",
              "  <div id=\"df-49e25d0e-f4f3-45ae-878e-53d5c8bba06a\">\n",
              "    <div class=\"colab-df-container\">\n",
              "      <div>\n",
              "<style scoped>\n",
              "    .dataframe tbody tr th:only-of-type {\n",
              "        vertical-align: middle;\n",
              "    }\n",
              "\n",
              "    .dataframe tbody tr th {\n",
              "        vertical-align: top;\n",
              "    }\n",
              "\n",
              "    .dataframe thead th {\n",
              "        text-align: right;\n",
              "    }\n",
              "</style>\n",
              "<table border=\"1\" class=\"dataframe\">\n",
              "  <thead>\n",
              "    <tr style=\"text-align: right;\">\n",
              "      <th></th>\n",
              "      <th>시도코드</th>\n",
              "      <th>성별코드</th>\n",
              "      <th>식전혈당(공복혈당)</th>\n",
              "      <th>혈색소</th>\n",
              "      <th>요단백</th>\n",
              "      <th>감마 지티피</th>\n",
              "      <th>흡연상태</th>\n",
              "      <th>Age_group</th>\n",
              "      <th>BMI</th>\n",
              "      <th>고혈압</th>\n",
              "    </tr>\n",
              "  </thead>\n",
              "  <tbody>\n",
              "    <tr>\n",
              "      <th>115417</th>\n",
              "      <td>부산광역시</td>\n",
              "      <td>Male</td>\n",
              "      <td>878.0</td>\n",
              "      <td>14.1</td>\n",
              "      <td>4.0</td>\n",
              "      <td>141.0</td>\n",
              "      <td>Smoker</td>\n",
              "      <td>50s</td>\n",
              "      <td>22.5</td>\n",
              "      <td>Normal</td>\n",
              "    </tr>\n",
              "    <tr>\n",
              "      <th>178343</th>\n",
              "      <td>부산광역시</td>\n",
              "      <td>Male</td>\n",
              "      <td>878.0</td>\n",
              "      <td>14.1</td>\n",
              "      <td>4.0</td>\n",
              "      <td>141.0</td>\n",
              "      <td>Smoker</td>\n",
              "      <td>50s</td>\n",
              "      <td>22.5</td>\n",
              "      <td>Normal</td>\n",
              "    </tr>\n",
              "    <tr>\n",
              "      <th>986713</th>\n",
              "      <td>경기도</td>\n",
              "      <td>Female</td>\n",
              "      <td>960.0</td>\n",
              "      <td>12.0</td>\n",
              "      <td>1.0</td>\n",
              "      <td>40.0</td>\n",
              "      <td>Smoker</td>\n",
              "      <td>50s</td>\n",
              "      <td>23.8</td>\n",
              "      <td>Normal</td>\n",
              "    </tr>\n",
              "  </tbody>\n",
              "</table>\n",
              "</div>\n",
              "      <button class=\"colab-df-convert\" onclick=\"convertToInteractive('df-49e25d0e-f4f3-45ae-878e-53d5c8bba06a')\"\n",
              "              title=\"Convert this dataframe to an interactive table.\"\n",
              "              style=\"display:none;\">\n",
              "        \n",
              "  <svg xmlns=\"http://www.w3.org/2000/svg\" height=\"24px\"viewBox=\"0 0 24 24\"\n",
              "       width=\"24px\">\n",
              "    <path d=\"M0 0h24v24H0V0z\" fill=\"none\"/>\n",
              "    <path d=\"M18.56 5.44l.94 2.06.94-2.06 2.06-.94-2.06-.94-.94-2.06-.94 2.06-2.06.94zm-11 1L8.5 8.5l.94-2.06 2.06-.94-2.06-.94L8.5 2.5l-.94 2.06-2.06.94zm10 10l.94 2.06.94-2.06 2.06-.94-2.06-.94-.94-2.06-.94 2.06-2.06.94z\"/><path d=\"M17.41 7.96l-1.37-1.37c-.4-.4-.92-.59-1.43-.59-.52 0-1.04.2-1.43.59L10.3 9.45l-7.72 7.72c-.78.78-.78 2.05 0 2.83L4 21.41c.39.39.9.59 1.41.59.51 0 1.02-.2 1.41-.59l7.78-7.78 2.81-2.81c.8-.78.8-2.07 0-2.86zM5.41 20L4 18.59l7.72-7.72 1.47 1.35L5.41 20z\"/>\n",
              "  </svg>\n",
              "      </button>\n",
              "      \n",
              "  <style>\n",
              "    .colab-df-container {\n",
              "      display:flex;\n",
              "      flex-wrap:wrap;\n",
              "      gap: 12px;\n",
              "    }\n",
              "\n",
              "    .colab-df-convert {\n",
              "      background-color: #E8F0FE;\n",
              "      border: none;\n",
              "      border-radius: 50%;\n",
              "      cursor: pointer;\n",
              "      display: none;\n",
              "      fill: #1967D2;\n",
              "      height: 32px;\n",
              "      padding: 0 0 0 0;\n",
              "      width: 32px;\n",
              "    }\n",
              "\n",
              "    .colab-df-convert:hover {\n",
              "      background-color: #E2EBFA;\n",
              "      box-shadow: 0px 1px 2px rgba(60, 64, 67, 0.3), 0px 1px 3px 1px rgba(60, 64, 67, 0.15);\n",
              "      fill: #174EA6;\n",
              "    }\n",
              "\n",
              "    [theme=dark] .colab-df-convert {\n",
              "      background-color: #3B4455;\n",
              "      fill: #D2E3FC;\n",
              "    }\n",
              "\n",
              "    [theme=dark] .colab-df-convert:hover {\n",
              "      background-color: #434B5C;\n",
              "      box-shadow: 0px 1px 3px 1px rgba(0, 0, 0, 0.15);\n",
              "      filter: drop-shadow(0px 1px 2px rgba(0, 0, 0, 0.3));\n",
              "      fill: #FFFFFF;\n",
              "    }\n",
              "  </style>\n",
              "\n",
              "      <script>\n",
              "        const buttonEl =\n",
              "          document.querySelector('#df-49e25d0e-f4f3-45ae-878e-53d5c8bba06a button.colab-df-convert');\n",
              "        buttonEl.style.display =\n",
              "          google.colab.kernel.accessAllowed ? 'block' : 'none';\n",
              "\n",
              "        async function convertToInteractive(key) {\n",
              "          const element = document.querySelector('#df-49e25d0e-f4f3-45ae-878e-53d5c8bba06a');\n",
              "          const dataTable =\n",
              "            await google.colab.kernel.invokeFunction('convertToInteractive',\n",
              "                                                     [key], {});\n",
              "          if (!dataTable) return;\n",
              "\n",
              "          const docLinkHtml = 'Like what you see? Visit the ' +\n",
              "            '<a target=\"_blank\" href=https://colab.research.google.com/notebooks/data_table.ipynb>data table notebook</a>'\n",
              "            + ' to learn more about interactive tables.';\n",
              "          element.innerHTML = '';\n",
              "          dataTable['output_type'] = 'display_data';\n",
              "          await google.colab.output.renderOutput(dataTable, element);\n",
              "          const docLink = document.createElement('div');\n",
              "          docLink.innerHTML = docLinkHtml;\n",
              "          element.appendChild(docLink);\n",
              "        }\n",
              "      </script>\n",
              "    </div>\n",
              "  </div>\n",
              "  "
            ],
            "text/plain": [
              "         시도코드    성별코드  식전혈당(공복혈당)   혈색소  ...    흡연상태  Age_group   BMI     고혈압\n",
              "115417  부산광역시    Male       878.0  14.1  ...  Smoker        50s  22.5  Normal\n",
              "178343  부산광역시    Male       878.0  14.1  ...  Smoker        50s  22.5  Normal\n",
              "986713    경기도  Female       960.0  12.0  ...  Smoker        50s  23.8  Normal\n",
              "\n",
              "[3 rows x 10 columns]"
            ]
          },
          "metadata": {},
          "execution_count": 48
        }
      ]
    },
    {
      "cell_type": "code",
      "source": [
        "eda.drop(index=[115417,178343,986713], inplace=True)\n",
        "eda.reset_index(inplace=True)\n",
        "eda.drop(columns=['index'], inplace=True)"
      ],
      "metadata": {
        "id": "fQjonXIVKofi"
      },
      "execution_count": null,
      "outputs": []
    },
    {
      "cell_type": "markdown",
      "source": [
        "### 범주형 \n",
        "\n",
        "  * 요단백수치, 흡연, 성별, 나이, 고혈압은 확실한 상관관계를 보임\n",
        "  * 지역은 단순히 지역이 요인이 아닐 것으로 추정 (식생활?)"
      ],
      "metadata": {
        "id": "4z7zgHjwjP0C"
      }
    },
    {
      "cell_type": "code",
      "source": [
        "for col in categorical_features:\n",
        "  eda.groupby(col)['식전혈당(공복혈당)'].mean().sort_values(ascending=False).plot(kind='barh', figsize=(10,7))\n",
        "  plt.xticks(rotation=45, fontsize=15)\n",
        "  plt.xticks(fontsize=20)\n",
        "  plt.yticks(fontsize=20)\n",
        "  plt.xlabel(\"공복혈당\",fontsize=20)\n",
        "  plt.ylabel(col,fontsize=20)\n",
        "  plt.legend(fontsize=15)\n",
        "  plt.show()\n",
        "  print('*'*100)"
      ],
      "metadata": {
        "colab": {
          "base_uri": "https://localhost:8080/",
          "height": 1000
        },
        "id": "TdDr670cacGi",
        "outputId": "03f90f8a-2e37-441b-fb70-d05ce76d25b7"
      },
      "execution_count": null,
      "outputs": [
        {
          "output_type": "display_data",
          "data": {
            "image/png": "[encoded data removed]",
            "text/plain": [
              "<Figure size 720x504 with 1 Axes>"
            ]
          },
          "metadata": {
            "needs_background": "light"
          }
        },
        {
          "output_type": "stream",
          "name": "stdout",
          "text": [
            "****************************************************************************************************\n"
          ]
        },
        {
          "output_type": "display_data",
          "data": {
            "image/png": "[encoded data removed]",
            "text/plain": [
              "<Figure size 720x504 with 1 Axes>"
            ]
          },
          "metadata": {
            "needs_background": "light"
          }
        },
        {
          "output_type": "stream",
          "name": "stdout",
          "text": [
            "****************************************************************************************************\n"
          ]
        },
        {
          "output_type": "display_data",
          "data": {
            "image/png": "[encoded data removed]",
            "text/plain": [
              "<Figure size 720x504 with 1 Axes>"
            ]
          },
          "metadata": {
            "needs_background": "light"
          }
        },
        {
          "output_type": "stream",
          "name": "stdout",
          "text": [
            "****************************************************************************************************\n"
          ]
        },
        {
          "output_type": "display_data",
          "data": {
            "image/png": "[encoded data removed]",
            "text/plain": [
              "<Figure size 720x504 with 1 Axes>"
            ]
          },
          "metadata": {
            "needs_background": "light"
          }
        },
        {
          "output_type": "stream",
          "name": "stdout",
          "text": [
            "****************************************************************************************************\n"
          ]
        },
        {
          "output_type": "display_data",
          "data": {
            "image/png": "[encoded data removed]",
            "text/plain": [
              "<Figure size 720x504 with 1 Axes>"
            ]
          },
          "metadata": {
            "needs_background": "light"
          }
        },
        {
          "output_type": "stream",
          "name": "stdout",
          "text": [
            "****************************************************************************************************\n"
          ]
        },
        {
          "output_type": "display_data",
          "data": {
            "image/png": "[encoded data removed]",
            "text/plain": [
              "<Figure size 720x504 with 1 Axes>"
            ]
          },
          "metadata": {
            "needs_background": "light"
          }
        },
        {
          "output_type": "stream",
          "name": "stdout",
          "text": [
            "****************************************************************************************************\n"
          ]
        }
      ]
    },
    {
      "cell_type": "markdown",
      "source": [
        "# Regression Model\n",
        "\n"
      ],
      "metadata": {
        "id": "PujPuKqLTYqT"
      }
    },
    {
      "cell_type": "markdown",
      "source": [
        "독립변수 :\n",
        "요단백수치, 흡연, 성별, 나이, 고혈압, BMI, 혈색소\n",
        "\n",
        "종속변수 : 공복혈당"
      ],
      "metadata": {
        "id": "55NX3pUxBNvG"
      }
    },
    {
      "cell_type": "code",
      "source": [
        "eda.columns"
      ],
      "metadata": {
        "colab": {
          "base_uri": "https://localhost:8080/"
        },
        "id": "G0QTrZzvLsPT",
        "outputId": "23bff0c9-e856-4561-80de-d74f4eb53aa3"
      },
      "execution_count": null,
      "outputs": [
        {
          "output_type": "execute_result",
          "data": {
            "text/plain": [
              "Index(['시도코드', '성별코드', '식전혈당(공복혈당)', '혈색소', '요단백', '감마 지티피', '흡연상태',\n",
              "       'Age_group', 'BMI', '고혈압'],\n",
              "      dtype='object')"
            ]
          },
          "metadata": {},
          "execution_count": 54
        }
      ]
    },
    {
      "cell_type": "code",
      "source": [
        "ra = eda.rename(columns={'시도코드' : 'Region',\n",
        "                    '성별코드' : \"Gender\", \n",
        "                    '식전혈당(공복혈당)' : \"Fasting_Blood_Sugar\",\n",
        "                    '혈색소' : \"Hemoglobin\",\n",
        "                    '요단백' : \"Proteinuria\",\n",
        "                    '감마 지티피' : \"Gamma_GTP\",\n",
        "                    '흡연상태' : 'Smoke',\n",
        "                    '고혈압' : 'Blood_pressure'})\n",
        "ra"
      ],
      "metadata": {
        "colab": {
          "base_uri": "https://localhost:8080/",
          "height": 424
        },
        "id": "qiDRnyePCe0q",
        "outputId": "b43cdec8-ac1b-47d3-ec30-2ec4089c279d"
      },
      "execution_count": 25,
      "outputs": [
        {
          "output_type": "execute_result",
          "data": {
            "text/html": [
              "\n",
              "  <div id=\"df-fc349cae-967c-404c-8f07-ed5dbc056dce\">\n",
              "    <div class=\"colab-df-container\">\n",
              "      <div>\n",
              "<style scoped>\n",
              "    .dataframe tbody tr th:only-of-type {\n",
              "        vertical-align: middle;\n",
              "    }\n",
              "\n",
              "    .dataframe tbody tr th {\n",
              "        vertical-align: top;\n",
              "    }\n",
              "\n",
              "    .dataframe thead th {\n",
              "        text-align: right;\n",
              "    }\n",
              "</style>\n",
              "<table border=\"1\" class=\"dataframe\">\n",
              "  <thead>\n",
              "    <tr style=\"text-align: right;\">\n",
              "      <th></th>\n",
              "      <th>Region</th>\n",
              "      <th>Gender</th>\n",
              "      <th>Fasting_Blood_Sugar</th>\n",
              "      <th>Hemoglobin</th>\n",
              "      <th>Proteinuria</th>\n",
              "      <th>Gamma_GTP</th>\n",
              "      <th>Smoke</th>\n",
              "      <th>Age_group</th>\n",
              "      <th>BMI</th>\n",
              "      <th>Blood_pressure</th>\n",
              "    </tr>\n",
              "  </thead>\n",
              "  <tbody>\n",
              "    <tr>\n",
              "      <th>0</th>\n",
              "      <td>서울특별시</td>\n",
              "      <td>Male</td>\n",
              "      <td>93.0</td>\n",
              "      <td>15.5</td>\n",
              "      <td>1.0</td>\n",
              "      <td>47.0</td>\n",
              "      <td>Non-smoker</td>\n",
              "      <td>60s</td>\n",
              "      <td>23.9</td>\n",
              "      <td>Normal</td>\n",
              "    </tr>\n",
              "    <tr>\n",
              "      <th>1</th>\n",
              "      <td>경상남도</td>\n",
              "      <td>Female</td>\n",
              "      <td>89.0</td>\n",
              "      <td>14.0</td>\n",
              "      <td>1.0</td>\n",
              "      <td>13.0</td>\n",
              "      <td>Smoker</td>\n",
              "      <td>20s</td>\n",
              "      <td>18.7</td>\n",
              "      <td>Normal</td>\n",
              "    </tr>\n",
              "    <tr>\n",
              "      <th>2</th>\n",
              "      <td>경기도</td>\n",
              "      <td>Male</td>\n",
              "      <td>100.0</td>\n",
              "      <td>15.6</td>\n",
              "      <td>1.0</td>\n",
              "      <td>17.0</td>\n",
              "      <td>Smoker</td>\n",
              "      <td>60s</td>\n",
              "      <td>27.3</td>\n",
              "      <td>Normal</td>\n",
              "    </tr>\n",
              "    <tr>\n",
              "      <th>3</th>\n",
              "      <td>인천광역시</td>\n",
              "      <td>Male</td>\n",
              "      <td>85.0</td>\n",
              "      <td>14.5</td>\n",
              "      <td>1.0</td>\n",
              "      <td>32.0</td>\n",
              "      <td>Non-smoker</td>\n",
              "      <td>50s</td>\n",
              "      <td>20.8</td>\n",
              "      <td>Normal</td>\n",
              "    </tr>\n",
              "    <tr>\n",
              "      <th>4</th>\n",
              "      <td>경기도</td>\n",
              "      <td>Male</td>\n",
              "      <td>91.0</td>\n",
              "      <td>14.9</td>\n",
              "      <td>1.0</td>\n",
              "      <td>19.0</td>\n",
              "      <td>Non-smoker</td>\n",
              "      <td>40s</td>\n",
              "      <td>24.2</td>\n",
              "      <td>Normal</td>\n",
              "    </tr>\n",
              "    <tr>\n",
              "      <th>...</th>\n",
              "      <td>...</td>\n",
              "      <td>...</td>\n",
              "      <td>...</td>\n",
              "      <td>...</td>\n",
              "      <td>...</td>\n",
              "      <td>...</td>\n",
              "      <td>...</td>\n",
              "      <td>...</td>\n",
              "      <td>...</td>\n",
              "      <td>...</td>\n",
              "    </tr>\n",
              "    <tr>\n",
              "      <th>1052210</th>\n",
              "      <td>경기도</td>\n",
              "      <td>Male</td>\n",
              "      <td>129.0</td>\n",
              "      <td>15.7</td>\n",
              "      <td>1.0</td>\n",
              "      <td>21.0</td>\n",
              "      <td>Smoker</td>\n",
              "      <td>50s</td>\n",
              "      <td>22.5</td>\n",
              "      <td>Normal</td>\n",
              "    </tr>\n",
              "    <tr>\n",
              "      <th>1052211</th>\n",
              "      <td>서울특별시</td>\n",
              "      <td>Male</td>\n",
              "      <td>130.0</td>\n",
              "      <td>15.4</td>\n",
              "      <td>2.0</td>\n",
              "      <td>27.0</td>\n",
              "      <td>Non-smoker</td>\n",
              "      <td>40s</td>\n",
              "      <td>19.0</td>\n",
              "      <td>Normal</td>\n",
              "    </tr>\n",
              "    <tr>\n",
              "      <th>1052212</th>\n",
              "      <td>전라북도</td>\n",
              "      <td>Male</td>\n",
              "      <td>102.0</td>\n",
              "      <td>15.9</td>\n",
              "      <td>1.0</td>\n",
              "      <td>84.0</td>\n",
              "      <td>Non-smoker</td>\n",
              "      <td>60s</td>\n",
              "      <td>25.4</td>\n",
              "      <td>Normal</td>\n",
              "    </tr>\n",
              "    <tr>\n",
              "      <th>1052213</th>\n",
              "      <td>대전광역시</td>\n",
              "      <td>Male</td>\n",
              "      <td>89.0</td>\n",
              "      <td>15.3</td>\n",
              "      <td>1.0</td>\n",
              "      <td>29.0</td>\n",
              "      <td>Non-smoker</td>\n",
              "      <td>30s</td>\n",
              "      <td>26.0</td>\n",
              "      <td>Normal</td>\n",
              "    </tr>\n",
              "    <tr>\n",
              "      <th>1052214</th>\n",
              "      <td>서울특별시</td>\n",
              "      <td>Female</td>\n",
              "      <td>67.0</td>\n",
              "      <td>13.2</td>\n",
              "      <td>1.0</td>\n",
              "      <td>9.0</td>\n",
              "      <td>Smoker</td>\n",
              "      <td>40s</td>\n",
              "      <td>27.1</td>\n",
              "      <td>Normal</td>\n",
              "    </tr>\n",
              "  </tbody>\n",
              "</table>\n",
              "<p>1052215 rows × 10 columns</p>\n",
              "</div>\n",
              "      <button class=\"colab-df-convert\" onclick=\"convertToInteractive('df-fc349cae-967c-404c-8f07-ed5dbc056dce')\"\n",
              "              title=\"Convert this dataframe to an interactive table.\"\n",
              "              style=\"display:none;\">\n",
              "        \n",
              "  <svg xmlns=\"http://www.w3.org/2000/svg\" height=\"24px\"viewBox=\"0 0 24 24\"\n",
              "       width=\"24px\">\n",
              "    <path d=\"M0 0h24v24H0V0z\" fill=\"none\"/>\n",
              "    <path d=\"M18.56 5.44l.94 2.06.94-2.06 2.06-.94-2.06-.94-.94-2.06-.94 2.06-2.06.94zm-11 1L8.5 8.5l.94-2.06 2.06-.94-2.06-.94L8.5 2.5l-.94 2.06-2.06.94zm10 10l.94 2.06.94-2.06 2.06-.94-2.06-.94-.94-2.06-.94 2.06-2.06.94z\"/><path d=\"M17.41 7.96l-1.37-1.37c-.4-.4-.92-.59-1.43-.59-.52 0-1.04.2-1.43.59L10.3 9.45l-7.72 7.72c-.78.78-.78 2.05 0 2.83L4 21.41c.39.39.9.59 1.41.59.51 0 1.02-.2 1.41-.59l7.78-7.78 2.81-2.81c.8-.78.8-2.07 0-2.86zM5.41 20L4 18.59l7.72-7.72 1.47 1.35L5.41 20z\"/>\n",
              "  </svg>\n",
              "      </button>\n",
              "      \n",
              "  <style>\n",
              "    .colab-df-container {\n",
              "      display:flex;\n",
              "      flex-wrap:wrap;\n",
              "      gap: 12px;\n",
              "    }\n",
              "\n",
              "    .colab-df-convert {\n",
              "      background-color: #E8F0FE;\n",
              "      border: none;\n",
              "      border-radius: 50%;\n",
              "      cursor: pointer;\n",
              "      display: none;\n",
              "      fill: #1967D2;\n",
              "      height: 32px;\n",
              "      padding: 0 0 0 0;\n",
              "      width: 32px;\n",
              "    }\n",
              "\n",
              "    .colab-df-convert:hover {\n",
              "      background-color: #E2EBFA;\n",
              "      box-shadow: 0px 1px 2px rgba(60, 64, 67, 0.3), 0px 1px 3px 1px rgba(60, 64, 67, 0.15);\n",
              "      fill: #174EA6;\n",
              "    }\n",
              "\n",
              "    [theme=dark] .colab-df-convert {\n",
              "      background-color: #3B4455;\n",
              "      fill: #D2E3FC;\n",
              "    }\n",
              "\n",
              "    [theme=dark] .colab-df-convert:hover {\n",
              "      background-color: #434B5C;\n",
              "      box-shadow: 0px 1px 3px 1px rgba(0, 0, 0, 0.15);\n",
              "      filter: drop-shadow(0px 1px 2px rgba(0, 0, 0, 0.3));\n",
              "      fill: #FFFFFF;\n",
              "    }\n",
              "  </style>\n",
              "\n",
              "      <script>\n",
              "        const buttonEl =\n",
              "          document.querySelector('#df-fc349cae-967c-404c-8f07-ed5dbc056dce button.colab-df-convert');\n",
              "        buttonEl.style.display =\n",
              "          google.colab.kernel.accessAllowed ? 'block' : 'none';\n",
              "\n",
              "        async function convertToInteractive(key) {\n",
              "          const element = document.querySelector('#df-fc349cae-967c-404c-8f07-ed5dbc056dce');\n",
              "          const dataTable =\n",
              "            await google.colab.kernel.invokeFunction('convertToInteractive',\n",
              "                                                     [key], {});\n",
              "          if (!dataTable) return;\n",
              "\n",
              "          const docLinkHtml = 'Like what you see? Visit the ' +\n",
              "            '<a target=\"_blank\" href=https://colab.research.google.com/notebooks/data_table.ipynb>data table notebook</a>'\n",
              "            + ' to learn more about interactive tables.';\n",
              "          element.innerHTML = '';\n",
              "          dataTable['output_type'] = 'display_data';\n",
              "          await google.colab.output.renderOutput(dataTable, element);\n",
              "          const docLink = document.createElement('div');\n",
              "          docLink.innerHTML = docLinkHtml;\n",
              "          element.appendChild(docLink);\n",
              "        }\n",
              "      </script>\n",
              "    </div>\n",
              "  </div>\n",
              "  "
            ],
            "text/plain": [
              "        Region  Gender  Fasting_Blood_Sugar  ...  Age_group   BMI  Blood_pressure\n",
              "0        서울특별시    Male                 93.0  ...        60s  23.9          Normal\n",
              "1         경상남도  Female                 89.0  ...        20s  18.7          Normal\n",
              "2          경기도    Male                100.0  ...        60s  27.3          Normal\n",
              "3        인천광역시    Male                 85.0  ...        50s  20.8          Normal\n",
              "4          경기도    Male                 91.0  ...        40s  24.2          Normal\n",
              "...        ...     ...                  ...  ...        ...   ...             ...\n",
              "1052210    경기도    Male                129.0  ...        50s  22.5          Normal\n",
              "1052211  서울특별시    Male                130.0  ...        40s  19.0          Normal\n",
              "1052212   전라북도    Male                102.0  ...        60s  25.4          Normal\n",
              "1052213  대전광역시    Male                 89.0  ...        30s  26.0          Normal\n",
              "1052214  서울특별시  Female                 67.0  ...        40s  27.1          Normal\n",
              "\n",
              "[1052215 rows x 10 columns]"
            ]
          },
          "metadata": {},
          "execution_count": 25
        }
      ]
    },
    {
      "cell_type": "markdown",
      "source": [
        "선형회귀분석은 독립변수와 종속변수가 정규분포를 따를 때 잘 작동한다. 밀도 플롯(density plot)을 그려서 정규분포의 형태인지 확인해본다."
      ],
      "metadata": {
        "id": "fxws70kI7zNA"
      }
    },
    {
      "cell_type": "code",
      "source": [
        "# 1행 2열 형태로 2개의 그래프를 그린다\n",
        "fig, (ax1, ax2) = plt.subplots(1, 2, figsize=(10,5))  \n",
        "\n",
        "# BMI의 밀도 플롯\n",
        "sns.kdeplot(ra['BMI'], ax=ax1)\n",
        "ax1.set_title('BMI')\n",
        "\n",
        "# FBS의 밀도 플롯\n",
        "sns.kdeplot(ra['Fasting_Blood_Sugar'], ax=ax2)\n",
        "ax2.set_title('Fasting_Blood_Sugar')\n",
        "\n",
        "plt.show()"
      ],
      "metadata": {
        "id": "_BsC5eAy7zlx"
      },
      "execution_count": null,
      "outputs": []
    },
    {
      "cell_type": "markdown",
      "source": [
        "데이터가 치우친 정도를 나타내는 왜도(skewness)를 구해본다. e1071 라이브러리가 없을 경우에는 install.packages('e1071')을 실행하여 설치한다."
      ],
      "metadata": {
        "id": "Oa8VRgLM7_HQ"
      }
    },
    {
      "cell_type": "code",
      "source": [
        "print('Skewness of BMI = ',scipy.stats.skew(ra['BMI']))\n",
        "print('Skewness of FBS = ',scipy.stats.skew(ra['Fasting_Blood_Sugar']))"
      ],
      "metadata": {
        "id": "USR46mjm7292"
      },
      "execution_count": null,
      "outputs": []
    },
    {
      "cell_type": "code",
      "source": [
        ""
      ],
      "metadata": {
        "id": "dgvMK1yB73Xl"
      },
      "execution_count": null,
      "outputs": []
    },
    {
      "cell_type": "markdown",
      "source": [
        "## 단순회귀"
      ],
      "metadata": {
        "id": "PY3ehLK07MJm"
      }
    },
    {
      "cell_type": "markdown",
      "source": [
        "종속변수 ~ 독립변수의 형태로 모형식을 쓴다. \n",
        "\n",
        "(수학에서는 y= f(x)처럼 종속변수를 왼쪽에, 독립변수를 오른쪽에 쓰는 것이 관습)"
      ],
      "metadata": {
        "id": "Zly5YROiULkw"
      }
    },
    {
      "cell_type": "markdown",
      "source": [
        "참고) 절편의 고정\n",
        "\n",
        "Intercept 의 coef 가 음수 이고, 종속변수의 값이 음수가 될 수 없을 경우\n",
        "절편을 제거하여 절편을 0 으로 고정 시킨 것과 같이 만든다.\n",
        "\n",
        "모형에서 절편을 제거한 경우 R제곱을 해석할 때 주의가 필요하다. 절편이 있는 경우와 없는 경우 계산 방식이 다르기 때문이다. 절편이 있는 경우에 R제곱은 종속변수의 분산에서 설명하는 비율을 나타내지만, 절편이 없는 경우는 종속변수의 제곱의 평균에서 설명하는 비율을 나타낸다."
      ],
      "metadata": {
        "id": "wT1PBOxfwsx5"
      }
    },
    {
      "cell_type": "code",
      "source": [
        "ra.columns"
      ],
      "metadata": {
        "colab": {
          "base_uri": "https://localhost:8080/"
        },
        "id": "zJfuWuc0CYGm",
        "outputId": "888b3ef2-18f5-47fe-9b0b-4a439639826e"
      },
      "execution_count": null,
      "outputs": [
        {
          "output_type": "execute_result",
          "data": {
            "text/plain": [
              "Index(['Region', 'Gender_OH', 'Fasting_Blood_Sugar', 'Hemoglobin',\n",
              "       'Proteinuria', 'Gamma_GTP', 'Smoke', 'Gender', 'Age group', 'BMI',\n",
              "       'Blood_pressure'],\n",
              "      dtype='object')"
            ]
          },
          "metadata": {},
          "execution_count": 36
        }
      ]
    },
    {
      "cell_type": "code",
      "source": [
        "# model = ols('Fasting_Blood_Sugar ~ BMI', data=ra)\n",
        "# res = model.fit()\n",
        "# print(res.summary())"
      ],
      "metadata": {
        "id": "gHcY8crzp5p6"
      },
      "execution_count": null,
      "outputs": []
    },
    {
      "cell_type": "markdown",
      "source": [
        "### 공복혈당 ~ BMI"
      ],
      "metadata": {
        "id": "1aC4r4z3B6yF"
      }
    },
    {
      "cell_type": "code",
      "source": [
        "X=ra['BMI']\n",
        "Y=ra['Fasting_Blood_Sugar']\n",
        "X = add_constant(X)\n",
        "model = OLS(Y,X)\n",
        "res = model.fit()\n",
        "print(res.summary())"
      ],
      "metadata": {
        "id": "cXgRgdL9jvjB",
        "colab": {
          "base_uri": "https://localhost:8080/"
        },
        "outputId": "316feadc-ccf9-4853-de84-3606a8b7bb66"
      },
      "execution_count": 26,
      "outputs": [
        {
          "output_type": "stream",
          "name": "stdout",
          "text": [
            "                             OLS Regression Results                            \n",
            "===============================================================================\n",
            "Dep. Variable:     Fasting_Blood_Sugar   R-squared:                       0.032\n",
            "Model:                             OLS   Adj. R-squared:                  0.032\n",
            "Method:                  Least Squares   F-statistic:                 3.443e+04\n",
            "Date:                 Sat, 25 Dec 2021   Prob (F-statistic):               0.00\n",
            "Time:                         04:51:25   Log-Likelihood:            -4.8083e+06\n",
            "No. Observations:              1052215   AIC:                         9.617e+06\n",
            "Df Residuals:                  1052213   BIC:                         9.617e+06\n",
            "Df Model:                            1                                         \n",
            "Covariance Type:             nonrobust                                         \n",
            "==============================================================================\n",
            "                 coef    std err          t      P>|t|      [0.025      0.975]\n",
            "------------------------------------------------------------------------------\n",
            "const         72.8232      0.153    476.882      0.000      72.524      73.122\n",
            "BMI            1.1676      0.006    185.565      0.000       1.155       1.180\n",
            "==============================================================================\n",
            "Omnibus:                  1041517.119   Durbin-Watson:                   2.000\n",
            "Prob(Omnibus):                  0.000   Jarque-Bera (JB):         91955797.678\n",
            "Skew:                           4.718   Prob(JB):                         0.00\n",
            "Kurtosis:                      47.815   Cond. No.                         163.\n",
            "==============================================================================\n",
            "\n",
            "Warnings:\n",
            "[1] Standard Errors assume that the covariance matrix of the errors is correctly specified.\n"
          ]
        }
      ]
    },
    {
      "cell_type": "markdown",
      "source": [
        "* 모델적합도 :\n",
        "\n",
        "Fasting_Blood_Sugar에 대하여 BMI로 예측하는 회귀분석을 실시한 결과, 이 회귀모형은 통계적으로 유의미하였다(F(1,1052213) = 3.443e+04, p < 0.05).\n",
        "\n",
        "* 모델 설명력 :\n",
        "\n",
        "R-squared = 0.032, 3% 정도의 설명력을 보였다\n",
        "\n",
        "\n",
        "* 독립변수 영향력 :\n",
        "\n",
        "BMI의 회귀계수는 1.1676 로, Fasting_Blood_Sugar에 대하여 유의미한 예측 변인인 것으로 나타났다(t(1052213) = 185.565, p < 0.05)."
      ],
      "metadata": {
        "id": "uCw1_hjZVJaL"
      }
    },
    {
      "cell_type": "markdown",
      "source": [
        "### 공복혈당 ~ 혈색소"
      ],
      "metadata": {
        "id": "8ePijR97D99P"
      }
    },
    {
      "cell_type": "code",
      "source": [
        "X=ra['Hemoglobin']\n",
        "Y=ra['Fasting_Blood_Sugar']\n",
        "X = add_constant(X)\n",
        "model = OLS(Y,X)\n",
        "res = model.fit()\n",
        "print(res.summary())"
      ],
      "metadata": {
        "colab": {
          "base_uri": "https://localhost:8080/"
        },
        "id": "xB0IcKVvD1mU",
        "outputId": "8797ac7f-621b-4c80-d916-f5c5ae9f000e"
      },
      "execution_count": null,
      "outputs": [
        {
          "output_type": "stream",
          "name": "stdout",
          "text": [
            "                            OLS Regression Results                            \n",
            "==============================================================================\n",
            "Dep. Variable:             Hemoglobin   R-squared:                       0.069\n",
            "Model:                            OLS   Adj. R-squared:                  0.069\n",
            "Method:                 Least Squares   F-statistic:                 7.831e+04\n",
            "Date:                Fri, 24 Dec 2021   Prob (F-statistic):               0.00\n",
            "Time:                        06:10:45   Log-Likelihood:            -1.9256e+06\n",
            "No. Observations:             1052215   AIC:                         3.851e+06\n",
            "Df Residuals:                 1052213   BIC:                         3.851e+06\n",
            "Df Model:                           1                                         \n",
            "Covariance Type:            nonrobust                                         \n",
            "==============================================================================\n",
            "                 coef    std err          t      P>|t|      [0.025      0.975]\n",
            "------------------------------------------------------------------------------\n",
            "const         11.5265      0.010   1168.573      0.000      11.507      11.546\n",
            "BMI            0.1137      0.000    279.832      0.000       0.113       0.115\n",
            "==============================================================================\n",
            "Omnibus:                    43426.474   Durbin-Watson:                   1.998\n",
            "Prob(Omnibus):                  0.000   Jarque-Bera (JB):            64188.800\n",
            "Skew:                          -0.395   Prob(JB):                         0.00\n",
            "Kurtosis:                       3.917   Cond. No.                         163.\n",
            "==============================================================================\n",
            "\n",
            "Warnings:\n",
            "[1] Standard Errors assume that the covariance matrix of the errors is correctly specified.\n"
          ]
        }
      ]
    },
    {
      "cell_type": "markdown",
      "source": [
        "## 다중회귀"
      ],
      "metadata": {
        "id": "fllY8CpRFvwh"
      }
    },
    {
      "cell_type": "markdown",
      "source": [
        "### 공복혈당 ~ BMI + 혈색소"
      ],
      "metadata": {
        "id": "5EsQS7jxFzp9"
      }
    },
    {
      "cell_type": "code",
      "source": [
        "X=ra[['BMI','Hemoglobin']]\n",
        "Y=ra['Fasting_Blood_Sugar']\n",
        "X = add_constant(X)\n",
        "model = OLS(Y,X)\n",
        "res = model.fit()\n",
        "print(res.summary())"
      ],
      "metadata": {
        "colab": {
          "base_uri": "https://localhost:8080/"
        },
        "id": "KbuWC6h6EKfA",
        "outputId": "c3c7839e-63a9-428f-816b-e85a4256e423"
      },
      "execution_count": null,
      "outputs": [
        {
          "output_type": "stream",
          "name": "stdout",
          "text": [
            "                             OLS Regression Results                            \n",
            "===============================================================================\n",
            "Dep. Variable:     Fasting_Blood_Sugar   R-squared:                       0.036\n",
            "Model:                             OLS   Adj. R-squared:                  0.036\n",
            "Method:                  Least Squares   F-statistic:                 1.940e+04\n",
            "Date:                 Fri, 24 Dec 2021   Prob (F-statistic):               0.00\n",
            "Time:                         06:14:13   Log-Likelihood:            -4.8062e+06\n",
            "No. Observations:              1052215   AIC:                         9.612e+06\n",
            "Df Residuals:                  1052212   BIC:                         9.612e+06\n",
            "Df Model:                            2                                         \n",
            "Covariance Type:             nonrobust                                         \n",
            "==============================================================================\n",
            "                 coef    std err          t      P>|t|      [0.025      0.975]\n",
            "------------------------------------------------------------------------------\n",
            "const         61.5454      0.231    266.410      0.000      61.093      61.998\n",
            "BMI            1.0563      0.007    162.286      0.000       1.044       1.069\n",
            "Hemoglobin     0.9784      0.015     64.958      0.000       0.949       1.008\n",
            "==============================================================================\n",
            "Omnibus:                  1040254.680   Durbin-Watson:                   2.000\n",
            "Prob(Omnibus):                  0.000   Jarque-Bera (JB):         91981604.184\n",
            "Skew:                           4.707   Prob(JB):                         0.00\n",
            "Kurtosis:                      47.826   Cond. No.                         286.\n",
            "==============================================================================\n",
            "\n",
            "Warnings:\n",
            "[1] Standard Errors assume that the covariance matrix of the errors is correctly specified.\n"
          ]
        }
      ]
    },
    {
      "cell_type": "markdown",
      "source": [
        "### 공복혈당 ~ all"
      ],
      "metadata": {
        "id": "OMSPJAPtF4ET"
      }
    },
    {
      "cell_type": "code",
      "source": [
        "feats=['BMI','Hemoglobin','C(Gender)','C(Blood_pressure)','C(Smoke)','C(Proteinuria)']\n",
        "\"Fasting_Blood_Sugar ~\" + \"+\".join(feats)\n",
        "\n",
        "model = OLS.from_formula(\"Fasting_Blood_Sugar ~\" + \"+\".join(feats),data=ra)\n",
        "res = model.fit()\n",
        "print(res.summary())"
      ],
      "metadata": {
        "colab": {
          "base_uri": "https://localhost:8080/"
        },
        "id": "Pxmqm1QsEKuo",
        "outputId": "02d79d08-7925-4ffa-92af-07f2ff94d794"
      },
      "execution_count": null,
      "outputs": [
        {
          "output_type": "stream",
          "name": "stdout",
          "text": [
            "                             OLS Regression Results                            \n",
            "===============================================================================\n",
            "Dep. Variable:     Fasting_Blood_Sugar   R-squared:                       0.054\n",
            "Model:                             OLS   Adj. R-squared:                  0.054\n",
            "Method:                  Least Squares   F-statistic:                     6029.\n",
            "Date:                 Fri, 24 Dec 2021   Prob (F-statistic):               0.00\n",
            "Time:                         12:01:14   Log-Likelihood:            -4.7942e+06\n",
            "No. Observations:              1052212   AIC:                         9.588e+06\n",
            "Df Residuals:                  1052201   BIC:                         9.589e+06\n",
            "Df Model:                           10                                         \n",
            "Covariance Type:             nonrobust                                         \n",
            "===============================================================================================\n",
            "                                  coef    std err          t      P>|t|      [0.025      0.975]\n",
            "-----------------------------------------------------------------------------------------------\n",
            "Intercept                      79.8686      0.312    255.593      0.000      79.256      80.481\n",
            "C(Gender)[T.Male]               2.4803      0.069     36.123      0.000       2.346       2.615\n",
            "C(Blood_pressure)[T.Normal]    -5.2528      0.100    -52.541      0.000      -5.449      -5.057\n",
            "C(Smoke)[T.Smoker]             -2.0142      0.059    -34.247      0.000      -2.129      -1.899\n",
            "C(Proteinuria)[T.2.0]           2.5460      0.120     21.174      0.000       2.310       2.782\n",
            "C(Proteinuria)[T.3.0]          10.4933      0.167     62.904      0.000      10.166      10.820\n",
            "C(Proteinuria)[T.4.0]          19.6601      0.281     70.054      0.000      19.110      20.210\n",
            "C(Proteinuria)[T.5.0]          23.7032      0.491     48.227      0.000      22.740      24.666\n",
            "C(Proteinuria)[T.6.0]          26.9738      0.939     28.728      0.000      25.133      28.814\n",
            "BMI                             0.9586      0.007    147.369      0.000       0.946       0.971\n",
            "Hemoglobin                      0.1704      0.019      8.749      0.000       0.132       0.209\n",
            "==============================================================================\n",
            "Omnibus:                  1015114.504   Durbin-Watson:                   2.000\n",
            "Prob(Omnibus):                  0.000   Jarque-Bera (JB):         78006822.232\n",
            "Skew:                           4.568   Prob(JB):                         0.00\n",
            "Kurtosis:                      44.180   Cond. No.                     1.18e+03\n",
            "==============================================================================\n",
            "\n",
            "Warnings:\n",
            "[1] Standard Errors assume that the covariance matrix of the errors is correctly specified.\n",
            "[2] The condition number is large, 1.18e+03. This might indicate that there are\n",
            "strong multicollinearity or other numerical problems.\n"
          ]
        }
      ]
    },
    {
      "cell_type": "markdown",
      "source": [
        "# Model Validation"
      ],
      "metadata": {
        "id": "Oml5NKY0D6_P"
      }
    },
    {
      "cell_type": "markdown",
      "source": [
        "# 1.모델 적합도 분석 \n",
        "잔차 분석 (Residual Analysis)\n",
        "* 예측값(fitted)과 잔차(residual)의 비교\n",
        "* 모든 예측값에서 잔차가 비슷하게 있어야 함(가운데 점선)\n",
        "* 실선은 잔차의 추세를 나타냄\n",
        "* 실선이 점선에서 크게 벗어난다면 예측값에 따라 잔차가 크게 달라진다는 것"
      ],
      "metadata": {
        "id": "au2jaH2SNogg"
      }
    },
    {
      "cell_type": "code",
      "source": [
        "fitted = res.predict(X) # 예측값\n",
        "residual = ra['Fasting_Blood_Sugar'] - fitted # 잔차 = (실제값-예측값)"
      ],
      "metadata": {
        "id": "8UlvYbjnLmSD"
      },
      "execution_count": 27,
      "outputs": []
    },
    {
      "cell_type": "code",
      "source": [
        "plt.figure(figsize=(10,10))\n",
        "sns.regplot(x=fitted, y=residual, lowess=True, line_kws={'color': 'yellow'})\n",
        "plt.plot([fitted.min(), fitted.max()], [0, 0], '--', color='red')\n",
        "plt.show()"
      ],
      "metadata": {
        "id": "c2rhZ7KiMDbo"
      },
      "execution_count": null,
      "outputs": []
    },
    {
      "cell_type": "markdown",
      "source": [
        "## Normality Test (정규성)\n",
        "\n",
        "* 잔차의 정규성 검증\n",
        "* 잔차가 정규분포를 따른다는 가정\n",
        "* Q-Q 플롯으로 확인할 수 있음\n",
        "* 잔차가 정규분포를 띄면 Q-Q 플롯에서 점들이 점선을 따라 배치되어 있어야 함"
      ],
      "metadata": {
        "id": "WV8chJOmEEb4"
      }
    },
    {
      "cell_type": "markdown",
      "source": [
        "Residual Quantile"
      ],
      "metadata": {
        "id": "iEU6k5o69S27"
      }
    },
    {
      "cell_type": "code",
      "source": [
        "print('Residual Min = ', np.min(residual)) # 0\n",
        "print('Residual Q1 = ',np.quantile(residual, 0.25))\n",
        "print('Residual Q2 = ',np.quantile(residual, 0.5))\n",
        "print('Residual Q3 = ',np.quantile(residual, 0.75))\n",
        "print('Residual Max = ', np.max(residual)) # 1"
      ],
      "metadata": {
        "colab": {
          "base_uri": "https://localhost:8080/"
        },
        "id": "NrN9aXdT8aIJ",
        "outputId": "16ac05f1-ee71-45ce-b8e8-f1283c1870b8"
      },
      "execution_count": 33,
      "outputs": [
        {
          "output_type": "stream",
          "name": "stdout",
          "text": [
            "Residual Min =  -98.1454129823638\n",
            "Residual Q1 =  -11.414739451188439\n",
            "Residual Q2 =  -4.282926004802533\n",
            "Residual Q3 =  4.438395315640605\n",
            "Residual Max =  859.3875403792326\n"
          ]
        }
      ]
    },
    {
      "cell_type": "code",
      "source": [
        "print('Skewness of residual = ',scipy.stats.skew(residual))\n",
        "sns.kdeplot(residual);"
      ],
      "metadata": {
        "colab": {
          "base_uri": "https://localhost:8080/",
          "height": 282
        },
        "id": "x_h6ttrVAr9r",
        "outputId": "f468f961-6c8b-41cd-a8f7-df6225318efa"
      },
      "execution_count": 57,
      "outputs": [
        {
          "output_type": "stream",
          "name": "stdout",
          "text": [
            "Skewness of residual =  4.717988595692517\n"
          ]
        },
        {
          "output_type": "display_data",
          "data": {
            "image/png": "[encoded data removed]",
            "text/plain": [
              "<Figure size 432x288 with 1 Axes>"
            ]
          },
          "metadata": {
            "needs_background": "light"
          }
        }
      ]
    },
    {
      "cell_type": "code",
      "source": [
        "qqplot(residual, line='s', fit=False) # line ='45', 's', 'r', 'q'\n",
        "plt.show()"
      ],
      "metadata": {
        "colab": {
          "base_uri": "https://localhost:8080/",
          "height": 279
        },
        "id": "gpIKDGcpsIi-",
        "outputId": "458924d4-312f-447d-bb32-93f3dc994f1a"
      },
      "execution_count": 67,
      "outputs": [
        {
          "output_type": "display_data",
          "data": {
            "image/png": "[encoded data removed]",
            "text/plain": [
              "<Figure size 432x288 with 1 Axes>"
            ]
          },
          "metadata": {
            "needs_background": "light"
          }
        }
      ]
    },
    {
      "cell_type": "markdown",
      "source": [
        "### Handling Skewness\n",
        "\n",
        "right (positive) skewness = log (x)\n",
        "\n",
        "log1p = log (x+1) : log(0) 이 -inf가 되는 것을 막아 더 효율적\n",
        "\n",
        "값중에 -1 보다 큰 마이너스값이 있으면, 가장 작은값을 더해줌\n"
      ],
      "metadata": {
        "id": "B7lFDeaqH6cf"
      }
    },
    {
      "cell_type": "code",
      "source": [
        "log_residual = np.log1p(residual + 99)\n",
        "\n",
        "print('Skewness of residual = ',scipy.stats.skew(log_residual))\n",
        "sns.kdeplot(log_residual);"
      ],
      "metadata": {
        "colab": {
          "base_uri": "https://localhost:8080/",
          "height": 282
        },
        "id": "3wMeR7pdFdQd",
        "outputId": "3acc5cbd-61e4-4fb3-c833-d0ba435cb4a3"
      },
      "execution_count": 92,
      "outputs": [
        {
          "output_type": "stream",
          "name": "stdout",
          "text": [
            "Skewness of residual =  1.946553109446279\n"
          ]
        },
        {
          "output_type": "display_data",
          "data": {
            "image/png": "[encoded data removed]",
            "text/plain": [
              "<Figure size 432x288 with 1 Axes>"
            ]
          },
          "metadata": {
            "needs_background": "light"
          }
        }
      ]
    },
    {
      "cell_type": "code",
      "source": [
        "qqplot(log_residual, line='q', fit=True) # line ='45', 's', 'r', 'q'\n",
        "plt.show()"
      ],
      "metadata": {
        "colab": {
          "base_uri": "https://localhost:8080/",
          "height": 279
        },
        "id": "gOzNGEzNHCUj",
        "outputId": "5f116f94-eebd-449f-c7e8-0b667ad33464"
      },
      "execution_count": 98,
      "outputs": [
        {
          "output_type": "display_data",
          "data": {
            "image/png": "[encoded data removed]",
            "text/plain": [
              "<Figure size 432x288 with 1 Axes>"
            ]
          },
          "metadata": {
            "needs_background": "light"
          }
        }
      ]
    },
    {
      "cell_type": "code",
      "source": [
        "# rand = np.random.randn(100)\n",
        "# rand\n",
        "# for line in ['45','s', 'r', 'q']:\n",
        "#   print(line)\n",
        "#   qqplot(rand, line=line)\n",
        "#   plt.show()"
      ],
      "metadata": {
        "id": "179sHJXF_NUd"
      },
      "execution_count": null,
      "outputs": []
    },
    {
      "cell_type": "code",
      "source": [
        "# 샤피로검정 (0.05 이상이어야, 정규성 만족)\n",
        "print('Shapiro_residual', scipy.stats.shapiro(residual))\n",
        "print('Shapiro_log', scipy.stats.shapiro(log_residual))"
      ],
      "metadata": {
        "colab": {
          "base_uri": "https://localhost:8080/"
        },
        "id": "H2Ez4eCjMsnQ",
        "outputId": "6b9ae43a-3e53-48f9-cc92-ab6e504d6320"
      },
      "execution_count": 100,
      "outputs": [
        {
          "output_type": "stream",
          "name": "stderr",
          "text": [
            "/usr/local/lib/python3.7/dist-packages/scipy/stats/morestats.py:1676: UserWarning: p-value may not be accurate for N > 5000.\n",
            "  warnings.warn(\"p-value may not be accurate for N > 5000.\")\n"
          ]
        },
        {
          "output_type": "stream",
          "name": "stdout",
          "text": [
            "Shapiro_residual (0.6652841567993164, 0.0)\n",
            "Shapiro_log (0.8635473251342773, 0.0)\n"
          ]
        }
      ]
    },
    {
      "cell_type": "markdown",
      "source": [
        "## 등분산성 검정\n",
        "\n",
        "* 잔차의 등분산성\n",
        "* 회귀모형을 통햬 예측된 값이 크던 작던, 모든 값들에 대하여 잔차의 분산이 동일하다는 가정\n",
        "* 아래 그래프는 예측값(가로축)에 따라 잔차가 어떻게 달라지는지 보여줌\n",
        "* 빨간색 실선이 수평선을 그리는 것이 이상적"
      ],
      "metadata": {
        "id": "y8okCbhCNDd9"
      }
    },
    {
      "cell_type": "code",
      "source": [
        "sr = scipy.stats.zscore(residual)\n",
        "sns.regplot(x=fitted, y=np.sqrt(np.abs(sr)), lowess=True, line_kws={'color': 'red'})\n",
        "plt.show()"
      ],
      "metadata": {
        "colab": {
          "base_uri": "https://localhost:8080/",
          "height": 265
        },
        "id": "JG6OgWOSNLqy",
        "outputId": "d980a829-30b2-4317-a113-486752c5f453"
      },
      "execution_count": null,
      "outputs": [
        {
          "output_type": "display_data",
          "data": {
            "image/png": "[encoded data removed]",
            "text/plain": [
              "<Figure size 432x288 with 1 Axes>"
            ]
          },
          "metadata": {
            "needs_background": "light"
          }
        }
      ]
    },
    {
      "cell_type": "markdown",
      "source": [
        "## 독립성 검정\n",
        "* 회귀분석에서 잔차는 정규성, 등분산성 그리고 독립성을 가지는 것으로 가정\n",
        "* 자료 수집 과정에서 무작위 표집(random sampling)을 하였다면, 잔차의 독립성은 만족하는 것으로 봄\n",
        "* 시계열 자료나 종단연구 자료처럼, 연구 설계 자체가 독립성을 담보할 수 없는 경우에는 더빈-왓슨 검정(Durbin-Watson test) 등을 실시\n"
      ],
      "metadata": {
        "id": "eH-CBmqTOeNB"
      }
    },
    {
      "cell_type": "code",
      "source": [
        "# 0~4 사이에 나오며 2에 가까울수록 자기상관없이 독립.\n",
        "durbin_watson(residual)"
      ],
      "metadata": {
        "colab": {
          "base_uri": "https://localhost:8080/"
        },
        "id": "j6o2FWCtOe8n",
        "outputId": "2c0aa01f-2cf4-4c20-f0d4-72f3904c5e88"
      },
      "execution_count": null,
      "outputs": [
        {
          "output_type": "execute_result",
          "data": {
            "text/plain": [
              "2.000155333899586"
            ]
          },
          "metadata": {},
          "execution_count": 73
        }
      ]
    },
    {
      "cell_type": "markdown",
      "source": [
        "## Outlier Check (이상치)\n",
        "\n",
        "Cook's distance는 극단값을 나타내는 지표\n"
      ],
      "metadata": {
        "id": "v_mPPFerETfL"
      }
    },
    {
      "cell_type": "code",
      "source": [
        "cd, _ = OLSInfluence(res).cooks_distance"
      ],
      "metadata": {
        "id": "evoCbIJevNb7"
      },
      "execution_count": 101,
      "outputs": []
    },
    {
      "cell_type": "code",
      "source": [
        "# 1보다 크면 이상치\n",
        "cd.sort_values(ascending=False).head()"
      ],
      "metadata": {
        "colab": {
          "base_uri": "https://localhost:8080/"
        },
        "id": "1-DVnKnevM2W",
        "outputId": "24fba7a5-a162-43e0-d912-f626ead20866"
      },
      "execution_count": 102,
      "outputs": [
        {
          "output_type": "execute_result",
          "data": {
            "text/plain": [
              "608433     0.001613\n",
              "961798     0.001311\n",
              "1029672    0.001137\n",
              "17201      0.001099\n",
              "444246     0.001002\n",
              "dtype: float64"
            ]
          },
          "metadata": {},
          "execution_count": 102
        }
      ]
    },
    {
      "cell_type": "markdown",
      "source": [
        "잔차 분석 결과를 바탕으로 대응\n",
        "\n",
        "잔차 분석 결과에 따라 다양한 방식의 대응이 가능\n",
        "* 극단값을 제거\n",
        "* 독립변수를 추가\n",
        "* 종속변수를 수학적으로 변환"
      ],
      "metadata": {
        "id": "IzxqXluQP7Im"
      }
    },
    {
      "cell_type": "markdown",
      "source": [
        "# 2.변수 영향력 분석\n",
        " * 다중회귀인 경우 "
      ],
      "metadata": {
        "id": "c4oBB1wIN4pf"
      }
    },
    {
      "cell_type": "markdown",
      "source": [
        "#### 다중공선성 확인"
      ],
      "metadata": {
        "id": "QADLE5ftU1E9"
      }
    },
    {
      "cell_type": "code",
      "source": [
        "X=ra['BMI']\n",
        "Y=ra[['Fasting_Blood_Sugar', 'Hemoglobin']]\n",
        "X = add_constant(X)\n",
        "model_multi = OLS(Y,X)\n",
        "res = model_multi.fit()\n",
        "print(res.summary)"
      ],
      "metadata": {
        "id": "0EfFcvSiZIgD"
      },
      "execution_count": null,
      "outputs": []
    },
    {
      "cell_type": "markdown",
      "source": [
        "독립변수들의 이름"
      ],
      "metadata": {
        "id": "OWNkE9zZY1sd"
      }
    },
    {
      "cell_type": "code",
      "source": [
        "model_multi.exog_names"
      ],
      "metadata": {
        "id": "VyWzwdUK8Akw",
        "colab": {
          "base_uri": "https://localhost:8080/"
        },
        "outputId": "993ccbfe-8c21-4729-f815-45a153fce015"
      },
      "execution_count": 111,
      "outputs": [
        {
          "output_type": "execute_result",
          "data": {
            "text/plain": [
              "['const', 'BMI']"
            ]
          },
          "metadata": {},
          "execution_count": 111
        }
      ]
    },
    {
      "cell_type": "markdown",
      "source": [
        "X의 첫번째 독립변수의 VIF를 계산"
      ],
      "metadata": {
        "id": "1-nSpJHBY4uH"
      }
    },
    {
      "cell_type": "code",
      "source": [
        "variance_inflation_factor(model_multi.exog, 0)"
      ],
      "metadata": {
        "id": "Q4EZR5teyoFC",
        "colab": {
          "base_uri": "https://localhost:8080/"
        },
        "outputId": "4ceeec37-cf05-4582-ca99-1eda18cfb7c9"
      },
      "execution_count": 108,
      "outputs": [
        {
          "output_type": "execute_result",
          "data": {
            "text/plain": [
              "44.99016518812172"
            ]
          },
          "metadata": {},
          "execution_count": 108
        }
      ]
    },
    {
      "cell_type": "code",
      "source": [
        "variance_inflation_factor(model_multi.exog, 1)"
      ],
      "metadata": {
        "colab": {
          "base_uri": "https://localhost:8080/"
        },
        "id": "6q7fn8HXMnqv",
        "outputId": "d8ef13a4-c4fb-424c-e12f-4b4a7bac242c"
      },
      "execution_count": 109,
      "outputs": [
        {
          "output_type": "execute_result",
          "data": {
            "text/plain": [
              "0.9999999999999729"
            ]
          },
          "metadata": {},
          "execution_count": 109
        }
      ]
    },
    {
      "cell_type": "markdown",
      "source": [
        "한번에 모든 VIF 계산"
      ],
      "metadata": {
        "id": "Hn-H96bZY_7p"
      }
    },
    {
      "cell_type": "code",
      "source": [
        "pd.DataFrame({'컬럼': column, 'VIF': variance_inflation_factor(model_multi.exog, i)} \n",
        "             for i, column in enumerate(model.exog_names)\n",
        "             if column != 'Intercept')"
      ],
      "metadata": {
        "id": "LCa-mvwN7kuw"
      },
      "execution_count": null,
      "outputs": []
    },
    {
      "cell_type": "markdown",
      "source": [
        "# Machine Learning\n",
        "\n",
        "* 변수간의 상관관계가 통계적으로 유의함으로, 머신러닝을 통해 예측값 계산"
      ],
      "metadata": {
        "id": "BOJiVGlaevSq"
      }
    },
    {
      "cell_type": "markdown",
      "source": [
        "## Linear Regression"
      ],
      "metadata": {
        "id": "Hi1zy0BDWRUo"
      }
    },
    {
      "cell_type": "code",
      "source": [
        "X=np.array(ra['BMI']).reshape(-1,1)\n",
        "y=np.array(ra['Fasting_Blood_Sugar'])\n",
        "X_train, X_test, y_train, y_test = train_test_split(X,y,\n",
        "                                                 test_size=0.2)\n",
        "lin_reg = LinearRegression()\n",
        "lin_reg.fit(X_train, y_train)\n",
        "\n",
        "print('RMSE_train = ', np.sqrt(mean_squared_error(y_train, lin_reg.predict(X_train))))\n",
        "print('RMSE_test = ', np.sqrt(mean_squared_error(y_test, lin_reg.predict(X_test))))\n",
        "print('R2_train = ',r2_score(y_train, lin_reg.predict(X_train)))\n",
        "print('R2_test = ',r2_score(y_test, lin_reg.predict(X_test)))"
      ],
      "metadata": {
        "colab": {
          "base_uri": "https://localhost:8080/"
        },
        "id": "DZHTrFZUXANU",
        "outputId": "1a442dd5-f086-4313-f70d-a72aece060b8"
      },
      "execution_count": null,
      "outputs": [
        {
          "output_type": "stream",
          "name": "stdout",
          "text": [
            "RMSE_train =  23.301939348156207\n",
            "RMSE_test =  23.360997206117403\n",
            "R2_train =  0.031578034593401916\n",
            "R2_test =  0.032687337917356896\n"
          ]
        }
      ]
    },
    {
      "cell_type": "markdown",
      "source": [
        "## Multiple Regression"
      ],
      "metadata": {
        "id": "O9wjHj76Xdtd"
      }
    },
    {
      "cell_type": "code",
      "source": [
        "df_ML = pd.get_dummies(ra, drop_first=True)\n",
        "features = df_ML.loc[:, 'Hemoglobin':'Blood_pressure_Normal']"
      ],
      "metadata": {
        "id": "6Z_aegAwPxM0"
      },
      "execution_count": null,
      "outputs": []
    },
    {
      "cell_type": "code",
      "source": [
        "features.columns"
      ],
      "metadata": {
        "colab": {
          "base_uri": "https://localhost:8080/"
        },
        "id": "cwIK_g0jWghE",
        "outputId": "f6fb1578-3f90-42c0-e76a-58856093b1e6"
      },
      "execution_count": null,
      "outputs": [
        {
          "output_type": "execute_result",
          "data": {
            "text/plain": [
              "Index(['Hemoglobin', 'Gamma_GTP', 'BMI', 'Region_경기도', 'Region_경상남도',\n",
              "       'Region_경상북도', 'Region_광주광역시', 'Region_대구광역시', 'Region_대전광역시',\n",
              "       'Region_부산광역시', 'Region_서울특별시', 'Region_세종특별자치시', 'Region_울산광역시',\n",
              "       'Region_인천광역시', 'Region_전라남도', 'Region_전라북도', 'Region_제주특별자치도',\n",
              "       'Region_충청남도', 'Region_충청북도', 'Gender_Male', 'Proteinuria_2.0',\n",
              "       'Proteinuria_3.0', 'Proteinuria_4.0', 'Proteinuria_5.0',\n",
              "       'Proteinuria_6.0', 'Smoke_Smoker', 'Age_group_30s', 'Age_group_40s',\n",
              "       'Age_group_50s', 'Age_group_60s', 'Age_group_70s', 'Age_group_over80s',\n",
              "       'Blood_pressure_Normal'],\n",
              "      dtype='object')"
            ]
          },
          "metadata": {},
          "execution_count": 131
        }
      ]
    },
    {
      "cell_type": "code",
      "source": [
        "# X=np.array(ra['BMI']).reshape(-1,1)\n",
        "X = features.values\n",
        "y=np.array(ra['Fasting_Blood_Sugar'])"
      ],
      "metadata": {
        "id": "Q9Bu05CjxkVz"
      },
      "execution_count": null,
      "outputs": []
    },
    {
      "cell_type": "code",
      "source": [
        "X[0]"
      ],
      "metadata": {
        "colab": {
          "base_uri": "https://localhost:8080/"
        },
        "id": "1Zr3Xj6IhaJn",
        "outputId": "da1c87a1-81a2-4186-adfb-42d0ab657691"
      },
      "execution_count": null,
      "outputs": [
        {
          "output_type": "execute_result",
          "data": {
            "text/plain": [
              "array([15.5, 47. , 23.9,  0. ,  0. ,  0. ,  0. ,  0. ,  0. ,  0. ,  1. ,\n",
              "        0. ,  0. ,  0. ,  0. ,  0. ,  0. ,  0. ,  0. ,  1. ,  0. ,  0. ,\n",
              "        0. ,  0. ,  0. ,  0. ,  0. ,  0. ,  0. ,  1. ,  0. ,  0. ,  1. ])"
            ]
          },
          "metadata": {},
          "execution_count": 133
        }
      ]
    },
    {
      "cell_type": "code",
      "source": [
        "X_train, X_test, y_train, y_test = train_test_split(X,y,\n",
        "                                                 test_size=0.2)"
      ],
      "metadata": {
        "id": "LDjFeOjlcwNo"
      },
      "execution_count": null,
      "outputs": []
    },
    {
      "cell_type": "code",
      "source": [
        "X_train.shape, y_train.shape, X_test.shape, y_test.shape"
      ],
      "metadata": {
        "colab": {
          "base_uri": "https://localhost:8080/"
        },
        "id": "XdDdx5hibwL7",
        "outputId": "71b6f511-4590-4c2b-ab2d-53ed949938ac"
      },
      "execution_count": null,
      "outputs": [
        {
          "output_type": "execute_result",
          "data": {
            "text/plain": [
              "((841769, 33), (841769,), (210443, 33), (210443,))"
            ]
          },
          "metadata": {},
          "execution_count": 135
        }
      ]
    },
    {
      "cell_type": "code",
      "source": [
        "lin_reg = LinearRegression()"
      ],
      "metadata": {
        "id": "eggfi6Z2VRlo"
      },
      "execution_count": null,
      "outputs": []
    },
    {
      "cell_type": "code",
      "source": [
        "lin_reg.fit(X_train, y_train)"
      ],
      "metadata": {
        "id": "IJyz59FvVS3I",
        "colab": {
          "base_uri": "https://localhost:8080/"
        },
        "outputId": "84e01ac7-8225-4a66-f731-c6276cbd1865"
      },
      "execution_count": null,
      "outputs": [
        {
          "output_type": "execute_result",
          "data": {
            "text/plain": [
              "LinearRegression()"
            ]
          },
          "metadata": {},
          "execution_count": 137
        }
      ]
    },
    {
      "cell_type": "code",
      "source": [
        "lin_reg.coef_ # w_1 : slope or weight "
      ],
      "metadata": {
        "id": "TQbXbwy9VVy5",
        "colab": {
          "base_uri": "https://localhost:8080/"
        },
        "outputId": "70e74a00-9a6e-42b4-e675-c0f99f06bd3d"
      },
      "execution_count": null,
      "outputs": [
        {
          "output_type": "execute_result",
          "data": {
            "text/plain": [
              "array([ 6.39780276e-01,  5.29002420e-02,  7.83802443e-01, -1.64381521e-02,\n",
              "       -7.70502691e-02, -2.76661111e-01,  2.57343812e+00, -4.97469581e-01,\n",
              "        4.91568619e-01,  5.90142850e-01, -1.96933746e-01, -1.28551816e+00,\n",
              "       -8.70536313e-01,  4.99006576e-01,  2.71320899e+00,  7.32124421e-01,\n",
              "       -2.53000108e-01,  7.02783314e-01, -7.12613480e-01,  1.59907055e+00,\n",
              "        2.94304215e+00,  9.61893193e+00,  1.70282964e+01,  2.11082351e+01,\n",
              "        2.38726351e+01, -1.31643386e+00,  2.15990753e+00,  6.08311246e+00,\n",
              "        1.05255527e+01,  1.31421256e+01,  1.47900541e+01,  1.56599073e+01,\n",
              "       -2.83871492e+00])"
            ]
          },
          "metadata": {},
          "execution_count": 138
        }
      ]
    },
    {
      "cell_type": "code",
      "source": [
        "lin_reg.intercept_ # w_0 : y-intercept or bias"
      ],
      "metadata": {
        "id": "6vy_EYB_VfNb",
        "colab": {
          "base_uri": "https://localhost:8080/"
        },
        "outputId": "f77ae165-51bd-4432-bc21-2b26bd7654d7"
      },
      "execution_count": null,
      "outputs": [
        {
          "output_type": "execute_result",
          "data": {
            "text/plain": [
              "65.15450048136799"
            ]
          },
          "metadata": {},
          "execution_count": 139
        }
      ]
    },
    {
      "cell_type": "code",
      "source": [
        "# 훈련셋과 직선의 방정식(선형 회귀식) 시각화\n",
        "# plt.scatter(X, y)\n",
        "\n",
        "# x = np.array([10,50]) # x values\n",
        "# y = lin_reg.intercept_ + lin_reg.coef_[0] * x # y_hat\n",
        "\n",
        "# plt.plot(x,y,'r')\n",
        "\n",
        "# plt.grid();"
      ],
      "metadata": {
        "id": "ktBa3UGAVgiC"
      },
      "execution_count": null,
      "outputs": []
    },
    {
      "cell_type": "code",
      "source": [
        "# RMSE\n",
        "print('RMSE_train = ', np.sqrt(mean_squared_error(y_train, lin_reg.predict(X_train))))\n",
        "print('RMSE_test = ', np.sqrt(mean_squared_error(y_test, lin_reg.predict(X_test))))"
      ],
      "metadata": {
        "id": "x3p5lMThVj3c",
        "colab": {
          "base_uri": "https://localhost:8080/"
        },
        "outputId": "06ef0072-c8b9-4480-f140-2d8491fde991"
      },
      "execution_count": null,
      "outputs": [
        {
          "output_type": "stream",
          "name": "stdout",
          "text": [
            "RMSE_train =  22.382801469382937\n",
            "RMSE_test =  22.28471357274839\n"
          ]
        }
      ]
    },
    {
      "cell_type": "code",
      "source": [
        "# R^2\n",
        "print('R2_train = ',r2_score(y_train, lin_reg.predict(X_train)))\n",
        "print('R2_test = ',r2_score(y_test, lin_reg.predict(X_test)))"
      ],
      "metadata": {
        "id": "onZumjC4Vlhz",
        "colab": {
          "base_uri": "https://localhost:8080/"
        },
        "outputId": "3e5d7579-079f-4785-c2d0-ac36cd9b196b"
      },
      "execution_count": null,
      "outputs": [
        {
          "output_type": "stream",
          "name": "stdout",
          "text": [
            "R2_train =  0.1086942661927972\n",
            "R2_test =  0.11094717893683093\n"
          ]
        }
      ]
    },
    {
      "cell_type": "code",
      "source": [
        "number = 20\n",
        "\n",
        "predicted_val = lin_reg.predict(X_test[:number])\n",
        "\n",
        "pd.DataFrame(data={'predicted': np.round(predicted_val,2),\n",
        "                   'Actual' : y_test[:number],\n",
        "                   'residual' : np.round(predicted_val,2) - y_test[:number]})"
      ],
      "metadata": {
        "colab": {
          "base_uri": "https://localhost:8080/",
          "height": 677
        },
        "id": "EEqzIdb7UbBT",
        "outputId": "187774b6-85fa-44b7-cc60-9b5eb54e72c2"
      },
      "execution_count": null,
      "outputs": [
        {
          "output_type": "execute_result",
          "data": {
            "text/html": [
              "\n",
              "  <div id=\"df-958f8992-5df9-496e-b382-7caa2c008f46\">\n",
              "    <div class=\"colab-df-container\">\n",
              "      <div>\n",
              "<style scoped>\n",
              "    .dataframe tbody tr th:only-of-type {\n",
              "        vertical-align: middle;\n",
              "    }\n",
              "\n",
              "    .dataframe tbody tr th {\n",
              "        vertical-align: top;\n",
              "    }\n",
              "\n",
              "    .dataframe thead th {\n",
              "        text-align: right;\n",
              "    }\n",
              "</style>\n",
              "<table border=\"1\" class=\"dataframe\">\n",
              "  <thead>\n",
              "    <tr style=\"text-align: right;\">\n",
              "      <th></th>\n",
              "      <th>predicted</th>\n",
              "      <th>Actual</th>\n",
              "      <th>residual</th>\n",
              "    </tr>\n",
              "  </thead>\n",
              "  <tbody>\n",
              "    <tr>\n",
              "      <th>0</th>\n",
              "      <td>92.88</td>\n",
              "      <td>129.0</td>\n",
              "      <td>-36.12</td>\n",
              "    </tr>\n",
              "    <tr>\n",
              "      <th>1</th>\n",
              "      <td>100.55</td>\n",
              "      <td>80.0</td>\n",
              "      <td>20.55</td>\n",
              "    </tr>\n",
              "    <tr>\n",
              "      <th>2</th>\n",
              "      <td>111.27</td>\n",
              "      <td>110.0</td>\n",
              "      <td>1.27</td>\n",
              "    </tr>\n",
              "    <tr>\n",
              "      <th>3</th>\n",
              "      <td>107.92</td>\n",
              "      <td>113.0</td>\n",
              "      <td>-5.08</td>\n",
              "    </tr>\n",
              "    <tr>\n",
              "      <th>4</th>\n",
              "      <td>107.80</td>\n",
              "      <td>110.0</td>\n",
              "      <td>-2.20</td>\n",
              "    </tr>\n",
              "    <tr>\n",
              "      <th>5</th>\n",
              "      <td>89.28</td>\n",
              "      <td>84.0</td>\n",
              "      <td>5.28</td>\n",
              "    </tr>\n",
              "    <tr>\n",
              "      <th>6</th>\n",
              "      <td>103.24</td>\n",
              "      <td>80.0</td>\n",
              "      <td>23.24</td>\n",
              "    </tr>\n",
              "    <tr>\n",
              "      <th>7</th>\n",
              "      <td>103.08</td>\n",
              "      <td>89.0</td>\n",
              "      <td>14.08</td>\n",
              "    </tr>\n",
              "    <tr>\n",
              "      <th>8</th>\n",
              "      <td>83.54</td>\n",
              "      <td>95.0</td>\n",
              "      <td>-11.46</td>\n",
              "    </tr>\n",
              "    <tr>\n",
              "      <th>9</th>\n",
              "      <td>113.95</td>\n",
              "      <td>137.0</td>\n",
              "      <td>-23.05</td>\n",
              "    </tr>\n",
              "    <tr>\n",
              "      <th>10</th>\n",
              "      <td>102.92</td>\n",
              "      <td>101.0</td>\n",
              "      <td>1.92</td>\n",
              "    </tr>\n",
              "    <tr>\n",
              "      <th>11</th>\n",
              "      <td>86.69</td>\n",
              "      <td>90.0</td>\n",
              "      <td>-3.31</td>\n",
              "    </tr>\n",
              "    <tr>\n",
              "      <th>12</th>\n",
              "      <td>93.42</td>\n",
              "      <td>80.0</td>\n",
              "      <td>13.42</td>\n",
              "    </tr>\n",
              "    <tr>\n",
              "      <th>13</th>\n",
              "      <td>105.21</td>\n",
              "      <td>106.0</td>\n",
              "      <td>-0.79</td>\n",
              "    </tr>\n",
              "    <tr>\n",
              "      <th>14</th>\n",
              "      <td>101.88</td>\n",
              "      <td>85.0</td>\n",
              "      <td>16.88</td>\n",
              "    </tr>\n",
              "    <tr>\n",
              "      <th>15</th>\n",
              "      <td>97.50</td>\n",
              "      <td>93.0</td>\n",
              "      <td>4.50</td>\n",
              "    </tr>\n",
              "    <tr>\n",
              "      <th>16</th>\n",
              "      <td>93.50</td>\n",
              "      <td>98.0</td>\n",
              "      <td>-4.50</td>\n",
              "    </tr>\n",
              "    <tr>\n",
              "      <th>17</th>\n",
              "      <td>93.40</td>\n",
              "      <td>92.0</td>\n",
              "      <td>1.40</td>\n",
              "    </tr>\n",
              "    <tr>\n",
              "      <th>18</th>\n",
              "      <td>97.60</td>\n",
              "      <td>82.0</td>\n",
              "      <td>15.60</td>\n",
              "    </tr>\n",
              "    <tr>\n",
              "      <th>19</th>\n",
              "      <td>94.01</td>\n",
              "      <td>97.0</td>\n",
              "      <td>-2.99</td>\n",
              "    </tr>\n",
              "  </tbody>\n",
              "</table>\n",
              "</div>\n",
              "      <button class=\"colab-df-convert\" onclick=\"convertToInteractive('df-958f8992-5df9-496e-b382-7caa2c008f46')\"\n",
              "              title=\"Convert this dataframe to an interactive table.\"\n",
              "              style=\"display:none;\">\n",
              "        \n",
              "  <svg xmlns=\"http://www.w3.org/2000/svg\" height=\"24px\"viewBox=\"0 0 24 24\"\n",
              "       width=\"24px\">\n",
              "    <path d=\"M0 0h24v24H0V0z\" fill=\"none\"/>\n",
              "    <path d=\"M18.56 5.44l.94 2.06.94-2.06 2.06-.94-2.06-.94-.94-2.06-.94 2.06-2.06.94zm-11 1L8.5 8.5l.94-2.06 2.06-.94-2.06-.94L8.5 2.5l-.94 2.06-2.06.94zm10 10l.94 2.06.94-2.06 2.06-.94-2.06-.94-.94-2.06-.94 2.06-2.06.94z\"/><path d=\"M17.41 7.96l-1.37-1.37c-.4-.4-.92-.59-1.43-.59-.52 0-1.04.2-1.43.59L10.3 9.45l-7.72 7.72c-.78.78-.78 2.05 0 2.83L4 21.41c.39.39.9.59 1.41.59.51 0 1.02-.2 1.41-.59l7.78-7.78 2.81-2.81c.8-.78.8-2.07 0-2.86zM5.41 20L4 18.59l7.72-7.72 1.47 1.35L5.41 20z\"/>\n",
              "  </svg>\n",
              "      </button>\n",
              "      \n",
              "  <style>\n",
              "    .colab-df-container {\n",
              "      display:flex;\n",
              "      flex-wrap:wrap;\n",
              "      gap: 12px;\n",
              "    }\n",
              "\n",
              "    .colab-df-convert {\n",
              "      background-color: #E8F0FE;\n",
              "      border: none;\n",
              "      border-radius: 50%;\n",
              "      cursor: pointer;\n",
              "      display: none;\n",
              "      fill: #1967D2;\n",
              "      height: 32px;\n",
              "      padding: 0 0 0 0;\n",
              "      width: 32px;\n",
              "    }\n",
              "\n",
              "    .colab-df-convert:hover {\n",
              "      background-color: #E2EBFA;\n",
              "      box-shadow: 0px 1px 2px rgba(60, 64, 67, 0.3), 0px 1px 3px 1px rgba(60, 64, 67, 0.15);\n",
              "      fill: #174EA6;\n",
              "    }\n",
              "\n",
              "    [theme=dark] .colab-df-convert {\n",
              "      background-color: #3B4455;\n",
              "      fill: #D2E3FC;\n",
              "    }\n",
              "\n",
              "    [theme=dark] .colab-df-convert:hover {\n",
              "      background-color: #434B5C;\n",
              "      box-shadow: 0px 1px 3px 1px rgba(0, 0, 0, 0.15);\n",
              "      filter: drop-shadow(0px 1px 2px rgba(0, 0, 0, 0.3));\n",
              "      fill: #FFFFFF;\n",
              "    }\n",
              "  </style>\n",
              "\n",
              "      <script>\n",
              "        const buttonEl =\n",
              "          document.querySelector('#df-958f8992-5df9-496e-b382-7caa2c008f46 button.colab-df-convert');\n",
              "        buttonEl.style.display =\n",
              "          google.colab.kernel.accessAllowed ? 'block' : 'none';\n",
              "\n",
              "        async function convertToInteractive(key) {\n",
              "          const element = document.querySelector('#df-958f8992-5df9-496e-b382-7caa2c008f46');\n",
              "          const dataTable =\n",
              "            await google.colab.kernel.invokeFunction('convertToInteractive',\n",
              "                                                     [key], {});\n",
              "          if (!dataTable) return;\n",
              "\n",
              "          const docLinkHtml = 'Like what you see? Visit the ' +\n",
              "            '<a target=\"_blank\" href=https://colab.research.google.com/notebooks/data_table.ipynb>data table notebook</a>'\n",
              "            + ' to learn more about interactive tables.';\n",
              "          element.innerHTML = '';\n",
              "          dataTable['output_type'] = 'display_data';\n",
              "          await google.colab.output.renderOutput(dataTable, element);\n",
              "          const docLink = document.createElement('div');\n",
              "          docLink.innerHTML = docLinkHtml;\n",
              "          element.appendChild(docLink);\n",
              "        }\n",
              "      </script>\n",
              "    </div>\n",
              "  </div>\n",
              "  "
            ],
            "text/plain": [
              "    predicted  Actual  residual\n",
              "0       92.88   129.0    -36.12\n",
              "1      100.55    80.0     20.55\n",
              "2      111.27   110.0      1.27\n",
              "3      107.92   113.0     -5.08\n",
              "4      107.80   110.0     -2.20\n",
              "5       89.28    84.0      5.28\n",
              "6      103.24    80.0     23.24\n",
              "7      103.08    89.0     14.08\n",
              "8       83.54    95.0    -11.46\n",
              "9      113.95   137.0    -23.05\n",
              "10     102.92   101.0      1.92\n",
              "11      86.69    90.0     -3.31\n",
              "12      93.42    80.0     13.42\n",
              "13     105.21   106.0     -0.79\n",
              "14     101.88    85.0     16.88\n",
              "15      97.50    93.0      4.50\n",
              "16      93.50    98.0     -4.50\n",
              "17      93.40    92.0      1.40\n",
              "18      97.60    82.0     15.60\n",
              "19      94.01    97.0     -2.99"
            ]
          },
          "metadata": {},
          "execution_count": 143
        }
      ]
    },
    {
      "cell_type": "markdown",
      "source": [
        "## Ridge"
      ],
      "metadata": {
        "id": "TrM0IKjHWfCL"
      }
    },
    {
      "cell_type": "code",
      "source": [
        "# scaler = StandardScaler()\n",
        "# reg = Ridge(alpha=0.0001)  # SGDRegressor의 alpha 기본값 사용\n",
        "# model_ridge = Pipeline(steps=[('scaler', scaler),\n",
        "#                          ('reg', reg)])"
      ],
      "metadata": {
        "id": "8Cts6mIaWfc8"
      },
      "execution_count": null,
      "outputs": []
    },
    {
      "cell_type": "code",
      "source": [
        "model_ridge = Ridge(alpha=1e-5)"
      ],
      "metadata": {
        "id": "XqGPWZsufY_8"
      },
      "execution_count": null,
      "outputs": []
    },
    {
      "cell_type": "code",
      "source": [
        "model_ridge.fit(X_train, y_train)"
      ],
      "metadata": {
        "colab": {
          "base_uri": "https://localhost:8080/"
        },
        "id": "HLEv88kPfQfr",
        "outputId": "87e153b6-c053-47e5-c5a5-a4597981e109"
      },
      "execution_count": null,
      "outputs": [
        {
          "output_type": "execute_result",
          "data": {
            "text/plain": [
              "Ridge(alpha=1e-05)"
            ]
          },
          "metadata": {},
          "execution_count": 146
        }
      ]
    },
    {
      "cell_type": "code",
      "source": [
        "print('RMSE_train = ', np.sqrt(mean_squared_error(y_train, model_ridge.predict(X_train))))\n",
        "print('RMSE_test = ', np.sqrt(mean_squared_error(y_test, model_ridge.predict(X_test))))"
      ],
      "metadata": {
        "colab": {
          "base_uri": "https://localhost:8080/"
        },
        "id": "eetOy8n2fmXI",
        "outputId": "7c575380-ae28-45fa-cc5d-289f45c4898b"
      },
      "execution_count": null,
      "outputs": [
        {
          "output_type": "stream",
          "name": "stdout",
          "text": [
            "RMSE_train =  22.382801469382937\n",
            "RMSE_test =  22.284713572851796\n"
          ]
        }
      ]
    }
  ]
}